{
 "cells": [
  {
   "cell_type": "code",
   "execution_count": 1,
   "id": "cb449455-4e53-4a28-93a3-e806e696e2e2",
   "metadata": {
    "execution": {
     "iopub.execute_input": "2022-01-09T15:58:45.398814Z",
     "iopub.status.busy": "2022-01-09T15:58:45.397779Z",
     "iopub.status.idle": "2022-01-09T15:58:46.681776Z",
     "shell.execute_reply": "2022-01-09T15:58:46.681776Z",
     "shell.execute_reply.started": "2022-01-09T15:58:45.397779Z"
    },
    "tags": []
   },
   "outputs": [],
   "source": [
    "from xgboost import XGBClassifier\n",
    "from matplotlib import pyplot as plt\n",
    "import pandas as pd\n",
    "import numpy as np\n",
    "from sklearn.model_selection import train_test_split,GridSearchCV\n",
    "import plotly.express as px\n",
    "from sklearn.metrics import matthews_corrcoef,confusion_matrix,make_scorer\n",
    "import seaborn as sns"
   ]
  },
  {
   "cell_type": "code",
   "execution_count": 2,
   "id": "d3b4f3c0-33dd-4e96-bfdc-5febda678d99",
   "metadata": {
    "execution": {
     "iopub.execute_input": "2022-01-09T15:59:26.668900Z",
     "iopub.status.busy": "2022-01-09T15:59:26.668900Z",
     "iopub.status.idle": "2022-01-09T15:59:47.114292Z",
     "shell.execute_reply": "2022-01-09T15:59:47.113706Z",
     "shell.execute_reply.started": "2022-01-09T15:59:26.668900Z"
    },
    "tags": []
   },
   "outputs": [],
   "source": [
    "df = pd.read_csv('dataset/FE_1.csv')"
   ]
  },
  {
   "cell_type": "code",
   "execution_count": 3,
   "id": "d166b7f2-67f6-4f9a-a419-79227f311d03",
   "metadata": {
    "execution": {
     "iopub.execute_input": "2022-01-09T15:59:47.114292Z",
     "iopub.status.busy": "2022-01-09T15:59:47.114292Z",
     "iopub.status.idle": "2022-01-09T15:59:47.271956Z",
     "shell.execute_reply": "2022-01-09T15:59:47.271956Z",
     "shell.execute_reply.started": "2022-01-09T15:59:47.114292Z"
    }
   },
   "outputs": [
    {
     "data": {
      "text/html": [
       "<div>\n",
       "<style scoped>\n",
       "    .dataframe tbody tr th:only-of-type {\n",
       "        vertical-align: middle;\n",
       "    }\n",
       "\n",
       "    .dataframe tbody tr th {\n",
       "        vertical-align: top;\n",
       "    }\n",
       "\n",
       "    .dataframe thead th {\n",
       "        text-align: right;\n",
       "    }\n",
       "</style>\n",
       "<table border=\"1\" class=\"dataframe\">\n",
       "  <thead>\n",
       "    <tr style=\"text-align: right;\">\n",
       "      <th></th>\n",
       "      <th>Id</th>\n",
       "      <th>L0_S0_F0</th>\n",
       "      <th>L0_S0_F2</th>\n",
       "      <th>L0_S0_F4</th>\n",
       "      <th>L0_S0_F6</th>\n",
       "      <th>L0_S0_F10</th>\n",
       "      <th>L0_S0_F22</th>\n",
       "      <th>L0_S1_F28</th>\n",
       "      <th>L3_S29_F3333</th>\n",
       "      <th>L3_S29_F3339</th>\n",
       "      <th>...</th>\n",
       "      <th>S48_duration_next_diff</th>\n",
       "      <th>S7_duration_prev_diff</th>\n",
       "      <th>S7_duration_next_diff</th>\n",
       "      <th>S20_duration_prev_diff</th>\n",
       "      <th>S20_duration_next_diff</th>\n",
       "      <th>S24_duration_prev_diff</th>\n",
       "      <th>S24_duration_next_diff</th>\n",
       "      <th>S3_duration_prev_diff</th>\n",
       "      <th>S3_duration_next_diff</th>\n",
       "      <th>Response</th>\n",
       "    </tr>\n",
       "  </thead>\n",
       "  <tbody>\n",
       "    <tr>\n",
       "      <th>0</th>\n",
       "      <td>4</td>\n",
       "      <td>0.030</td>\n",
       "      <td>-0.034</td>\n",
       "      <td>-0.197</td>\n",
       "      <td>-0.179</td>\n",
       "      <td>0.116</td>\n",
       "      <td>-0.273</td>\n",
       "      <td>0.167</td>\n",
       "      <td>0.044</td>\n",
       "      <td>0.010</td>\n",
       "      <td>...</td>\n",
       "      <td>NaN</td>\n",
       "      <td>NaN</td>\n",
       "      <td>NaN</td>\n",
       "      <td>NaN</td>\n",
       "      <td>NaN</td>\n",
       "      <td>NaN</td>\n",
       "      <td>NaN</td>\n",
       "      <td>NaN</td>\n",
       "      <td>NaN</td>\n",
       "      <td>0</td>\n",
       "    </tr>\n",
       "    <tr>\n",
       "      <th>1</th>\n",
       "      <td>6</td>\n",
       "      <td>NaN</td>\n",
       "      <td>NaN</td>\n",
       "      <td>NaN</td>\n",
       "      <td>NaN</td>\n",
       "      <td>NaN</td>\n",
       "      <td>NaN</td>\n",
       "      <td>NaN</td>\n",
       "      <td>-0.006</td>\n",
       "      <td>-0.064</td>\n",
       "      <td>...</td>\n",
       "      <td>NaN</td>\n",
       "      <td>NaN</td>\n",
       "      <td>NaN</td>\n",
       "      <td>NaN</td>\n",
       "      <td>NaN</td>\n",
       "      <td>NaN</td>\n",
       "      <td>NaN</td>\n",
       "      <td>NaN</td>\n",
       "      <td>NaN</td>\n",
       "      <td>0</td>\n",
       "    </tr>\n",
       "    <tr>\n",
       "      <th>2</th>\n",
       "      <td>7</td>\n",
       "      <td>0.088</td>\n",
       "      <td>0.086</td>\n",
       "      <td>0.003</td>\n",
       "      <td>-0.052</td>\n",
       "      <td>0.025</td>\n",
       "      <td>0.250</td>\n",
       "      <td>-0.079</td>\n",
       "      <td>0.006</td>\n",
       "      <td>0.040</td>\n",
       "      <td>...</td>\n",
       "      <td>NaN</td>\n",
       "      <td>NaN</td>\n",
       "      <td>NaN</td>\n",
       "      <td>NaN</td>\n",
       "      <td>NaN</td>\n",
       "      <td>NaN</td>\n",
       "      <td>NaN</td>\n",
       "      <td>NaN</td>\n",
       "      <td>NaN</td>\n",
       "      <td>0</td>\n",
       "    </tr>\n",
       "    <tr>\n",
       "      <th>3</th>\n",
       "      <td>9</td>\n",
       "      <td>-0.036</td>\n",
       "      <td>-0.064</td>\n",
       "      <td>0.294</td>\n",
       "      <td>0.330</td>\n",
       "      <td>0.161</td>\n",
       "      <td>-0.253</td>\n",
       "      <td>-0.007</td>\n",
       "      <td>0.038</td>\n",
       "      <td>0.014</td>\n",
       "      <td>...</td>\n",
       "      <td>NaN</td>\n",
       "      <td>NaN</td>\n",
       "      <td>0.0</td>\n",
       "      <td>NaN</td>\n",
       "      <td>NaN</td>\n",
       "      <td>NaN</td>\n",
       "      <td>NaN</td>\n",
       "      <td>NaN</td>\n",
       "      <td>NaN</td>\n",
       "      <td>0</td>\n",
       "    </tr>\n",
       "    <tr>\n",
       "      <th>4</th>\n",
       "      <td>11</td>\n",
       "      <td>-0.055</td>\n",
       "      <td>-0.086</td>\n",
       "      <td>0.294</td>\n",
       "      <td>0.330</td>\n",
       "      <td>0.025</td>\n",
       "      <td>0.042</td>\n",
       "      <td>-0.046</td>\n",
       "      <td>-0.163</td>\n",
       "      <td>0.053</td>\n",
       "      <td>...</td>\n",
       "      <td>NaN</td>\n",
       "      <td>0.0</td>\n",
       "      <td>0.0</td>\n",
       "      <td>NaN</td>\n",
       "      <td>NaN</td>\n",
       "      <td>NaN</td>\n",
       "      <td>NaN</td>\n",
       "      <td>NaN</td>\n",
       "      <td>0.0</td>\n",
       "      <td>0</td>\n",
       "    </tr>\n",
       "    <tr>\n",
       "      <th>...</th>\n",
       "      <td>...</td>\n",
       "      <td>...</td>\n",
       "      <td>...</td>\n",
       "      <td>...</td>\n",
       "      <td>...</td>\n",
       "      <td>...</td>\n",
       "      <td>...</td>\n",
       "      <td>...</td>\n",
       "      <td>...</td>\n",
       "      <td>...</td>\n",
       "      <td>...</td>\n",
       "      <td>...</td>\n",
       "      <td>...</td>\n",
       "      <td>...</td>\n",
       "      <td>...</td>\n",
       "      <td>...</td>\n",
       "      <td>...</td>\n",
       "      <td>...</td>\n",
       "      <td>...</td>\n",
       "      <td>...</td>\n",
       "      <td>...</td>\n",
       "    </tr>\n",
       "    <tr>\n",
       "      <th>1183742</th>\n",
       "      <td>2367490</td>\n",
       "      <td>-0.023</td>\n",
       "      <td>0.033</td>\n",
       "      <td>-0.015</td>\n",
       "      <td>-0.016</td>\n",
       "      <td>0.070</td>\n",
       "      <td>0.159</td>\n",
       "      <td>-0.056</td>\n",
       "      <td>0.013</td>\n",
       "      <td>-0.116</td>\n",
       "      <td>...</td>\n",
       "      <td>NaN</td>\n",
       "      <td>NaN</td>\n",
       "      <td>NaN</td>\n",
       "      <td>NaN</td>\n",
       "      <td>NaN</td>\n",
       "      <td>NaN</td>\n",
       "      <td>NaN</td>\n",
       "      <td>NaN</td>\n",
       "      <td>NaN</td>\n",
       "      <td>0</td>\n",
       "    </tr>\n",
       "    <tr>\n",
       "      <th>1183743</th>\n",
       "      <td>2367491</td>\n",
       "      <td>NaN</td>\n",
       "      <td>NaN</td>\n",
       "      <td>NaN</td>\n",
       "      <td>NaN</td>\n",
       "      <td>NaN</td>\n",
       "      <td>NaN</td>\n",
       "      <td>NaN</td>\n",
       "      <td>0.025</td>\n",
       "      <td>-0.025</td>\n",
       "      <td>...</td>\n",
       "      <td>NaN</td>\n",
       "      <td>NaN</td>\n",
       "      <td>NaN</td>\n",
       "      <td>NaN</td>\n",
       "      <td>NaN</td>\n",
       "      <td>NaN</td>\n",
       "      <td>NaN</td>\n",
       "      <td>NaN</td>\n",
       "      <td>NaN</td>\n",
       "      <td>0</td>\n",
       "    </tr>\n",
       "    <tr>\n",
       "      <th>1183744</th>\n",
       "      <td>2367492</td>\n",
       "      <td>0.075</td>\n",
       "      <td>0.123</td>\n",
       "      <td>-0.343</td>\n",
       "      <td>-0.325</td>\n",
       "      <td>0.161</td>\n",
       "      <td>0.046</td>\n",
       "      <td>-0.103</td>\n",
       "      <td>0.025</td>\n",
       "      <td>-0.064</td>\n",
       "      <td>...</td>\n",
       "      <td>NaN</td>\n",
       "      <td>NaN</td>\n",
       "      <td>NaN</td>\n",
       "      <td>NaN</td>\n",
       "      <td>NaN</td>\n",
       "      <td>NaN</td>\n",
       "      <td>NaN</td>\n",
       "      <td>NaN</td>\n",
       "      <td>0.0</td>\n",
       "      <td>0</td>\n",
       "    </tr>\n",
       "    <tr>\n",
       "      <th>1183745</th>\n",
       "      <td>2367493</td>\n",
       "      <td>-0.062</td>\n",
       "      <td>-0.019</td>\n",
       "      <td>-0.179</td>\n",
       "      <td>-0.179</td>\n",
       "      <td>0.116</td>\n",
       "      <td>0.156</td>\n",
       "      <td>-0.045</td>\n",
       "      <td>-0.056</td>\n",
       "      <td>0.131</td>\n",
       "      <td>...</td>\n",
       "      <td>NaN</td>\n",
       "      <td>NaN</td>\n",
       "      <td>0.0</td>\n",
       "      <td>NaN</td>\n",
       "      <td>NaN</td>\n",
       "      <td>NaN</td>\n",
       "      <td>NaN</td>\n",
       "      <td>0.0</td>\n",
       "      <td>NaN</td>\n",
       "      <td>0</td>\n",
       "    </tr>\n",
       "    <tr>\n",
       "      <th>1183746</th>\n",
       "      <td>2367495</td>\n",
       "      <td>-0.023</td>\n",
       "      <td>0.019</td>\n",
       "      <td>-0.033</td>\n",
       "      <td>-0.052</td>\n",
       "      <td>0.161</td>\n",
       "      <td>0.143</td>\n",
       "      <td>0.086</td>\n",
       "      <td>0.013</td>\n",
       "      <td>0.079</td>\n",
       "      <td>...</td>\n",
       "      <td>NaN</td>\n",
       "      <td>0.0</td>\n",
       "      <td>NaN</td>\n",
       "      <td>NaN</td>\n",
       "      <td>NaN</td>\n",
       "      <td>NaN</td>\n",
       "      <td>NaN</td>\n",
       "      <td>NaN</td>\n",
       "      <td>NaN</td>\n",
       "      <td>0</td>\n",
       "    </tr>\n",
       "  </tbody>\n",
       "</table>\n",
       "<p>1183747 rows × 484 columns</p>\n",
       "</div>"
      ],
      "text/plain": [
       "              Id  L0_S0_F0  L0_S0_F2  L0_S0_F4  L0_S0_F6  L0_S0_F10  \\\n",
       "0              4     0.030    -0.034    -0.197    -0.179      0.116   \n",
       "1              6       NaN       NaN       NaN       NaN        NaN   \n",
       "2              7     0.088     0.086     0.003    -0.052      0.025   \n",
       "3              9    -0.036    -0.064     0.294     0.330      0.161   \n",
       "4             11    -0.055    -0.086     0.294     0.330      0.025   \n",
       "...          ...       ...       ...       ...       ...        ...   \n",
       "1183742  2367490    -0.023     0.033    -0.015    -0.016      0.070   \n",
       "1183743  2367491       NaN       NaN       NaN       NaN        NaN   \n",
       "1183744  2367492     0.075     0.123    -0.343    -0.325      0.161   \n",
       "1183745  2367493    -0.062    -0.019    -0.179    -0.179      0.116   \n",
       "1183746  2367495    -0.023     0.019    -0.033    -0.052      0.161   \n",
       "\n",
       "         L0_S0_F22  L0_S1_F28  L3_S29_F3333  L3_S29_F3339  ...  \\\n",
       "0           -0.273      0.167         0.044         0.010  ...   \n",
       "1              NaN        NaN        -0.006        -0.064  ...   \n",
       "2            0.250     -0.079         0.006         0.040  ...   \n",
       "3           -0.253     -0.007         0.038         0.014  ...   \n",
       "4            0.042     -0.046        -0.163         0.053  ...   \n",
       "...            ...        ...           ...           ...  ...   \n",
       "1183742      0.159     -0.056         0.013        -0.116  ...   \n",
       "1183743        NaN        NaN         0.025        -0.025  ...   \n",
       "1183744      0.046     -0.103         0.025        -0.064  ...   \n",
       "1183745      0.156     -0.045        -0.056         0.131  ...   \n",
       "1183746      0.143      0.086         0.013         0.079  ...   \n",
       "\n",
       "         S48_duration_next_diff  S7_duration_prev_diff  S7_duration_next_diff  \\\n",
       "0                           NaN                    NaN                    NaN   \n",
       "1                           NaN                    NaN                    NaN   \n",
       "2                           NaN                    NaN                    NaN   \n",
       "3                           NaN                    NaN                    0.0   \n",
       "4                           NaN                    0.0                    0.0   \n",
       "...                         ...                    ...                    ...   \n",
       "1183742                     NaN                    NaN                    NaN   \n",
       "1183743                     NaN                    NaN                    NaN   \n",
       "1183744                     NaN                    NaN                    NaN   \n",
       "1183745                     NaN                    NaN                    0.0   \n",
       "1183746                     NaN                    0.0                    NaN   \n",
       "\n",
       "         S20_duration_prev_diff  S20_duration_next_diff  \\\n",
       "0                           NaN                     NaN   \n",
       "1                           NaN                     NaN   \n",
       "2                           NaN                     NaN   \n",
       "3                           NaN                     NaN   \n",
       "4                           NaN                     NaN   \n",
       "...                         ...                     ...   \n",
       "1183742                     NaN                     NaN   \n",
       "1183743                     NaN                     NaN   \n",
       "1183744                     NaN                     NaN   \n",
       "1183745                     NaN                     NaN   \n",
       "1183746                     NaN                     NaN   \n",
       "\n",
       "         S24_duration_prev_diff  S24_duration_next_diff  \\\n",
       "0                           NaN                     NaN   \n",
       "1                           NaN                     NaN   \n",
       "2                           NaN                     NaN   \n",
       "3                           NaN                     NaN   \n",
       "4                           NaN                     NaN   \n",
       "...                         ...                     ...   \n",
       "1183742                     NaN                     NaN   \n",
       "1183743                     NaN                     NaN   \n",
       "1183744                     NaN                     NaN   \n",
       "1183745                     NaN                     NaN   \n",
       "1183746                     NaN                     NaN   \n",
       "\n",
       "         S3_duration_prev_diff  S3_duration_next_diff  Response  \n",
       "0                          NaN                    NaN         0  \n",
       "1                          NaN                    NaN         0  \n",
       "2                          NaN                    NaN         0  \n",
       "3                          NaN                    NaN         0  \n",
       "4                          NaN                    0.0         0  \n",
       "...                        ...                    ...       ...  \n",
       "1183742                    NaN                    NaN         0  \n",
       "1183743                    NaN                    NaN         0  \n",
       "1183744                    NaN                    0.0         0  \n",
       "1183745                    0.0                    NaN         0  \n",
       "1183746                    NaN                    NaN         0  \n",
       "\n",
       "[1183747 rows x 484 columns]"
      ]
     },
     "execution_count": 3,
     "metadata": {},
     "output_type": "execute_result"
    }
   ],
   "source": [
    "df"
   ]
  },
  {
   "cell_type": "code",
   "execution_count": 4,
   "id": "08b7deba-0a58-4512-b8a4-17c2e50a415a",
   "metadata": {
    "execution": {
     "iopub.execute_input": "2022-01-09T15:59:54.271745Z",
     "iopub.status.busy": "2022-01-09T15:59:54.271745Z",
     "iopub.status.idle": "2022-01-09T15:59:54.305654Z",
     "shell.execute_reply": "2022-01-09T15:59:54.305654Z",
     "shell.execute_reply.started": "2022-01-09T15:59:54.271745Z"
    },
    "tags": []
   },
   "outputs": [
    {
     "name": "stdout",
     "output_type": "stream",
     "text": [
      "類0樣本數量:1176868\n",
      "類1樣本數量:6879\n",
      "類0樣本數量比率為:99.41887920307295 %\n",
      "類1樣本數量比率為:0.581120796927046 %\n"
     ]
    }
   ],
   "source": [
    "# 各類樣本數量\n",
    "print('類0樣本數量:{}'.format(df['Response'].value_counts()[0]))\n",
    "print('類1樣本數量:{}'.format(df['Response'].value_counts()[1]))\n",
    "# 各類樣本比例\n",
    "print('類0樣本數量比率為:{} %'.format((df['Response'].value_counts()[0]/len(df))*100))\n",
    "print('類1樣本數量比率為:{} %'.format((df['Response'].value_counts()[1]/len(df))*100))"
   ]
  },
  {
   "cell_type": "code",
   "execution_count": 5,
   "id": "fef75736-07a8-4b6a-8a4d-ec6052247de3",
   "metadata": {
    "execution": {
     "iopub.execute_input": "2022-01-09T16:00:46.555717Z",
     "iopub.status.busy": "2022-01-09T16:00:46.555717Z",
     "iopub.status.idle": "2022-01-09T16:00:50.654406Z",
     "shell.execute_reply": "2022-01-09T16:00:50.654406Z",
     "shell.execute_reply.started": "2022-01-09T16:00:46.555717Z"
    }
   },
   "outputs": [],
   "source": [
    "X = df.drop(['Id','Response'],axis=1)\n",
    "y = df['Response']\n",
    "X_train, X_test, y_train, y_test = train_test_split(X, y, test_size=0.3, random_state=1, stratify=y)"
   ]
  },
  {
   "cell_type": "code",
   "execution_count": 6,
   "id": "9e0ce8ed-dc15-4224-a5fb-91e0ba4448fd",
   "metadata": {
    "execution": {
     "iopub.execute_input": "2022-01-09T16:00:50.655405Z",
     "iopub.status.busy": "2022-01-09T16:00:50.655405Z",
     "iopub.status.idle": "2022-01-09T16:01:42.842016Z",
     "shell.execute_reply": "2022-01-09T16:01:42.842016Z",
     "shell.execute_reply.started": "2022-01-09T16:00:50.655405Z"
    }
   },
   "outputs": [
    {
     "name": "stdout",
     "output_type": "stream",
     "text": [
      "Our MCC is:  0.26967844258141294\n"
     ]
    },
    {
     "data": {
      "text/plain": [
       "<AxesSubplot:>"
      ]
     },
     "execution_count": 6,
     "metadata": {},
     "output_type": "execute_result"
    },
    {
     "data": {
      "image/png": "[encoded data removed]",
      "text/plain": [
       "<Figure size 432x288 with 2 Axes>"
      ]
     },
     "metadata": {
      "needs_background": "light"
     },
     "output_type": "display_data"
    }
   ],
   "source": [
    "# fit model\n",
    "model = XGBClassifier(n_estimators=150,subsample=1,max_depth=3,learning_rate=0.1,min_child_weight=5,\n",
    "                        colsample_bytree=0.7,scale_pos_weight=1,eval_metric=['logloss','auc','error'],use_label_encoder=False)\n",
    "model.fit(X_train, y_train)\n",
    "\n",
    "# predict data\n",
    "y_pred = model.predict(X_test)\n",
    "print('Our MCC is: ', matthews_corrcoef(y_test, y_pred))\n",
    "\n",
    "mat = confusion_matrix(y_test, y_pred)\n",
    "sns.heatmap(mat,annot=True, cmap='Blues',fmt='g')"
   ]
  },
  {
   "cell_type": "code",
   "execution_count": 7,
   "id": "099f8a35-bb18-4075-a775-95450fc10e9e",
   "metadata": {
    "execution": {
     "iopub.execute_input": "2022-01-09T16:01:42.843015Z",
     "iopub.status.busy": "2022-01-09T16:01:42.843015Z",
     "iopub.status.idle": "2022-01-09T16:01:42.857973Z",
     "shell.execute_reply": "2022-01-09T16:01:42.857973Z",
     "shell.execute_reply.started": "2022-01-09T16:01:42.843015Z"
    }
   },
   "outputs": [],
   "source": [
    "feature_important = model.get_booster().get_score(importance_type='gain')\n",
    "keys = list(feature_important.keys())\n",
    "values = list(feature_important.values())\n",
    "\n",
    "data = pd.DataFrame(data=values, index=keys, columns=[\"gain\"]).sort_values(by = \"gain\", ascending=False)"
   ]
  },
  {
   "cell_type": "code",
   "execution_count": 8,
   "id": "4798f92c-69f1-4ac8-ad9b-a4abbc7eea1f",
   "metadata": {
    "execution": {
     "iopub.execute_input": "2022-01-09T16:01:42.858971Z",
     "iopub.status.busy": "2022-01-09T16:01:42.858971Z",
     "iopub.status.idle": "2022-01-09T16:01:42.873931Z",
     "shell.execute_reply": "2022-01-09T16:01:42.873931Z",
     "shell.execute_reply.started": "2022-01-09T16:01:42.858971Z"
    }
   },
   "outputs": [
    {
     "data": {
      "text/html": [
       "<div>\n",
       "<style scoped>\n",
       "    .dataframe tbody tr th:only-of-type {\n",
       "        vertical-align: middle;\n",
       "    }\n",
       "\n",
       "    .dataframe tbody tr th {\n",
       "        vertical-align: top;\n",
       "    }\n",
       "\n",
       "    .dataframe thead th {\n",
       "        text-align: right;\n",
       "    }\n",
       "</style>\n",
       "<table border=\"1\" class=\"dataframe\">\n",
       "  <thead>\n",
       "    <tr style=\"text-align: right;\">\n",
       "      <th></th>\n",
       "      <th>gain</th>\n",
       "    </tr>\n",
       "  </thead>\n",
       "  <tbody>\n",
       "    <tr>\n",
       "      <th>L3_S33_F3855</th>\n",
       "      <td>201.267410</td>\n",
       "    </tr>\n",
       "    <tr>\n",
       "      <th>S32_duration_next_diff</th>\n",
       "      <td>197.500641</td>\n",
       "    </tr>\n",
       "    <tr>\n",
       "      <th>L3_S34_F3880</th>\n",
       "      <td>128.409988</td>\n",
       "    </tr>\n",
       "    <tr>\n",
       "      <th>L3_duration_next_diff</th>\n",
       "      <td>117.680756</td>\n",
       "    </tr>\n",
       "    <tr>\n",
       "      <th>L3_S33_F3859</th>\n",
       "      <td>107.637184</td>\n",
       "    </tr>\n",
       "    <tr>\n",
       "      <th>...</th>\n",
       "      <td>...</td>\n",
       "    </tr>\n",
       "    <tr>\n",
       "      <th>L0_S1_F28</th>\n",
       "      <td>7.225967</td>\n",
       "    </tr>\n",
       "    <tr>\n",
       "      <th>S12_max</th>\n",
       "      <td>6.003291</td>\n",
       "    </tr>\n",
       "    <tr>\n",
       "      <th>S7_max</th>\n",
       "      <td>5.150658</td>\n",
       "    </tr>\n",
       "    <tr>\n",
       "      <th>S3_mean</th>\n",
       "      <td>5.028337</td>\n",
       "    </tr>\n",
       "    <tr>\n",
       "      <th>L3_S29_F3476</th>\n",
       "      <td>1.731445</td>\n",
       "    </tr>\n",
       "  </tbody>\n",
       "</table>\n",
       "<p>187 rows × 1 columns</p>\n",
       "</div>"
      ],
      "text/plain": [
       "                              gain\n",
       "L3_S33_F3855            201.267410\n",
       "S32_duration_next_diff  197.500641\n",
       "L3_S34_F3880            128.409988\n",
       "L3_duration_next_diff   117.680756\n",
       "L3_S33_F3859            107.637184\n",
       "...                            ...\n",
       "L0_S1_F28                 7.225967\n",
       "S12_max                   6.003291\n",
       "S7_max                    5.150658\n",
       "S3_mean                   5.028337\n",
       "L3_S29_F3476              1.731445\n",
       "\n",
       "[187 rows x 1 columns]"
      ]
     },
     "execution_count": 8,
     "metadata": {},
     "output_type": "execute_result"
    }
   ],
   "source": [
    "data"
   ]
  },
  {
   "cell_type": "code",
   "execution_count": 79,
   "id": "dff86f93-419d-43c0-9cc0-3cad69b64c0a",
   "metadata": {
    "execution": {
     "iopub.execute_input": "2022-01-09T18:30:03.555105Z",
     "iopub.status.busy": "2022-01-09T18:30:03.555105Z",
     "iopub.status.idle": "2022-01-09T18:30:03.573057Z",
     "shell.execute_reply": "2022-01-09T18:30:03.573057Z",
     "shell.execute_reply.started": "2022-01-09T18:30:03.555105Z"
    },
    "tags": []
   },
   "outputs": [
    {
     "data": {
      "text/html": [
       "<div>\n",
       "<style scoped>\n",
       "    .dataframe tbody tr th:only-of-type {\n",
       "        vertical-align: middle;\n",
       "    }\n",
       "\n",
       "    .dataframe tbody tr th {\n",
       "        vertical-align: top;\n",
       "    }\n",
       "\n",
       "    .dataframe thead th {\n",
       "        text-align: right;\n",
       "    }\n",
       "</style>\n",
       "<table border=\"1\" class=\"dataframe\">\n",
       "  <thead>\n",
       "    <tr style=\"text-align: right;\">\n",
       "      <th></th>\n",
       "      <th>gain</th>\n",
       "    </tr>\n",
       "  </thead>\n",
       "  <tbody>\n",
       "    <tr>\n",
       "      <th>L3_S33_F3855</th>\n",
       "      <td>201.267410</td>\n",
       "    </tr>\n",
       "    <tr>\n",
       "      <th>S32_duration_next_diff</th>\n",
       "      <td>197.500641</td>\n",
       "    </tr>\n",
       "    <tr>\n",
       "      <th>L3_S34_F3880</th>\n",
       "      <td>128.409988</td>\n",
       "    </tr>\n",
       "    <tr>\n",
       "      <th>L3_duration_next_diff</th>\n",
       "      <td>117.680756</td>\n",
       "    </tr>\n",
       "    <tr>\n",
       "      <th>L3_S33_F3859</th>\n",
       "      <td>107.637184</td>\n",
       "    </tr>\n",
       "    <tr>\n",
       "      <th>L3_S33_F3865</th>\n",
       "      <td>100.012543</td>\n",
       "    </tr>\n",
       "    <tr>\n",
       "      <th>L0_duration_next_diff</th>\n",
       "      <td>90.585083</td>\n",
       "    </tr>\n",
       "    <tr>\n",
       "      <th>S32_max</th>\n",
       "      <td>90.258514</td>\n",
       "    </tr>\n",
       "    <tr>\n",
       "      <th>L1_duration_next_diff</th>\n",
       "      <td>84.126122</td>\n",
       "    </tr>\n",
       "    <tr>\n",
       "      <th>S32_first</th>\n",
       "      <td>82.785278</td>\n",
       "    </tr>\n",
       "  </tbody>\n",
       "</table>\n",
       "</div>"
      ],
      "text/plain": [
       "                              gain\n",
       "L3_S33_F3855            201.267410\n",
       "S32_duration_next_diff  197.500641\n",
       "L3_S34_F3880            128.409988\n",
       "L3_duration_next_diff   117.680756\n",
       "L3_S33_F3859            107.637184\n",
       "L3_S33_F3865            100.012543\n",
       "L0_duration_next_diff    90.585083\n",
       "S32_max                  90.258514\n",
       "L1_duration_next_diff    84.126122\n",
       "S32_first                82.785278"
      ]
     },
     "execution_count": 79,
     "metadata": {},
     "output_type": "execute_result"
    }
   ],
   "source": [
    "data[0:10]"
   ]
  },
  {
   "cell_type": "code",
   "execution_count": 80,
   "id": "e0f70b01-c1a8-4fca-b1bb-6e9db0dda38f",
   "metadata": {
    "execution": {
     "iopub.execute_input": "2022-01-09T18:30:09.513136Z",
     "iopub.status.busy": "2022-01-09T18:30:09.513136Z",
     "iopub.status.idle": "2022-01-09T18:30:09.523061Z",
     "shell.execute_reply": "2022-01-09T18:30:09.523061Z",
     "shell.execute_reply.started": "2022-01-09T18:30:09.513136Z"
    },
    "tags": []
   },
   "outputs": [
    {
     "data": {
      "text/html": [
       "<div>\n",
       "<style scoped>\n",
       "    .dataframe tbody tr th:only-of-type {\n",
       "        vertical-align: middle;\n",
       "    }\n",
       "\n",
       "    .dataframe tbody tr th {\n",
       "        vertical-align: top;\n",
       "    }\n",
       "\n",
       "    .dataframe thead th {\n",
       "        text-align: right;\n",
       "    }\n",
       "</style>\n",
       "<table border=\"1\" class=\"dataframe\">\n",
       "  <thead>\n",
       "    <tr style=\"text-align: right;\">\n",
       "      <th></th>\n",
       "      <th>gain</th>\n",
       "    </tr>\n",
       "  </thead>\n",
       "  <tbody>\n",
       "    <tr>\n",
       "      <th>S32_last</th>\n",
       "      <td>82.068268</td>\n",
       "    </tr>\n",
       "    <tr>\n",
       "      <th>L3_S33_F3857</th>\n",
       "      <td>80.711731</td>\n",
       "    </tr>\n",
       "    <tr>\n",
       "      <th>S34_max</th>\n",
       "      <td>79.771454</td>\n",
       "    </tr>\n",
       "    <tr>\n",
       "      <th>S24_duration_next_diff</th>\n",
       "      <td>75.087303</td>\n",
       "    </tr>\n",
       "    <tr>\n",
       "      <th>S33_first</th>\n",
       "      <td>71.031578</td>\n",
       "    </tr>\n",
       "    <tr>\n",
       "      <th>S24_duration</th>\n",
       "      <td>70.028252</td>\n",
       "    </tr>\n",
       "    <tr>\n",
       "      <th>S12_duration_next_diff</th>\n",
       "      <td>67.531967</td>\n",
       "    </tr>\n",
       "    <tr>\n",
       "      <th>S14_duration_next_diff</th>\n",
       "      <td>67.310684</td>\n",
       "    </tr>\n",
       "    <tr>\n",
       "      <th>S34_first</th>\n",
       "      <td>66.573730</td>\n",
       "    </tr>\n",
       "    <tr>\n",
       "      <th>L1_first</th>\n",
       "      <td>65.827492</td>\n",
       "    </tr>\n",
       "  </tbody>\n",
       "</table>\n",
       "</div>"
      ],
      "text/plain": [
       "                             gain\n",
       "S32_last                82.068268\n",
       "L3_S33_F3857            80.711731\n",
       "S34_max                 79.771454\n",
       "S24_duration_next_diff  75.087303\n",
       "S33_first               71.031578\n",
       "S24_duration            70.028252\n",
       "S12_duration_next_diff  67.531967\n",
       "S14_duration_next_diff  67.310684\n",
       "S34_first               66.573730\n",
       "L1_first                65.827492"
      ]
     },
     "execution_count": 80,
     "metadata": {},
     "output_type": "execute_result"
    }
   ],
   "source": [
    "data[10:20]"
   ]
  },
  {
   "cell_type": "code",
   "execution_count": 62,
   "id": "fe588631-3eb2-49b7-b006-0b2a02dbf83c",
   "metadata": {
    "execution": {
     "iopub.execute_input": "2022-01-09T18:09:26.551810Z",
     "iopub.status.busy": "2022-01-09T18:09:26.551810Z",
     "iopub.status.idle": "2022-01-09T18:09:26.630630Z",
     "shell.execute_reply": "2022-01-09T18:09:26.630630Z",
     "shell.execute_reply.started": "2022-01-09T18:09:26.551810Z"
    },
    "tags": []
   },
   "outputs": [
    {
     "data": {
      "application/vnd.plotly.v1+json": {
       "config": {
        "plotlyServerURL": "https://plot.ly"
       },
       "data": [
        {
         "alignmentgroup": "True",
         "hovertemplate": "feature name=%{x}<br>gain=%{y}<extra></extra>",
         "legendgroup": "",
         "marker": {
          "color": "#636efa",
          "pattern": {
           "shape": ""
          }
         },
         "name": "",
         "offsetgroup": "",
         "orientation": "v",
         "showlegend": false,
         "textposition": "auto",
         "type": "bar",
         "x": [
          "L3_S33_F3855",
          "S32_duration_next_diff",
          "L3_S34_F3880",
          "L3_duration_next_diff",
          "L3_S33_F3859",
          "L3_S33_F3865",
          "L0_duration_next_diff",
          "S32_max",
          "L1_duration_next_diff",
          "S32_first",
          "S32_last",
          "L3_S33_F3857",
          "S34_max",
          "S24_duration_next_diff",
          "S33_first",
          "S24_duration",
          "S12_duration_next_diff",
          "S14_duration_next_diff",
          "S34_first",
          "L1_first",
          "S33_last",
          "S35_duration_next_diff",
          "L0_last",
          "L3_S29_F3407",
          "L2_duration_next_diff",
          "S26_duration_next_diff",
          "S19_duration_next_diff",
          "L0_first",
          "S3_duration_next_diff",
          "L2_first",
          "L3_duration",
          "S2_duration_next_diff",
          "S29_first",
          "S1_first",
          "S37_first",
          "S32_min",
          "S37_last",
          "S24_first",
          "L3_S34_F3882",
          "S4_duration_next_diff",
          "S34_last",
          "S5_min",
          "S5_duration_next_diff",
          "S22_duration_next_diff",
          "L3_S30_F3704",
          "S10_duration_next_diff",
          "S30_last",
          "S36_duration_next_diff",
          "L2_last",
          "S35_first",
          "L1_mean",
          "S29_last",
          "S16_duration_next_diff",
          "S24_min",
          "S24_last",
          "S30_min",
          "L3_first",
          "S11_duration_next_diff",
          "S18_duration_next_diff",
          "S6_duration_next_diff",
          "S17_duration_next_diff",
          "S24_max",
          "S2_mean",
          "L3_S29_F3351",
          "S25_duration_next_diff",
          "L0_S0_F6",
          "S20_first",
          "L0_S0_F22",
          "S15_duration_next_diff",
          "S33_duration_prev_diff",
          "S24_mean",
          "S33_mean",
          "S30_first",
          "S21_duration_next_diff",
          "L3_S29_F3339",
          "S21_first",
          "L3_S29_F3342",
          "S43_max",
          "L3_S29_F3357",
          "L3_last",
          "S4_first",
          "S38_first",
          "S19_mean",
          "L2_mean",
          "L0_S0_F4",
          "S35_mean",
          "S0_mean",
          "S13_min",
          "S27_duration_next_diff",
          "S0_max",
          "S48_max",
          "S13_max",
          "L0_S0_F2",
          "S7_duration_next_diff",
          "L3_duration_prev_diff",
          "S38_min",
          "S25_mean",
          "S36_min",
          "S27_max",
          "S8_last",
          "L0_max",
          "S16_first",
          "S33_max",
          "L3_S29_F3373",
          "S41_max",
          "S4_min",
          "L0_mean",
          "L3_S30_F3829",
          "L0_duration_prev_diff",
          "L1_min",
          "S3_max",
          "L2_min",
          "S13_first",
          "L3_S29_F3430",
          "L3_S30_F3799",
          "S9_duration_next_diff",
          "S22_last",
          "S26_last",
          "S6_min",
          "S15_max",
          "L3_S30_F3534",
          "S47_max",
          "S33_min",
          "L1_last",
          "S13_mean",
          "S17_first",
          "L3_S29_F3461",
          "L0_min",
          "S25_duration",
          "S27_min",
          "L0_duration",
          "S1_mean",
          "S11_max",
          "S29_mean",
          "L3_S30_F3764",
          "S36_first",
          "S26_first",
          "S19_first",
          "S31_duration_next_diff",
          "S5_first",
          "L3_S30_F3669",
          "S27_first",
          "L3_S30_F3784",
          "S11_min",
          "S4_mean",
          "L3_S30_F3494",
          "S21_max",
          "L3_S29_F3333",
          "S7_first",
          "S36_max",
          "S14_first",
          "L1_max",
          "S41_mean",
          "S49_mean",
          "S10_mean",
          "S25_last",
          "S29_min",
          "S17_mean",
          "S35_max",
          "S30_max",
          "S27_last",
          "S30_mean",
          "S26_mean",
          "S12_duration_prev_diff",
          "S17_min",
          "S16_max",
          "S38_mean",
          "L2_max",
          "S6_mean",
          "S5_mean",
          "L3_S30_F3774",
          "S11_mean",
          "S26_max",
          "L3_S30_F3744",
          "S2_last",
          "S36_mean",
          "S38_max",
          "S5_max",
          "S12_mean",
          "L3_min",
          "S12_min",
          "S9_first",
          "L0_S1_F28",
          "S12_max",
          "S7_max",
          "S3_mean",
          "L3_S29_F3476"
         ],
         "xaxis": "x",
         "y": [
          201.2674102783203,
          197.50064086914062,
          128.4099884033203,
          117.68075561523438,
          107.6371841430664,
          100.01254272460938,
          90.5850830078125,
          90.25851440429688,
          84.1261215209961,
          82.7852783203125,
          82.06826782226562,
          80.71173095703125,
          79.77145385742188,
          75.0873031616211,
          71.03157806396484,
          70.02825164794922,
          67.53196716308594,
          67.31068420410156,
          66.57373046875,
          65.8274917602539,
          65.1729507446289,
          64.1915054321289,
          63.79794692993164,
          58.28365707397461,
          57.455841064453125,
          54.30633544921875,
          53.68619918823242,
          51.22309112548828,
          48.860782623291016,
          48.25047302246094,
          47.83140563964844,
          47.603126525878906,
          47.002376556396484,
          44.60135269165039,
          43.026123046875,
          42.8287467956543,
          42.13785171508789,
          41.649688720703125,
          40.7934455871582,
          40.414512634277344,
          38.584049224853516,
          38.199554443359375,
          37.65155792236328,
          35.8863410949707,
          34.45140838623047,
          33.89087677001953,
          33.84416961669922,
          33.2159309387207,
          33.048919677734375,
          32.556793212890625,
          31.784692764282227,
          31.01061248779297,
          30.959959030151367,
          30.53621482849121,
          30.52301597595215,
          30.149810791015625,
          29.66987419128418,
          28.656970977783203,
          28.449501037597656,
          27.611291885375977,
          26.782804489135742,
          26.5228328704834,
          26.352333068847656,
          25.66599464416504,
          25.65789031982422,
          25.278322219848633,
          25.24721336364746,
          24.659929275512695,
          24.60791015625,
          24.510269165039062,
          24.3648624420166,
          24.014177322387695,
          23.919750213623047,
          23.544483184814453,
          23.293241500854492,
          23.13243865966797,
          22.79460334777832,
          22.754213333129883,
          22.655000686645508,
          22.63151741027832,
          22.337650299072266,
          22.186365127563477,
          22.18320083618164,
          21.999130249023438,
          21.816619873046875,
          21.743999481201172,
          21.290817260742188,
          21.243505477905273,
          20.941089630126953,
          20.807844161987305,
          20.568103790283203,
          20.413776397705078,
          20.337459564208984,
          20.31839942932129,
          19.934446334838867,
          19.823856353759766,
          19.547672271728516,
          19.42715835571289,
          19.29188346862793,
          18.91166877746582,
          18.779037475585938,
          18.68006134033203,
          18.392160415649414,
          18.151443481445312,
          18.019495010375977,
          17.994070053100586,
          17.930118560791016,
          17.572505950927734,
          17.44574546813965,
          17.405609130859375,
          17.368803024291992,
          17.332124710083008,
          17.199298858642578,
          17.187875747680664,
          16.979454040527344,
          16.896751403808594,
          16.86321258544922,
          16.808902740478516,
          16.71747589111328,
          16.584959030151367,
          16.493452072143555,
          16.487106323242188,
          16.264150619506836,
          16.213119506835938,
          16.004146575927734,
          15.995017051696777,
          15.808337211608887,
          15.689667701721191,
          15.447522163391113,
          15.37998104095459,
          15.250249862670898,
          15.083475112915039,
          14.94168758392334,
          14.67332935333252,
          14.579891204833984,
          14.548869132995605,
          14.379668235778809,
          14.369183540344238,
          14.111305236816406,
          13.9580078125,
          13.826499938964844,
          13.651216506958008,
          13.449682235717773,
          13.448141098022461,
          13.389715194702148,
          13.225240707397461,
          13.156763076782227,
          13.050003051757812,
          13.045825004577637,
          12.986136436462402,
          12.911077499389648,
          12.695098876953125,
          12.484718322753906,
          12.462706565856934,
          12.365131378173828,
          12.345224380493164,
          12.174345970153809,
          12.131324768066406,
          12.042670249938965,
          11.82958698272705,
          11.825751304626465,
          11.799257278442383,
          11.765665054321289,
          11.715202331542969,
          11.507796287536621,
          11.433781623840332,
          11.341377258300781,
          11.109766006469727,
          10.868019104003906,
          10.714452743530273,
          10.70382022857666,
          10.539810180664062,
          10.361311912536621,
          10.320633888244629,
          9.546222686767578,
          9.53078556060791,
          9.528487205505371,
          9.259547233581543,
          8.643461227416992,
          8.300945281982422,
          7.641579627990723,
          7.360426902770996,
          7.2259674072265625,
          6.00329065322876,
          5.150658130645752,
          5.028337001800537,
          1.7314453125
         ],
         "yaxis": "y"
        }
       ],
       "layout": {
        "annotations": [
         {
          "showarrow": false,
          "text": "n=5",
          "x": 5,
          "xanchor": "left",
          "xref": "x",
          "y": 1,
          "yanchor": "top",
          "yref": "y domain"
         },
         {
          "showarrow": false,
          "text": "n=10",
          "x": 10,
          "xanchor": "left",
          "xref": "x",
          "y": 1,
          "yanchor": "top",
          "yref": "y domain"
         },
         {
          "showarrow": false,
          "text": "n=20",
          "x": 20,
          "xanchor": "left",
          "xref": "x",
          "y": 1,
          "yanchor": "top",
          "yref": "y domain"
         },
         {
          "showarrow": false,
          "text": "n=30",
          "x": 30,
          "xanchor": "left",
          "xref": "x",
          "y": 1,
          "yanchor": "top",
          "yref": "y domain"
         },
         {
          "showarrow": false,
          "text": "n=40",
          "x": 40,
          "xanchor": "left",
          "xref": "x",
          "y": 1,
          "yanchor": "top",
          "yref": "y domain"
         },
         {
          "showarrow": false,
          "text": "n=50",
          "x": 50,
          "xanchor": "left",
          "xref": "x",
          "y": 1,
          "yanchor": "top",
          "yref": "y domain"
         }
        ],
        "barmode": "relative",
        "height": 800,
        "legend": {
         "tracegroupgap": 0
        },
        "shapes": [
         {
          "line": {
           "color": "blue",
           "dash": "dash",
           "width": 3
          },
          "type": "line",
          "x0": 5,
          "x1": 5,
          "xref": "x",
          "y0": 0,
          "y1": 1,
          "yref": "y domain"
         },
         {
          "line": {
           "color": "green",
           "dash": "dash",
           "width": 3
          },
          "type": "line",
          "x0": 10,
          "x1": 10,
          "xref": "x",
          "y0": 0,
          "y1": 1,
          "yref": "y domain"
         },
         {
          "line": {
           "color": "crimson",
           "dash": "dash",
           "width": 3
          },
          "type": "line",
          "x0": 20,
          "x1": 20,
          "xref": "x",
          "y0": 0,
          "y1": 1,
          "yref": "y domain"
         },
         {
          "line": {
           "color": "darkturquoise",
           "dash": "dash",
           "width": 3
          },
          "type": "line",
          "x0": 30,
          "x1": 30,
          "xref": "x",
          "y0": 0,
          "y1": 1,
          "yref": "y domain"
         },
         {
          "line": {
           "color": "darkviolet",
           "dash": "dash",
           "width": 3
          },
          "type": "line",
          "x0": 40,
          "x1": 40,
          "xref": "x",
          "y0": 0,
          "y1": 1,
          "yref": "y domain"
         },
         {
          "line": {
           "color": "orange",
           "dash": "dash",
           "width": 3
          },
          "type": "line",
          "x0": 50,
          "x1": 50,
          "xref": "x",
          "y0": 0,
          "y1": 1,
          "yref": "y domain"
         }
        ],
        "template": {
         "data": {
          "bar": [
           {
            "error_x": {
             "color": "#2a3f5f"
            },
            "error_y": {
             "color": "#2a3f5f"
            },
            "marker": {
             "line": {
              "color": "#E5ECF6",
              "width": 0.5
             },
             "pattern": {
              "fillmode": "overlay",
              "size": 10,
              "solidity": 0.2
             }
            },
            "type": "bar"
           }
          ],
          "barpolar": [
           {
            "marker": {
             "line": {
              "color": "#E5ECF6",
              "width": 0.5
             },
             "pattern": {
              "fillmode": "overlay",
              "size": 10,
              "solidity": 0.2
             }
            },
            "type": "barpolar"
           }
          ],
          "carpet": [
           {
            "aaxis": {
             "endlinecolor": "#2a3f5f",
             "gridcolor": "white",
             "linecolor": "white",
             "minorgridcolor": "white",
             "startlinecolor": "#2a3f5f"
            },
            "baxis": {
             "endlinecolor": "#2a3f5f",
             "gridcolor": "white",
             "linecolor": "white",
             "minorgridcolor": "white",
             "startlinecolor": "#2a3f5f"
            },
            "type": "carpet"
           }
          ],
          "choropleth": [
           {
            "colorbar": {
             "outlinewidth": 0,
             "ticks": ""
            },
            "type": "choropleth"
           }
          ],
          "contour": [
           {
            "colorbar": {
             "outlinewidth": 0,
             "ticks": ""
            },
            "colorscale": [
             [
              0,
              "#0d0887"
             ],
             [
              0.1111111111111111,
              "#46039f"
             ],
             [
              0.2222222222222222,
              "#7201a8"
             ],
             [
              0.3333333333333333,
              "#9c179e"
             ],
             [
              0.4444444444444444,
              "#bd3786"
             ],
             [
              0.5555555555555556,
              "#d8576b"
             ],
             [
              0.6666666666666666,
              "#ed7953"
             ],
             [
              0.7777777777777778,
              "#fb9f3a"
             ],
             [
              0.8888888888888888,
              "#fdca26"
             ],
             [
              1,
              "#f0f921"
             ]
            ],
            "type": "contour"
           }
          ],
          "contourcarpet": [
           {
            "colorbar": {
             "outlinewidth": 0,
             "ticks": ""
            },
            "type": "contourcarpet"
           }
          ],
          "heatmap": [
           {
            "colorbar": {
             "outlinewidth": 0,
             "ticks": ""
            },
            "colorscale": [
             [
              0,
              "#0d0887"
             ],
             [
              0.1111111111111111,
              "#46039f"
             ],
             [
              0.2222222222222222,
              "#7201a8"
             ],
             [
              0.3333333333333333,
              "#9c179e"
             ],
             [
              0.4444444444444444,
              "#bd3786"
             ],
             [
              0.5555555555555556,
              "#d8576b"
             ],
             [
              0.6666666666666666,
              "#ed7953"
             ],
             [
              0.7777777777777778,
              "#fb9f3a"
             ],
             [
              0.8888888888888888,
              "#fdca26"
             ],
             [
              1,
              "#f0f921"
             ]
            ],
            "type": "heatmap"
           }
          ],
          "heatmapgl": [
           {
            "colorbar": {
             "outlinewidth": 0,
             "ticks": ""
            },
            "colorscale": [
             [
              0,
              "#0d0887"
             ],
             [
              0.1111111111111111,
              "#46039f"
             ],
             [
              0.2222222222222222,
              "#7201a8"
             ],
             [
              0.3333333333333333,
              "#9c179e"
             ],
             [
              0.4444444444444444,
              "#bd3786"
             ],
             [
              0.5555555555555556,
              "#d8576b"
             ],
             [
              0.6666666666666666,
              "#ed7953"
             ],
             [
              0.7777777777777778,
              "#fb9f3a"
             ],
             [
              0.8888888888888888,
              "#fdca26"
             ],
             [
              1,
              "#f0f921"
             ]
            ],
            "type": "heatmapgl"
           }
          ],
          "histogram": [
           {
            "marker": {
             "pattern": {
              "fillmode": "overlay",
              "size": 10,
              "solidity": 0.2
             }
            },
            "type": "histogram"
           }
          ],
          "histogram2d": [
           {
            "colorbar": {
             "outlinewidth": 0,
             "ticks": ""
            },
            "colorscale": [
             [
              0,
              "#0d0887"
             ],
             [
              0.1111111111111111,
              "#46039f"
             ],
             [
              0.2222222222222222,
              "#7201a8"
             ],
             [
              0.3333333333333333,
              "#9c179e"
             ],
             [
              0.4444444444444444,
              "#bd3786"
             ],
             [
              0.5555555555555556,
              "#d8576b"
             ],
             [
              0.6666666666666666,
              "#ed7953"
             ],
             [
              0.7777777777777778,
              "#fb9f3a"
             ],
             [
              0.8888888888888888,
              "#fdca26"
             ],
             [
              1,
              "#f0f921"
             ]
            ],
            "type": "histogram2d"
           }
          ],
          "histogram2dcontour": [
           {
            "colorbar": {
             "outlinewidth": 0,
             "ticks": ""
            },
            "colorscale": [
             [
              0,
              "#0d0887"
             ],
             [
              0.1111111111111111,
              "#46039f"
             ],
             [
              0.2222222222222222,
              "#7201a8"
             ],
             [
              0.3333333333333333,
              "#9c179e"
             ],
             [
              0.4444444444444444,
              "#bd3786"
             ],
             [
              0.5555555555555556,
              "#d8576b"
             ],
             [
              0.6666666666666666,
              "#ed7953"
             ],
             [
              0.7777777777777778,
              "#fb9f3a"
             ],
             [
              0.8888888888888888,
              "#fdca26"
             ],
             [
              1,
              "#f0f921"
             ]
            ],
            "type": "histogram2dcontour"
           }
          ],
          "mesh3d": [
           {
            "colorbar": {
             "outlinewidth": 0,
             "ticks": ""
            },
            "type": "mesh3d"
           }
          ],
          "parcoords": [
           {
            "line": {
             "colorbar": {
              "outlinewidth": 0,
              "ticks": ""
             }
            },
            "type": "parcoords"
           }
          ],
          "pie": [
           {
            "automargin": true,
            "type": "pie"
           }
          ],
          "scatter": [
           {
            "marker": {
             "colorbar": {
              "outlinewidth": 0,
              "ticks": ""
             }
            },
            "type": "scatter"
           }
          ],
          "scatter3d": [
           {
            "line": {
             "colorbar": {
              "outlinewidth": 0,
              "ticks": ""
             }
            },
            "marker": {
             "colorbar": {
              "outlinewidth": 0,
              "ticks": ""
             }
            },
            "type": "scatter3d"
           }
          ],
          "scattercarpet": [
           {
            "marker": {
             "colorbar": {
              "outlinewidth": 0,
              "ticks": ""
             }
            },
            "type": "scattercarpet"
           }
          ],
          "scattergeo": [
           {
            "marker": {
             "colorbar": {
              "outlinewidth": 0,
              "ticks": ""
             }
            },
            "type": "scattergeo"
           }
          ],
          "scattergl": [
           {
            "marker": {
             "colorbar": {
              "outlinewidth": 0,
              "ticks": ""
             }
            },
            "type": "scattergl"
           }
          ],
          "scattermapbox": [
           {
            "marker": {
             "colorbar": {
              "outlinewidth": 0,
              "ticks": ""
             }
            },
            "type": "scattermapbox"
           }
          ],
          "scatterpolar": [
           {
            "marker": {
             "colorbar": {
              "outlinewidth": 0,
              "ticks": ""
             }
            },
            "type": "scatterpolar"
           }
          ],
          "scatterpolargl": [
           {
            "marker": {
             "colorbar": {
              "outlinewidth": 0,
              "ticks": ""
             }
            },
            "type": "scatterpolargl"
           }
          ],
          "scatterternary": [
           {
            "marker": {
             "colorbar": {
              "outlinewidth": 0,
              "ticks": ""
             }
            },
            "type": "scatterternary"
           }
          ],
          "surface": [
           {
            "colorbar": {
             "outlinewidth": 0,
             "ticks": ""
            },
            "colorscale": [
             [
              0,
              "#0d0887"
             ],
             [
              0.1111111111111111,
              "#46039f"
             ],
             [
              0.2222222222222222,
              "#7201a8"
             ],
             [
              0.3333333333333333,
              "#9c179e"
             ],
             [
              0.4444444444444444,
              "#bd3786"
             ],
             [
              0.5555555555555556,
              "#d8576b"
             ],
             [
              0.6666666666666666,
              "#ed7953"
             ],
             [
              0.7777777777777778,
              "#fb9f3a"
             ],
             [
              0.8888888888888888,
              "#fdca26"
             ],
             [
              1,
              "#f0f921"
             ]
            ],
            "type": "surface"
           }
          ],
          "table": [
           {
            "cells": {
             "fill": {
              "color": "#EBF0F8"
             },
             "line": {
              "color": "white"
             }
            },
            "header": {
             "fill": {
              "color": "#C8D4E3"
             },
             "line": {
              "color": "white"
             }
            },
            "type": "table"
           }
          ]
         },
         "layout": {
          "annotationdefaults": {
           "arrowcolor": "#2a3f5f",
           "arrowhead": 0,
           "arrowwidth": 1
          },
          "autotypenumbers": "strict",
          "coloraxis": {
           "colorbar": {
            "outlinewidth": 0,
            "ticks": ""
           }
          },
          "colorscale": {
           "diverging": [
            [
             0,
             "#8e0152"
            ],
            [
             0.1,
             "#c51b7d"
            ],
            [
             0.2,
             "#de77ae"
            ],
            [
             0.3,
             "#f1b6da"
            ],
            [
             0.4,
             "#fde0ef"
            ],
            [
             0.5,
             "#f7f7f7"
            ],
            [
             0.6,
             "#e6f5d0"
            ],
            [
             0.7,
             "#b8e186"
            ],
            [
             0.8,
             "#7fbc41"
            ],
            [
             0.9,
             "#4d9221"
            ],
            [
             1,
             "#276419"
            ]
           ],
           "sequential": [
            [
             0,
             "#0d0887"
            ],
            [
             0.1111111111111111,
             "#46039f"
            ],
            [
             0.2222222222222222,
             "#7201a8"
            ],
            [
             0.3333333333333333,
             "#9c179e"
            ],
            [
             0.4444444444444444,
             "#bd3786"
            ],
            [
             0.5555555555555556,
             "#d8576b"
            ],
            [
             0.6666666666666666,
             "#ed7953"
            ],
            [
             0.7777777777777778,
             "#fb9f3a"
            ],
            [
             0.8888888888888888,
             "#fdca26"
            ],
            [
             1,
             "#f0f921"
            ]
           ],
           "sequentialminus": [
            [
             0,
             "#0d0887"
            ],
            [
             0.1111111111111111,
             "#46039f"
            ],
            [
             0.2222222222222222,
             "#7201a8"
            ],
            [
             0.3333333333333333,
             "#9c179e"
            ],
            [
             0.4444444444444444,
             "#bd3786"
            ],
            [
             0.5555555555555556,
             "#d8576b"
            ],
            [
             0.6666666666666666,
             "#ed7953"
            ],
            [
             0.7777777777777778,
             "#fb9f3a"
            ],
            [
             0.8888888888888888,
             "#fdca26"
            ],
            [
             1,
             "#f0f921"
            ]
           ]
          },
          "colorway": [
           "#636efa",
           "#EF553B",
           "#00cc96",
           "#ab63fa",
           "#FFA15A",
           "#19d3f3",
           "#FF6692",
           "#B6E880",
           "#FF97FF",
           "#FECB52"
          ],
          "font": {
           "color": "#2a3f5f"
          },
          "geo": {
           "bgcolor": "white",
           "lakecolor": "white",
           "landcolor": "#E5ECF6",
           "showlakes": true,
           "showland": true,
           "subunitcolor": "white"
          },
          "hoverlabel": {
           "align": "left"
          },
          "hovermode": "closest",
          "mapbox": {
           "style": "light"
          },
          "paper_bgcolor": "white",
          "plot_bgcolor": "#E5ECF6",
          "polar": {
           "angularaxis": {
            "gridcolor": "white",
            "linecolor": "white",
            "ticks": ""
           },
           "bgcolor": "#E5ECF6",
           "radialaxis": {
            "gridcolor": "white",
            "linecolor": "white",
            "ticks": ""
           }
          },
          "scene": {
           "xaxis": {
            "backgroundcolor": "#E5ECF6",
            "gridcolor": "white",
            "gridwidth": 2,
            "linecolor": "white",
            "showbackground": true,
            "ticks": "",
            "zerolinecolor": "white"
           },
           "yaxis": {
            "backgroundcolor": "#E5ECF6",
            "gridcolor": "white",
            "gridwidth": 2,
            "linecolor": "white",
            "showbackground": true,
            "ticks": "",
            "zerolinecolor": "white"
           },
           "zaxis": {
            "backgroundcolor": "#E5ECF6",
            "gridcolor": "white",
            "gridwidth": 2,
            "linecolor": "white",
            "showbackground": true,
            "ticks": "",
            "zerolinecolor": "white"
           }
          },
          "shapedefaults": {
           "line": {
            "color": "#2a3f5f"
           }
          },
          "ternary": {
           "aaxis": {
            "gridcolor": "white",
            "linecolor": "white",
            "ticks": ""
           },
           "baxis": {
            "gridcolor": "white",
            "linecolor": "white",
            "ticks": ""
           },
           "bgcolor": "#E5ECF6",
           "caxis": {
            "gridcolor": "white",
            "linecolor": "white",
            "ticks": ""
           }
          },
          "title": {
           "x": 0.05
          },
          "xaxis": {
           "automargin": true,
           "gridcolor": "white",
           "linecolor": "white",
           "ticks": "",
           "title": {
            "standoff": 15
           },
           "zerolinecolor": "white",
           "zerolinewidth": 2
          },
          "yaxis": {
           "automargin": true,
           "gridcolor": "white",
           "linecolor": "white",
           "ticks": "",
           "title": {
            "standoff": 15
           },
           "zerolinecolor": "white",
           "zerolinewidth": 2
          }
         }
        },
        "title": {
         "text": "Feature importance"
        },
        "width": 1000,
        "xaxis": {
         "anchor": "y",
         "autorange": true,
         "domain": [
          0,
          1
         ],
         "range": [
          -0.5,
          186.5
         ],
         "title": {
          "text": "feature name"
         },
         "type": "category"
        },
        "yaxis": {
         "anchor": "x",
         "autorange": true,
         "domain": [
          0,
          1
         ],
         "range": [
          0,
          211.86043187191612
         ],
         "title": {
          "text": "gain"
         },
         "type": "linear"
        }
       }
      },
      "image/png": "[encoded data removed]",
      "text/html": [
       "<div>                            <div id=\"b97ad95c-9e42-43e5-b4ee-1f89f817d904\" class=\"plotly-graph-div\" style=\"height:800px; width:1000px;\"></div>            <script type=\"text/javascript\">                require([\"plotly\"], function(Plotly) {                    window.PLOTLYENV=window.PLOTLYENV || {};                                    if (document.getElementById(\"b97ad95c-9e42-43e5-b4ee-1f89f817d904\")) {                    Plotly.newPlot(                        \"b97ad95c-9e42-43e5-b4ee-1f89f817d904\",                        [{\"alignmentgroup\":\"True\",\"hovertemplate\":\"feature name=%{x}<br>gain=%{y}<extra></extra>\",\"legendgroup\":\"\",\"marker\":{\"color\":\"#636efa\",\"pattern\":{\"shape\":\"\"}},\"name\":\"\",\"offsetgroup\":\"\",\"orientation\":\"v\",\"showlegend\":false,\"textposition\":\"auto\",\"x\":[\"L3_S33_F3855\",\"S32_duration_next_diff\",\"L3_S34_F3880\",\"L3_duration_next_diff\",\"L3_S33_F3859\",\"L3_S33_F3865\",\"L0_duration_next_diff\",\"S32_max\",\"L1_duration_next_diff\",\"S32_first\",\"S32_last\",\"L3_S33_F3857\",\"S34_max\",\"S24_duration_next_diff\",\"S33_first\",\"S24_duration\",\"S12_duration_next_diff\",\"S14_duration_next_diff\",\"S34_first\",\"L1_first\",\"S33_last\",\"S35_duration_next_diff\",\"L0_last\",\"L3_S29_F3407\",\"L2_duration_next_diff\",\"S26_duration_next_diff\",\"S19_duration_next_diff\",\"L0_first\",\"S3_duration_next_diff\",\"L2_first\",\"L3_duration\",\"S2_duration_next_diff\",\"S29_first\",\"S1_first\",\"S37_first\",\"S32_min\",\"S37_last\",\"S24_first\",\"L3_S34_F3882\",\"S4_duration_next_diff\",\"S34_last\",\"S5_min\",\"S5_duration_next_diff\",\"S22_duration_next_diff\",\"L3_S30_F3704\",\"S10_duration_next_diff\",\"S30_last\",\"S36_duration_next_diff\",\"L2_last\",\"S35_first\",\"L1_mean\",\"S29_last\",\"S16_duration_next_diff\",\"S24_min\",\"S24_last\",\"S30_min\",\"L3_first\",\"S11_duration_next_diff\",\"S18_duration_next_diff\",\"S6_duration_next_diff\",\"S17_duration_next_diff\",\"S24_max\",\"S2_mean\",\"L3_S29_F3351\",\"S25_duration_next_diff\",\"L0_S0_F6\",\"S20_first\",\"L0_S0_F22\",\"S15_duration_next_diff\",\"S33_duration_prev_diff\",\"S24_mean\",\"S33_mean\",\"S30_first\",\"S21_duration_next_diff\",\"L3_S29_F3339\",\"S21_first\",\"L3_S29_F3342\",\"S43_max\",\"L3_S29_F3357\",\"L3_last\",\"S4_first\",\"S38_first\",\"S19_mean\",\"L2_mean\",\"L0_S0_F4\",\"S35_mean\",\"S0_mean\",\"S13_min\",\"S27_duration_next_diff\",\"S0_max\",\"S48_max\",\"S13_max\",\"L0_S0_F2\",\"S7_duration_next_diff\",\"L3_duration_prev_diff\",\"S38_min\",\"S25_mean\",\"S36_min\",\"S27_max\",\"S8_last\",\"L0_max\",\"S16_first\",\"S33_max\",\"L3_S29_F3373\",\"S41_max\",\"S4_min\",\"L0_mean\",\"L3_S30_F3829\",\"L0_duration_prev_diff\",\"L1_min\",\"S3_max\",\"L2_min\",\"S13_first\",\"L3_S29_F3430\",\"L3_S30_F3799\",\"S9_duration_next_diff\",\"S22_last\",\"S26_last\",\"S6_min\",\"S15_max\",\"L3_S30_F3534\",\"S47_max\",\"S33_min\",\"L1_last\",\"S13_mean\",\"S17_first\",\"L3_S29_F3461\",\"L0_min\",\"S25_duration\",\"S27_min\",\"L0_duration\",\"S1_mean\",\"S11_max\",\"S29_mean\",\"L3_S30_F3764\",\"S36_first\",\"S26_first\",\"S19_first\",\"S31_duration_next_diff\",\"S5_first\",\"L3_S30_F3669\",\"S27_first\",\"L3_S30_F3784\",\"S11_min\",\"S4_mean\",\"L3_S30_F3494\",\"S21_max\",\"L3_S29_F3333\",\"S7_first\",\"S36_max\",\"S14_first\",\"L1_max\",\"S41_mean\",\"S49_mean\",\"S10_mean\",\"S25_last\",\"S29_min\",\"S17_mean\",\"S35_max\",\"S30_max\",\"S27_last\",\"S30_mean\",\"S26_mean\",\"S12_duration_prev_diff\",\"S17_min\",\"S16_max\",\"S38_mean\",\"L2_max\",\"S6_mean\",\"S5_mean\",\"L3_S30_F3774\",\"S11_mean\",\"S26_max\",\"L3_S30_F3744\",\"S2_last\",\"S36_mean\",\"S38_max\",\"S5_max\",\"S12_mean\",\"L3_min\",\"S12_min\",\"S9_first\",\"L0_S1_F28\",\"S12_max\",\"S7_max\",\"S3_mean\",\"L3_S29_F3476\"],\"xaxis\":\"x\",\"y\":[201.2674102783203,197.50064086914062,128.4099884033203,117.68075561523438,107.6371841430664,100.01254272460938,90.5850830078125,90.25851440429688,84.1261215209961,82.7852783203125,82.06826782226562,80.71173095703125,79.77145385742188,75.0873031616211,71.03157806396484,70.02825164794922,67.53196716308594,67.31068420410156,66.57373046875,65.8274917602539,65.1729507446289,64.1915054321289,63.79794692993164,58.28365707397461,57.455841064453125,54.30633544921875,53.68619918823242,51.22309112548828,48.860782623291016,48.25047302246094,47.83140563964844,47.603126525878906,47.002376556396484,44.60135269165039,43.026123046875,42.8287467956543,42.13785171508789,41.649688720703125,40.7934455871582,40.414512634277344,38.584049224853516,38.199554443359375,37.65155792236328,35.8863410949707,34.45140838623047,33.89087677001953,33.84416961669922,33.2159309387207,33.048919677734375,32.556793212890625,31.784692764282227,31.01061248779297,30.959959030151367,30.53621482849121,30.52301597595215,30.149810791015625,29.66987419128418,28.656970977783203,28.449501037597656,27.611291885375977,26.782804489135742,26.5228328704834,26.352333068847656,25.66599464416504,25.65789031982422,25.278322219848633,25.24721336364746,24.659929275512695,24.60791015625,24.510269165039062,24.3648624420166,24.014177322387695,23.919750213623047,23.544483184814453,23.293241500854492,23.13243865966797,22.79460334777832,22.754213333129883,22.655000686645508,22.63151741027832,22.337650299072266,22.186365127563477,22.18320083618164,21.999130249023438,21.816619873046875,21.743999481201172,21.290817260742188,21.243505477905273,20.941089630126953,20.807844161987305,20.568103790283203,20.413776397705078,20.337459564208984,20.31839942932129,19.934446334838867,19.823856353759766,19.547672271728516,19.42715835571289,19.29188346862793,18.91166877746582,18.779037475585938,18.68006134033203,18.392160415649414,18.151443481445312,18.019495010375977,17.994070053100586,17.930118560791016,17.572505950927734,17.44574546813965,17.405609130859375,17.368803024291992,17.332124710083008,17.199298858642578,17.187875747680664,16.979454040527344,16.896751403808594,16.86321258544922,16.808902740478516,16.71747589111328,16.584959030151367,16.493452072143555,16.487106323242188,16.264150619506836,16.213119506835938,16.004146575927734,15.995017051696777,15.808337211608887,15.689667701721191,15.447522163391113,15.37998104095459,15.250249862670898,15.083475112915039,14.94168758392334,14.67332935333252,14.579891204833984,14.548869132995605,14.379668235778809,14.369183540344238,14.111305236816406,13.9580078125,13.826499938964844,13.651216506958008,13.449682235717773,13.448141098022461,13.389715194702148,13.225240707397461,13.156763076782227,13.050003051757812,13.045825004577637,12.986136436462402,12.911077499389648,12.695098876953125,12.484718322753906,12.462706565856934,12.365131378173828,12.345224380493164,12.174345970153809,12.131324768066406,12.042670249938965,11.82958698272705,11.825751304626465,11.799257278442383,11.765665054321289,11.715202331542969,11.507796287536621,11.433781623840332,11.341377258300781,11.109766006469727,10.868019104003906,10.714452743530273,10.70382022857666,10.539810180664062,10.361311912536621,10.320633888244629,9.546222686767578,9.53078556060791,9.528487205505371,9.259547233581543,8.643461227416992,8.300945281982422,7.641579627990723,7.360426902770996,7.2259674072265625,6.00329065322876,5.150658130645752,5.028337001800537,1.7314453125],\"yaxis\":\"y\",\"type\":\"bar\"}],                        {\"template\":{\"data\":{\"bar\":[{\"error_x\":{\"color\":\"#2a3f5f\"},\"error_y\":{\"color\":\"#2a3f5f\"},\"marker\":{\"line\":{\"color\":\"#E5ECF6\",\"width\":0.5},\"pattern\":{\"fillmode\":\"overlay\",\"size\":10,\"solidity\":0.2}},\"type\":\"bar\"}],\"barpolar\":[{\"marker\":{\"line\":{\"color\":\"#E5ECF6\",\"width\":0.5},\"pattern\":{\"fillmode\":\"overlay\",\"size\":10,\"solidity\":0.2}},\"type\":\"barpolar\"}],\"carpet\":[{\"aaxis\":{\"endlinecolor\":\"#2a3f5f\",\"gridcolor\":\"white\",\"linecolor\":\"white\",\"minorgridcolor\":\"white\",\"startlinecolor\":\"#2a3f5f\"},\"baxis\":{\"endlinecolor\":\"#2a3f5f\",\"gridcolor\":\"white\",\"linecolor\":\"white\",\"minorgridcolor\":\"white\",\"startlinecolor\":\"#2a3f5f\"},\"type\":\"carpet\"}],\"choropleth\":[{\"colorbar\":{\"outlinewidth\":0,\"ticks\":\"\"},\"type\":\"choropleth\"}],\"contour\":[{\"colorbar\":{\"outlinewidth\":0,\"ticks\":\"\"},\"colorscale\":[[0.0,\"#0d0887\"],[0.1111111111111111,\"#46039f\"],[0.2222222222222222,\"#7201a8\"],[0.3333333333333333,\"#9c179e\"],[0.4444444444444444,\"#bd3786\"],[0.5555555555555556,\"#d8576b\"],[0.6666666666666666,\"#ed7953\"],[0.7777777777777778,\"#fb9f3a\"],[0.8888888888888888,\"#fdca26\"],[1.0,\"#f0f921\"]],\"type\":\"contour\"}],\"contourcarpet\":[{\"colorbar\":{\"outlinewidth\":0,\"ticks\":\"\"},\"type\":\"contourcarpet\"}],\"heatmap\":[{\"colorbar\":{\"outlinewidth\":0,\"ticks\":\"\"},\"colorscale\":[[0.0,\"#0d0887\"],[0.1111111111111111,\"#46039f\"],[0.2222222222222222,\"#7201a8\"],[0.3333333333333333,\"#9c179e\"],[0.4444444444444444,\"#bd3786\"],[0.5555555555555556,\"#d8576b\"],[0.6666666666666666,\"#ed7953\"],[0.7777777777777778,\"#fb9f3a\"],[0.8888888888888888,\"#fdca26\"],[1.0,\"#f0f921\"]],\"type\":\"heatmap\"}],\"heatmapgl\":[{\"colorbar\":{\"outlinewidth\":0,\"ticks\":\"\"},\"colorscale\":[[0.0,\"#0d0887\"],[0.1111111111111111,\"#46039f\"],[0.2222222222222222,\"#7201a8\"],[0.3333333333333333,\"#9c179e\"],[0.4444444444444444,\"#bd3786\"],[0.5555555555555556,\"#d8576b\"],[0.6666666666666666,\"#ed7953\"],[0.7777777777777778,\"#fb9f3a\"],[0.8888888888888888,\"#fdca26\"],[1.0,\"#f0f921\"]],\"type\":\"heatmapgl\"}],\"histogram\":[{\"marker\":{\"pattern\":{\"fillmode\":\"overlay\",\"size\":10,\"solidity\":0.2}},\"type\":\"histogram\"}],\"histogram2d\":[{\"colorbar\":{\"outlinewidth\":0,\"ticks\":\"\"},\"colorscale\":[[0.0,\"#0d0887\"],[0.1111111111111111,\"#46039f\"],[0.2222222222222222,\"#7201a8\"],[0.3333333333333333,\"#9c179e\"],[0.4444444444444444,\"#bd3786\"],[0.5555555555555556,\"#d8576b\"],[0.6666666666666666,\"#ed7953\"],[0.7777777777777778,\"#fb9f3a\"],[0.8888888888888888,\"#fdca26\"],[1.0,\"#f0f921\"]],\"type\":\"histogram2d\"}],\"histogram2dcontour\":[{\"colorbar\":{\"outlinewidth\":0,\"ticks\":\"\"},\"colorscale\":[[0.0,\"#0d0887\"],[0.1111111111111111,\"#46039f\"],[0.2222222222222222,\"#7201a8\"],[0.3333333333333333,\"#9c179e\"],[0.4444444444444444,\"#bd3786\"],[0.5555555555555556,\"#d8576b\"],[0.6666666666666666,\"#ed7953\"],[0.7777777777777778,\"#fb9f3a\"],[0.8888888888888888,\"#fdca26\"],[1.0,\"#f0f921\"]],\"type\":\"histogram2dcontour\"}],\"mesh3d\":[{\"colorbar\":{\"outlinewidth\":0,\"ticks\":\"\"},\"type\":\"mesh3d\"}],\"parcoords\":[{\"line\":{\"colorbar\":{\"outlinewidth\":0,\"ticks\":\"\"}},\"type\":\"parcoords\"}],\"pie\":[{\"automargin\":true,\"type\":\"pie\"}],\"scatter\":[{\"marker\":{\"colorbar\":{\"outlinewidth\":0,\"ticks\":\"\"}},\"type\":\"scatter\"}],\"scatter3d\":[{\"line\":{\"colorbar\":{\"outlinewidth\":0,\"ticks\":\"\"}},\"marker\":{\"colorbar\":{\"outlinewidth\":0,\"ticks\":\"\"}},\"type\":\"scatter3d\"}],\"scattercarpet\":[{\"marker\":{\"colorbar\":{\"outlinewidth\":0,\"ticks\":\"\"}},\"type\":\"scattercarpet\"}],\"scattergeo\":[{\"marker\":{\"colorbar\":{\"outlinewidth\":0,\"ticks\":\"\"}},\"type\":\"scattergeo\"}],\"scattergl\":[{\"marker\":{\"colorbar\":{\"outlinewidth\":0,\"ticks\":\"\"}},\"type\":\"scattergl\"}],\"scattermapbox\":[{\"marker\":{\"colorbar\":{\"outlinewidth\":0,\"ticks\":\"\"}},\"type\":\"scattermapbox\"}],\"scatterpolar\":[{\"marker\":{\"colorbar\":{\"outlinewidth\":0,\"ticks\":\"\"}},\"type\":\"scatterpolar\"}],\"scatterpolargl\":[{\"marker\":{\"colorbar\":{\"outlinewidth\":0,\"ticks\":\"\"}},\"type\":\"scatterpolargl\"}],\"scatterternary\":[{\"marker\":{\"colorbar\":{\"outlinewidth\":0,\"ticks\":\"\"}},\"type\":\"scatterternary\"}],\"surface\":[{\"colorbar\":{\"outlinewidth\":0,\"ticks\":\"\"},\"colorscale\":[[0.0,\"#0d0887\"],[0.1111111111111111,\"#46039f\"],[0.2222222222222222,\"#7201a8\"],[0.3333333333333333,\"#9c179e\"],[0.4444444444444444,\"#bd3786\"],[0.5555555555555556,\"#d8576b\"],[0.6666666666666666,\"#ed7953\"],[0.7777777777777778,\"#fb9f3a\"],[0.8888888888888888,\"#fdca26\"],[1.0,\"#f0f921\"]],\"type\":\"surface\"}],\"table\":[{\"cells\":{\"fill\":{\"color\":\"#EBF0F8\"},\"line\":{\"color\":\"white\"}},\"header\":{\"fill\":{\"color\":\"#C8D4E3\"},\"line\":{\"color\":\"white\"}},\"type\":\"table\"}]},\"layout\":{\"annotationdefaults\":{\"arrowcolor\":\"#2a3f5f\",\"arrowhead\":0,\"arrowwidth\":1},\"autotypenumbers\":\"strict\",\"coloraxis\":{\"colorbar\":{\"outlinewidth\":0,\"ticks\":\"\"}},\"colorscale\":{\"diverging\":[[0,\"#8e0152\"],[0.1,\"#c51b7d\"],[0.2,\"#de77ae\"],[0.3,\"#f1b6da\"],[0.4,\"#fde0ef\"],[0.5,\"#f7f7f7\"],[0.6,\"#e6f5d0\"],[0.7,\"#b8e186\"],[0.8,\"#7fbc41\"],[0.9,\"#4d9221\"],[1,\"#276419\"]],\"sequential\":[[0.0,\"#0d0887\"],[0.1111111111111111,\"#46039f\"],[0.2222222222222222,\"#7201a8\"],[0.3333333333333333,\"#9c179e\"],[0.4444444444444444,\"#bd3786\"],[0.5555555555555556,\"#d8576b\"],[0.6666666666666666,\"#ed7953\"],[0.7777777777777778,\"#fb9f3a\"],[0.8888888888888888,\"#fdca26\"],[1.0,\"#f0f921\"]],\"sequentialminus\":[[0.0,\"#0d0887\"],[0.1111111111111111,\"#46039f\"],[0.2222222222222222,\"#7201a8\"],[0.3333333333333333,\"#9c179e\"],[0.4444444444444444,\"#bd3786\"],[0.5555555555555556,\"#d8576b\"],[0.6666666666666666,\"#ed7953\"],[0.7777777777777778,\"#fb9f3a\"],[0.8888888888888888,\"#fdca26\"],[1.0,\"#f0f921\"]]},\"colorway\":[\"#636efa\",\"#EF553B\",\"#00cc96\",\"#ab63fa\",\"#FFA15A\",\"#19d3f3\",\"#FF6692\",\"#B6E880\",\"#FF97FF\",\"#FECB52\"],\"font\":{\"color\":\"#2a3f5f\"},\"geo\":{\"bgcolor\":\"white\",\"lakecolor\":\"white\",\"landcolor\":\"#E5ECF6\",\"showlakes\":true,\"showland\":true,\"subunitcolor\":\"white\"},\"hoverlabel\":{\"align\":\"left\"},\"hovermode\":\"closest\",\"mapbox\":{\"style\":\"light\"},\"paper_bgcolor\":\"white\",\"plot_bgcolor\":\"#E5ECF6\",\"polar\":{\"angularaxis\":{\"gridcolor\":\"white\",\"linecolor\":\"white\",\"ticks\":\"\"},\"bgcolor\":\"#E5ECF6\",\"radialaxis\":{\"gridcolor\":\"white\",\"linecolor\":\"white\",\"ticks\":\"\"}},\"scene\":{\"xaxis\":{\"backgroundcolor\":\"#E5ECF6\",\"gridcolor\":\"white\",\"gridwidth\":2,\"linecolor\":\"white\",\"showbackground\":true,\"ticks\":\"\",\"zerolinecolor\":\"white\"},\"yaxis\":{\"backgroundcolor\":\"#E5ECF6\",\"gridcolor\":\"white\",\"gridwidth\":2,\"linecolor\":\"white\",\"showbackground\":true,\"ticks\":\"\",\"zerolinecolor\":\"white\"},\"zaxis\":{\"backgroundcolor\":\"#E5ECF6\",\"gridcolor\":\"white\",\"gridwidth\":2,\"linecolor\":\"white\",\"showbackground\":true,\"ticks\":\"\",\"zerolinecolor\":\"white\"}},\"shapedefaults\":{\"line\":{\"color\":\"#2a3f5f\"}},\"ternary\":{\"aaxis\":{\"gridcolor\":\"white\",\"linecolor\":\"white\",\"ticks\":\"\"},\"baxis\":{\"gridcolor\":\"white\",\"linecolor\":\"white\",\"ticks\":\"\"},\"bgcolor\":\"#E5ECF6\",\"caxis\":{\"gridcolor\":\"white\",\"linecolor\":\"white\",\"ticks\":\"\"}},\"title\":{\"x\":0.05},\"xaxis\":{\"automargin\":true,\"gridcolor\":\"white\",\"linecolor\":\"white\",\"ticks\":\"\",\"title\":{\"standoff\":15},\"zerolinecolor\":\"white\",\"zerolinewidth\":2},\"yaxis\":{\"automargin\":true,\"gridcolor\":\"white\",\"linecolor\":\"white\",\"ticks\":\"\",\"title\":{\"standoff\":15},\"zerolinecolor\":\"white\",\"zerolinewidth\":2}}},\"xaxis\":{\"anchor\":\"y\",\"domain\":[0.0,1.0],\"title\":{\"text\":\"feature name\"}},\"yaxis\":{\"anchor\":\"x\",\"domain\":[0.0,1.0],\"title\":{\"text\":\"gain\"}},\"legend\":{\"tracegroupgap\":0},\"title\":{\"text\":\"Feature importance\"},\"barmode\":\"relative\",\"height\":800,\"width\":1000,\"shapes\":[{\"line\":{\"color\":\"blue\",\"dash\":\"dash\",\"width\":3},\"type\":\"line\",\"x0\":5,\"x1\":5,\"xref\":\"x\",\"y0\":0,\"y1\":1,\"yref\":\"y domain\"},{\"line\":{\"color\":\"green\",\"dash\":\"dash\",\"width\":3},\"type\":\"line\",\"x0\":10,\"x1\":10,\"xref\":\"x\",\"y0\":0,\"y1\":1,\"yref\":\"y domain\"},{\"line\":{\"color\":\"crimson\",\"dash\":\"dash\",\"width\":3},\"type\":\"line\",\"x0\":20,\"x1\":20,\"xref\":\"x\",\"y0\":0,\"y1\":1,\"yref\":\"y domain\"},{\"line\":{\"color\":\"darkturquoise\",\"dash\":\"dash\",\"width\":3},\"type\":\"line\",\"x0\":30,\"x1\":30,\"xref\":\"x\",\"y0\":0,\"y1\":1,\"yref\":\"y domain\"},{\"line\":{\"color\":\"darkviolet\",\"dash\":\"dash\",\"width\":3},\"type\":\"line\",\"x0\":40,\"x1\":40,\"xref\":\"x\",\"y0\":0,\"y1\":1,\"yref\":\"y domain\"},{\"line\":{\"color\":\"orange\",\"dash\":\"dash\",\"width\":3},\"type\":\"line\",\"x0\":50,\"x1\":50,\"xref\":\"x\",\"y0\":0,\"y1\":1,\"yref\":\"y domain\"}],\"annotations\":[{\"showarrow\":false,\"text\":\"n=5\",\"x\":5,\"xanchor\":\"left\",\"xref\":\"x\",\"y\":1,\"yanchor\":\"top\",\"yref\":\"y domain\"},{\"showarrow\":false,\"text\":\"n=10\",\"x\":10,\"xanchor\":\"left\",\"xref\":\"x\",\"y\":1,\"yanchor\":\"top\",\"yref\":\"y domain\"},{\"showarrow\":false,\"text\":\"n=20\",\"x\":20,\"xanchor\":\"left\",\"xref\":\"x\",\"y\":1,\"yanchor\":\"top\",\"yref\":\"y domain\"},{\"showarrow\":false,\"text\":\"n=30\",\"x\":30,\"xanchor\":\"left\",\"xref\":\"x\",\"y\":1,\"yanchor\":\"top\",\"yref\":\"y domain\"},{\"showarrow\":false,\"text\":\"n=40\",\"x\":40,\"xanchor\":\"left\",\"xref\":\"x\",\"y\":1,\"yanchor\":\"top\",\"yref\":\"y domain\"},{\"showarrow\":false,\"text\":\"n=50\",\"x\":50,\"xanchor\":\"left\",\"xref\":\"x\",\"y\":1,\"yanchor\":\"top\",\"yref\":\"y domain\"}]},                        {\"responsive\": true}                    ).then(function(){\n",
       "                            \n",
       "var gd = document.getElementById('b97ad95c-9e42-43e5-b4ee-1f89f817d904');\n",
       "var x = new MutationObserver(function (mutations, observer) {{\n",
       "        var display = window.getComputedStyle(gd).display;\n",
       "        if (!display || display === 'none') {{\n",
       "            console.log([gd, 'removed!']);\n",
       "            Plotly.purge(gd);\n",
       "            observer.disconnect();\n",
       "        }}\n",
       "}});\n",
       "\n",
       "// Listen for the removal of the full notebook cells\n",
       "var notebookContainer = gd.closest('#notebook-container');\n",
       "if (notebookContainer) {{\n",
       "    x.observe(notebookContainer, {childList: true});\n",
       "}}\n",
       "\n",
       "// Listen for the clearing of the current output cell\n",
       "var outputEl = gd.closest('.output');\n",
       "if (outputEl) {{\n",
       "    x.observe(outputEl, {childList: true});\n",
       "}}\n",
       "\n",
       "                        })                };                });            </script>        </div>"
      ]
     },
     "metadata": {},
     "output_type": "display_data"
    }
   ],
   "source": [
    "fig = px.bar(data, y=\"gain\",x=data.index,orientation='v' ,title=\"Feature importance\",labels={\"index\": \"feature name\"},width=1000,height=800)\n",
    "fig.add_vline(x=5, line_width=3, line_dash=\"dash\", line_color=\"blue\",annotation_text=\"n=5\")\n",
    "fig.add_vline(x=10, line_width=3, line_dash=\"dash\", line_color=\"green\",annotation_text=\"n=10\")\n",
    "fig.add_vline(x=20, line_width=3, line_dash=\"dash\", line_color=\"crimson\",annotation_text=\"n=20\")\n",
    "fig.add_vline(x=30, line_width=3, line_dash=\"dash\", line_color=\"darkturquoise\",annotation_text=\"n=30\")\n",
    "fig.add_vline(x=40, line_width=3, line_dash=\"dash\", line_color=\"darkviolet\",annotation_text=\"n=40\")\n",
    "fig.add_vline(x=50, line_width=3, line_dash=\"dash\", line_color=\"orange\",annotation_text=\"n=50\")\n",
    "\n",
    "fig.show()"
   ]
  },
  {
   "cell_type": "code",
   "execution_count": 10,
   "id": "a47c621e-b381-4e4e-b892-20798e55e915",
   "metadata": {
    "execution": {
     "iopub.execute_input": "2022-01-09T16:04:28.457228Z",
     "iopub.status.busy": "2022-01-09T16:04:28.457228Z",
     "iopub.status.idle": "2022-01-09T16:04:28.471189Z",
     "shell.execute_reply": "2022-01-09T16:04:28.471189Z",
     "shell.execute_reply.started": "2022-01-09T16:04:28.457228Z"
    },
    "tags": []
   },
   "outputs": [],
   "source": [
    "data_n_5 = data.iloc[:5,]\n",
    "data_n_10 = data.iloc[:10,]\n",
    "data_n_20 = data.iloc[:20,]\n",
    "data_n_30 = data.iloc[:30,]\n",
    "data_n_40 = data.iloc[:40,]\n",
    "data_n_50 = data.iloc[:50,]"
   ]
  },
  {
   "cell_type": "code",
   "execution_count": 11,
   "id": "0e4668b5-ac6d-4912-ab85-6a22291a0e0a",
   "metadata": {
    "execution": {
     "iopub.execute_input": "2022-01-09T16:04:28.936193Z",
     "iopub.status.busy": "2022-01-09T16:04:28.936193Z",
     "iopub.status.idle": "2022-01-09T16:04:28.954141Z",
     "shell.execute_reply": "2022-01-09T16:04:28.954141Z",
     "shell.execute_reply.started": "2022-01-09T16:04:28.936193Z"
    },
    "tags": []
   },
   "outputs": [],
   "source": [
    "data_n_5_name = data_n_5.index.values.tolist()\n",
    "data_n_10_name = data_n_10.index.values.tolist()\n",
    "data_n_20_name = data_n_20.index.values.tolist()\n",
    "data_n_30_name = data_n_30.index.values.tolist()\n",
    "data_n_40_name = data_n_40.index.values.tolist()\n",
    "data_n_50_name = data_n_50.index.values.tolist()"
   ]
  },
  {
   "cell_type": "code",
   "execution_count": null,
   "id": "047b9116-58a3-4b3b-ac05-f59798512072",
   "metadata": {},
   "outputs": [],
   "source": []
  },
  {
   "cell_type": "markdown",
   "id": "ea683e92-805a-423f-ad50-254900e84267",
   "metadata": {},
   "source": [
    "## model  : n = 5"
   ]
  },
  {
   "cell_type": "code",
   "execution_count": 24,
   "id": "6f8ec3b9-3a49-4088-866a-8c23fd7924f9",
   "metadata": {
    "execution": {
     "iopub.execute_input": "2022-01-09T16:09:38.858214Z",
     "iopub.status.busy": "2022-01-09T16:09:38.858214Z",
     "iopub.status.idle": "2022-01-09T16:09:39.124502Z",
     "shell.execute_reply": "2022-01-09T16:09:39.124502Z",
     "shell.execute_reply.started": "2022-01-09T16:09:38.858214Z"
    },
    "tags": []
   },
   "outputs": [],
   "source": [
    "X = df[df.columns[df.columns.isin(data_n_5_name)]]\n",
    "y = df['Response']\n",
    "X_train, X_test, y_train, y_test = train_test_split(X, y, test_size=0.3, random_state=1, stratify=y)"
   ]
  },
  {
   "cell_type": "code",
   "execution_count": 26,
   "id": "99edd983-11a9-4e76-bfd8-a7ea1766eaae",
   "metadata": {
    "execution": {
     "iopub.execute_input": "2022-01-09T16:09:46.795877Z",
     "iopub.status.busy": "2022-01-09T16:09:46.795877Z",
     "iopub.status.idle": "2022-01-09T16:09:53.639933Z",
     "shell.execute_reply": "2022-01-09T16:09:53.639933Z",
     "shell.execute_reply.started": "2022-01-09T16:09:46.795877Z"
    },
    "tags": []
   },
   "outputs": [
    {
     "name": "stdout",
     "output_type": "stream",
     "text": [
      "Our MCC is:  0.24140482977539368\n"
     ]
    },
    {
     "data": {
      "text/plain": [
       "<AxesSubplot:>"
      ]
     },
     "execution_count": 26,
     "metadata": {},
     "output_type": "execute_result"
    },
    {
     "data": {
      "image/png": "[encoded data removed]",
      "text/plain": [
       "<Figure size 432x288 with 2 Axes>"
      ]
     },
     "metadata": {
      "needs_background": "light"
     },
     "output_type": "display_data"
    }
   ],
   "source": [
    "# fit model\n",
    "model_n5 = XGBClassifier(n_estimators=150,subsample=1,max_depth=3,learning_rate=0.1,min_child_weight=5,\n",
    "                        colsample_bytree=0.7,scale_pos_weight=1,eval_metric=['logloss','auc','error'],use_label_encoder=False)\n",
    "model_n5.fit(X_train, y_train)\n",
    "\n",
    "# predict data\n",
    "y_pred = model_n5.predict(X_test)\n",
    "print('Our MCC is: ', matthews_corrcoef(y_test, y_pred))\n",
    "\n",
    "mat = confusion_matrix(y_test, y_pred)\n",
    "sns.heatmap(mat,annot=True, cmap='Blues',fmt='g')"
   ]
  },
  {
   "cell_type": "markdown",
   "id": "dd8f3cdd-83e8-4a57-a133-30596f05d2e9",
   "metadata": {},
   "source": [
    "## model  : n = 10"
   ]
  },
  {
   "cell_type": "code",
   "execution_count": null,
   "id": "d615dd09-b6f7-4d9b-a0e7-562092720071",
   "metadata": {},
   "outputs": [],
   "source": [
    "#define total sample size desired\n",
    "N = 100000\n",
    "#perform stratified random sampling\n",
    "df2=df.groupby('Response', group_keys=False).apply(lambda x: x.sample(int(np.rint(N*len(x)/len(df))))).sample(frac=1).reset_index(drop=True)"
   ]
  },
  {
   "cell_type": "code",
   "execution_count": null,
   "id": "8530fe66-4aa2-418a-b993-222672603c2e",
   "metadata": {},
   "outputs": [],
   "source": [
    "# 各類樣本數量\n",
    "print('類0樣本數量:{}'.format(df2['Response'].value_counts()[0]))\n",
    "print('類1樣本數量:{}'.format(df2['Response'].value_counts()[1]))\n",
    "# 各類樣本比例\n",
    "print('類0樣本數量比率為:{} %'.format((df2['Response'].value_counts()[0]/len(df2))*100))\n",
    "print('類1樣本數量比率為:{} %'.format((df2['Response'].value_counts()[1]/len(df2))*100))"
   ]
  },
  {
   "cell_type": "code",
   "execution_count": 22,
   "id": "828423cf-782e-4468-90ce-71cc47cadc45",
   "metadata": {
    "execution": {
     "iopub.execute_input": "2022-01-09T16:09:14.342861Z",
     "iopub.status.busy": "2022-01-09T16:09:14.342861Z",
     "iopub.status.idle": "2022-01-09T16:09:14.655271Z",
     "shell.execute_reply": "2022-01-09T16:09:14.655271Z",
     "shell.execute_reply.started": "2022-01-09T16:09:14.342861Z"
    },
    "tags": []
   },
   "outputs": [],
   "source": [
    "X = df2[df2.columns[df2.columns.isin(data_n_10_name)]]\n",
    "y = df2['Response']\n",
    "X_train, X_test, y_train, y_test = train_test_split(X, y, test_size=0.3, random_state=1, stratify=y)"
   ]
  },
  {
   "cell_type": "code",
   "execution_count": null,
   "id": "76ddb4dc-7d06-48ad-938e-895ed516c2bc",
   "metadata": {},
   "outputs": [],
   "source": [
    "params = { 'n_estimators': [50,100,150],\n",
    "           'max_depth': [3,5,7,9],\n",
    "           'learning_rate': [0.01, 0.05, 0.1],\n",
    "           'min_child_weight':[0,5,15],\n",
    "          'scale_pos_weight':[1,10,100]\n",
    "         }\n",
    "\n",
    "xgb_model = XGBClassifier(eval_metric=['logloss','auc','error'],use_label_encoder=False)\n",
    "\n",
    "grid_search = GridSearchCV(estimator=xgb_model, \n",
    "                   param_grid=params,\n",
    "                   scoring=make_scorer(matthews_corrcoef), \n",
    "                   n_jobs=-1,\n",
    "                   verbose=3,\n",
    "                    cv=3)\n",
    "grid_search.fit(X_train, y_train)\n",
    "\n",
    "print(\"Best parameters:\", grid_search.best_params_)"
   ]
  },
  {
   "cell_type": "code",
   "execution_count": null,
   "id": "fb7a16f0-3326-4630-9606-a7c7ae4e8559",
   "metadata": {},
   "outputs": [],
   "source": [
    "X = df[df.columns[df.columns.isin(data_n10_name)]]\n",
    "y = df['Response']\n",
    "X_train, X_test, y_train, y_test = train_test_split(X, y, test_size=0.3, random_state=1, stratify=y)"
   ]
  },
  {
   "cell_type": "code",
   "execution_count": 23,
   "id": "e749c9b1-e1c7-40fe-b2f1-5c4cf6565eab",
   "metadata": {
    "execution": {
     "iopub.execute_input": "2022-01-09T16:09:15.264140Z",
     "iopub.status.busy": "2022-01-09T16:09:15.264140Z",
     "iopub.status.idle": "2022-01-09T16:09:22.451133Z",
     "shell.execute_reply": "2022-01-09T16:09:22.451133Z",
     "shell.execute_reply.started": "2022-01-09T16:09:15.264140Z"
    },
    "tags": []
   },
   "outputs": [
    {
     "name": "stdout",
     "output_type": "stream",
     "text": [
      "Our MCC is:  0.2579775341605456\n"
     ]
    },
    {
     "data": {
      "text/plain": [
       "<AxesSubplot:>"
      ]
     },
     "execution_count": 23,
     "metadata": {},
     "output_type": "execute_result"
    },
    {
     "data": {
      "image/png": "[encoded data removed]",
      "text/plain": [
       "<Figure size 432x288 with 2 Axes>"
      ]
     },
     "metadata": {
      "needs_background": "light"
     },
     "output_type": "display_data"
    }
   ],
   "source": [
    "# fit model\n",
    "model_n10 = XGBClassifier(n_estimators=150,subsample=1,max_depth=3,learning_rate=0.1,min_child_weight=5,\n",
    "                        colsample_bytree=0.7,scale_pos_weight=1,eval_metric=['logloss','auc','error'],use_label_encoder=False)\n",
    "model_n10.fit(X_train, y_train)\n",
    "\n",
    "# predict data\n",
    "y_pred = model_n10.predict(X_test)\n",
    "print('Our MCC is: ', matthews_corrcoef(y_test, y_pred))\n",
    "\n",
    "mat = confusion_matrix(y_test, y_pred)\n",
    "sns.heatmap(mat,annot=True, cmap='Blues',fmt='g')"
   ]
  },
  {
   "cell_type": "markdown",
   "id": "29191535-7030-4253-8f18-7423de8e035e",
   "metadata": {},
   "source": [
    "## model  : n = 20"
   ]
  },
  {
   "cell_type": "code",
   "execution_count": null,
   "id": "23e376e4-3b37-4abf-8fbe-de4244fa2fe2",
   "metadata": {},
   "outputs": [],
   "source": [
    "#define total sample size desired\n",
    "N = 100000\n",
    "#perform stratified random sampling\n",
    "df2=df.groupby('Response', group_keys=False).apply(lambda x: x.sample(int(np.rint(N*len(x)/len(df))))).sample(frac=1).reset_index(drop=True)"
   ]
  },
  {
   "cell_type": "code",
   "execution_count": null,
   "id": "299a3dee-799b-4a9b-b17b-e692f8c374b7",
   "metadata": {},
   "outputs": [],
   "source": [
    "# 各類樣本數量\n",
    "print('類0樣本數量:{}'.format(df2['Response'].value_counts()[0]))\n",
    "print('類1樣本數量:{}'.format(df2['Response'].value_counts()[1]))\n",
    "# 各類樣本比例\n",
    "print('類0樣本數量比率為:{} %'.format((df2['Response'].value_counts()[0]/len(df2))*100))\n",
    "print('類1樣本數量比率為:{} %'.format((df2['Response'].value_counts()[1]/len(df2))*100))"
   ]
  },
  {
   "cell_type": "code",
   "execution_count": 20,
   "id": "4c3af1e4-0934-4cc0-bcf5-545b37440532",
   "metadata": {
    "execution": {
     "iopub.execute_input": "2022-01-09T16:08:51.325495Z",
     "iopub.status.busy": "2022-01-09T16:08:51.325495Z",
     "iopub.status.idle": "2022-01-09T16:08:51.760569Z",
     "shell.execute_reply": "2022-01-09T16:08:51.760569Z",
     "shell.execute_reply.started": "2022-01-09T16:08:51.325495Z"
    }
   },
   "outputs": [],
   "source": [
    "X = df2[df2.columns[df2.columns.isin(data_n_20_name)]]\n",
    "y = df2['Response']\n",
    "X_train, X_test, y_train, y_test = train_test_split(X, y, test_size=0.3, random_state=1, stratify=y)"
   ]
  },
  {
   "cell_type": "code",
   "execution_count": null,
   "id": "e21db335-91b8-4085-add5-f0e49daf3308",
   "metadata": {},
   "outputs": [],
   "source": [
    "params = { 'n_estimators': [50,100,150],\n",
    "           'max_depth': [3,5,7,9],\n",
    "           'learning_rate': [0.01, 0.05, 0.1],\n",
    "           'min_child_weight':[0,5,15],\n",
    "          'scale_pos_weight':[1,10,100]\n",
    "         }\n",
    "\n",
    "xgb_model = XGBClassifier(eval_metric=['logloss','auc','error'],use_label_encoder=False)\n",
    "\n",
    "grid_search = GridSearchCV(estimator=xgb_model, \n",
    "                   param_grid=params,\n",
    "                   scoring=make_scorer(matthews_corrcoef), \n",
    "                   n_jobs=-1,\n",
    "                   verbose=3,\n",
    "                    cv=3)\n",
    "grid_search.fit(X_train, y_train)\n",
    "\n",
    "print(\"Best parameters:\", grid_search.best_params_)"
   ]
  },
  {
   "cell_type": "code",
   "execution_count": null,
   "id": "b424dfd4-b4a8-48b0-b97c-22af1d8a2eb3",
   "metadata": {},
   "outputs": [],
   "source": [
    "X = df[df.columns[df.columns.isin(data_n_20_name)]]\n",
    "y = df['Response']\n",
    "X_train, X_test, y_train, y_test = train_test_split(X, y, test_size=0.3, random_state=1, stratify=y)"
   ]
  },
  {
   "cell_type": "code",
   "execution_count": 21,
   "id": "08cce801-de9a-4cd7-bc25-bb7b9156a10d",
   "metadata": {
    "execution": {
     "iopub.execute_input": "2022-01-09T16:08:52.704981Z",
     "iopub.status.busy": "2022-01-09T16:08:52.704981Z",
     "iopub.status.idle": "2022-01-09T16:09:04.371065Z",
     "shell.execute_reply": "2022-01-09T16:09:04.371065Z",
     "shell.execute_reply.started": "2022-01-09T16:08:52.704981Z"
    },
    "tags": []
   },
   "outputs": [
    {
     "name": "stdout",
     "output_type": "stream",
     "text": [
      "Our MCC is:  0.25040671001045284\n"
     ]
    },
    {
     "data": {
      "text/plain": [
       "<AxesSubplot:>"
      ]
     },
     "execution_count": 21,
     "metadata": {},
     "output_type": "execute_result"
    },
    {
     "data": {
      "image/png": "[encoded data removed]",
      "text/plain": [
       "<Figure size 432x288 with 2 Axes>"
      ]
     },
     "metadata": {
      "needs_background": "light"
     },
     "output_type": "display_data"
    }
   ],
   "source": [
    "# fit model\n",
    "model_n20 = XGBClassifier(n_estimators=150,subsample=1,max_depth=3,learning_rate=0.1,min_child_weight=5,\n",
    "                        colsample_bytree=0.7,scale_pos_weight=1,eval_metric=['logloss','auc','error'],use_label_encoder=False)\n",
    "model_n20.fit(X_train, y_train)\n",
    "\n",
    "# predict data\n",
    "y_pred = model_n20.predict(X_test)\n",
    "print('Our MCC is: ', matthews_corrcoef(y_test, y_pred))\n",
    "\n",
    "mat = confusion_matrix(y_test, y_pred)\n",
    "sns.heatmap(mat,annot=True, cmap='Blues',fmt='g')"
   ]
  },
  {
   "cell_type": "markdown",
   "id": "6788ae71-4d47-4ef7-bcf0-161e3ef417de",
   "metadata": {},
   "source": [
    "## model  : n = 30"
   ]
  },
  {
   "cell_type": "code",
   "execution_count": null,
   "id": "f65da448-a58c-4157-9603-afc101d1d1bf",
   "metadata": {},
   "outputs": [],
   "source": [
    "#define total sample size desired\n",
    "N = 100000\n",
    "#perform stratified random sampling\n",
    "df2=df.groupby('Response', group_keys=False).apply(lambda x: x.sample(int(np.rint(N*len(x)/len(df))))).sample(frac=1).reset_index(drop=True)"
   ]
  },
  {
   "cell_type": "code",
   "execution_count": null,
   "id": "088e3bfd-5e53-4ea8-b7d0-893e59491203",
   "metadata": {},
   "outputs": [],
   "source": [
    "# 各類樣本數量\n",
    "print('類0樣本數量:{}'.format(df2['Response'].value_counts()[0]))\n",
    "print('類1樣本數量:{}'.format(df2['Response'].value_counts()[1]))\n",
    "# 各類樣本比例\n",
    "print('類0樣本數量比率為:{} %'.format((df2['Response'].value_counts()[0]/len(df2))*100))\n",
    "print('類1樣本數量比率為:{} %'.format((df2['Response'].value_counts()[1]/len(df2))*100))"
   ]
  },
  {
   "cell_type": "code",
   "execution_count": 17,
   "id": "dcc77580-599b-457c-a00c-29f0f75e44a8",
   "metadata": {
    "execution": {
     "iopub.execute_input": "2022-01-09T16:08:12.702352Z",
     "iopub.status.busy": "2022-01-09T16:08:12.702352Z",
     "iopub.status.idle": "2022-01-09T16:08:13.211868Z",
     "shell.execute_reply": "2022-01-09T16:08:13.211443Z",
     "shell.execute_reply.started": "2022-01-09T16:08:12.702352Z"
    },
    "tags": []
   },
   "outputs": [],
   "source": [
    "X = df2[df2.columns[df2.columns.isin(data_n_30_name)]]\n",
    "y = df2['Response']\n",
    "X_train, X_test, y_train, y_test = train_test_split(X, y, test_size=0.3, random_state=1, stratify=y)"
   ]
  },
  {
   "cell_type": "code",
   "execution_count": null,
   "id": "87f6f2fd-3d48-4659-a887-c2e567fef3be",
   "metadata": {},
   "outputs": [],
   "source": [
    "params = { 'n_estimators': [50,100,150],\n",
    "           'max_depth': [3,5,7,9],\n",
    "           'learning_rate': [0.01, 0.05, 0.1],\n",
    "           'min_child_weight':[0,5,15],\n",
    "          'scale_pos_weight':[1,10,100]\n",
    "         }\n",
    "\n",
    "xgb_model = XGBClassifier(eval_metric=['logloss','auc','error'],use_label_encoder=False)\n",
    "\n",
    "grid_search = GridSearchCV(estimator=xgb_model, \n",
    "                   param_grid=params,\n",
    "                   scoring=make_scorer(matthews_corrcoef), \n",
    "                   n_jobs=-1,\n",
    "                   verbose=3,\n",
    "                    cv=3)\n",
    "grid_search.fit(X_train, y_train)\n",
    "\n",
    "print(\"Best parameters:\", grid_search.best_params_)"
   ]
  },
  {
   "cell_type": "code",
   "execution_count": null,
   "id": "0719c866-6548-47ca-b1f1-db9c7dca0df4",
   "metadata": {},
   "outputs": [],
   "source": [
    "X = df[df.columns[df.columns.isin(data_n_30_name)]]\n",
    "y = df['Response']\n",
    "X_train, X_test, y_train, y_test = train_test_split(X, y, test_size=0.3, random_state=1, stratify=y)"
   ]
  },
  {
   "cell_type": "code",
   "execution_count": 18,
   "id": "b8a72824-2182-400d-a34e-0bff9dc20c87",
   "metadata": {
    "execution": {
     "iopub.execute_input": "2022-01-09T16:08:13.211868Z",
     "iopub.status.busy": "2022-01-09T16:08:13.211868Z",
     "iopub.status.idle": "2022-01-09T16:08:26.230297Z",
     "shell.execute_reply": "2022-01-09T16:08:26.230297Z",
     "shell.execute_reply.started": "2022-01-09T16:08:13.211868Z"
    },
    "tags": []
   },
   "outputs": [
    {
     "name": "stdout",
     "output_type": "stream",
     "text": [
      "Our MCC is:  0.2560851564224784\n"
     ]
    },
    {
     "data": {
      "text/plain": [
       "<AxesSubplot:>"
      ]
     },
     "execution_count": 18,
     "metadata": {},
     "output_type": "execute_result"
    },
    {
     "data": {
      "image/png": "[encoded data removed]",
      "text/plain": [
       "<Figure size 432x288 with 2 Axes>"
      ]
     },
     "metadata": {
      "needs_background": "light"
     },
     "output_type": "display_data"
    }
   ],
   "source": [
    "# fit model\n",
    "model_n30 = XGBClassifier(n_estimators=150,subsample=1,max_depth=3,learning_rate=0.1,min_child_weight=5,\n",
    "                        colsample_bytree=0.7,scale_pos_weight=1,eval_metric=['logloss','auc','error'],use_label_encoder=False)\n",
    "model_n30.fit(X_train, y_train)\n",
    "\n",
    "# predict data\n",
    "y_pred = model_n30.predict(X_test)\n",
    "print('Our MCC is: ', matthews_corrcoef(y_test, y_pred))\n",
    "\n",
    "mat = confusion_matrix(y_test, y_pred)\n",
    "sns.heatmap(mat,annot=True, cmap='Blues',fmt='g')"
   ]
  },
  {
   "cell_type": "markdown",
   "id": "b315086d-86aa-4117-9919-d7a07c2e3dab",
   "metadata": {},
   "source": [
    "## model  : n = 40"
   ]
  },
  {
   "cell_type": "code",
   "execution_count": 85,
   "id": "7f115491-14e1-42aa-b579-0b0eecacf5bb",
   "metadata": {
    "execution": {
     "iopub.execute_input": "2022-01-09T21:27:15.916911Z",
     "iopub.status.busy": "2022-01-09T21:27:15.916911Z",
     "iopub.status.idle": "2022-01-09T21:27:18.050994Z",
     "shell.execute_reply": "2022-01-09T21:27:18.050994Z",
     "shell.execute_reply.started": "2022-01-09T21:27:15.916911Z"
    },
    "tags": []
   },
   "outputs": [],
   "source": [
    "#define total sample size desired\n",
    "N = 100000\n",
    "#perform stratified random sampling\n",
    "df2=df.groupby('Response', group_keys=False).apply(lambda x: x.sample(int(np.rint(N*len(x)/len(df))))).sample(frac=1).reset_index(drop=True)"
   ]
  },
  {
   "cell_type": "code",
   "execution_count": 86,
   "id": "f12f9758-d989-448c-8798-339c583a3628",
   "metadata": {
    "execution": {
     "iopub.execute_input": "2022-01-09T21:27:18.051968Z",
     "iopub.status.busy": "2022-01-09T21:27:18.051968Z",
     "iopub.status.idle": "2022-01-09T21:27:18.066926Z",
     "shell.execute_reply": "2022-01-09T21:27:18.066926Z",
     "shell.execute_reply.started": "2022-01-09T21:27:18.051968Z"
    },
    "tags": []
   },
   "outputs": [
    {
     "name": "stdout",
     "output_type": "stream",
     "text": [
      "類0樣本數量:99419\n",
      "類1樣本數量:581\n",
      "類0樣本數量比率為:99.419 %\n",
      "類1樣本數量比率為:0.581 %\n"
     ]
    }
   ],
   "source": [
    "# 各類樣本數量\n",
    "print('類0樣本數量:{}'.format(df2['Response'].value_counts()[0]))\n",
    "print('類1樣本數量:{}'.format(df2['Response'].value_counts()[1]))\n",
    "# 各類樣本比例\n",
    "print('類0樣本數量比率為:{} %'.format((df2['Response'].value_counts()[0]/len(df2))*100))\n",
    "print('類1樣本數量比率為:{} %'.format((df2['Response'].value_counts()[1]/len(df2))*100))"
   ]
  },
  {
   "cell_type": "code",
   "execution_count": 87,
   "id": "a231061e-f0e6-44a3-add9-eea039004ef2",
   "metadata": {
    "execution": {
     "iopub.execute_input": "2022-01-09T21:27:18.067925Z",
     "iopub.status.busy": "2022-01-09T21:27:18.067925Z",
     "iopub.status.idle": "2022-01-09T21:27:18.112831Z",
     "shell.execute_reply": "2022-01-09T21:27:18.112831Z",
     "shell.execute_reply.started": "2022-01-09T21:27:18.067925Z"
    },
    "tags": []
   },
   "outputs": [],
   "source": [
    "X = df2[df2.columns[df2.columns.isin(data_n_40_name)]]\n",
    "y = df2['Response']\n",
    "X_train, X_test, y_train, y_test = train_test_split(X, y, test_size=0.3, random_state=1, stratify=y)"
   ]
  },
  {
   "cell_type": "code",
   "execution_count": 88,
   "id": "f0ea481d-15eb-4d02-b173-7b2cdd610a9a",
   "metadata": {
    "execution": {
     "iopub.execute_input": "2022-01-09T21:27:18.113802Z",
     "iopub.status.busy": "2022-01-09T21:27:18.113802Z",
     "iopub.status.idle": "2022-01-09T21:51:40.597599Z",
     "shell.execute_reply": "2022-01-09T21:51:40.596603Z",
     "shell.execute_reply.started": "2022-01-09T21:27:18.113802Z"
    },
    "tags": []
   },
   "outputs": [
    {
     "name": "stdout",
     "output_type": "stream",
     "text": [
      "Fitting 3 folds for each of 2916 candidates, totalling 8748 fits\n"
     ]
    },
    {
     "ename": "KeyboardInterrupt",
     "evalue": "",
     "output_type": "error",
     "traceback": [
      "\u001b[1;31m---------------------------------------------------------------------------\u001b[0m",
      "\u001b[1;31mKeyboardInterrupt\u001b[0m                         Traceback (most recent call last)",
      "\u001b[1;32m~\\AppData\\Local\\Temp/ipykernel_4616/3446069112.py\u001b[0m in \u001b[0;36m<module>\u001b[1;34m\u001b[0m\n\u001b[0;32m     16\u001b[0m                    \u001b[0mverbose\u001b[0m\u001b[1;33m=\u001b[0m\u001b[1;36m3\u001b[0m\u001b[1;33m,\u001b[0m\u001b[1;33m\u001b[0m\u001b[1;33m\u001b[0m\u001b[0m\n\u001b[0;32m     17\u001b[0m                     cv=3)\n\u001b[1;32m---> 18\u001b[1;33m \u001b[0mgrid_search\u001b[0m\u001b[1;33m.\u001b[0m\u001b[0mfit\u001b[0m\u001b[1;33m(\u001b[0m\u001b[0mX_train\u001b[0m\u001b[1;33m,\u001b[0m \u001b[0my_train\u001b[0m\u001b[1;33m)\u001b[0m\u001b[1;33m\u001b[0m\u001b[1;33m\u001b[0m\u001b[0m\n\u001b[0m\u001b[0;32m     19\u001b[0m \u001b[1;33m\u001b[0m\u001b[0m\n\u001b[0;32m     20\u001b[0m \u001b[0mprint\u001b[0m\u001b[1;33m(\u001b[0m\u001b[1;34m\"Best parameters:\"\u001b[0m\u001b[1;33m,\u001b[0m \u001b[0mgrid_search\u001b[0m\u001b[1;33m.\u001b[0m\u001b[0mbest_params_\u001b[0m\u001b[1;33m)\u001b[0m\u001b[1;33m\u001b[0m\u001b[1;33m\u001b[0m\u001b[0m\n",
      "\u001b[1;32m~\\anaconda3\\envs\\Bosch\\lib\\site-packages\\sklearn\\model_selection\\_search.py\u001b[0m in \u001b[0;36mfit\u001b[1;34m(self, X, y, groups, **fit_params)\u001b[0m\n\u001b[0;32m    889\u001b[0m                 \u001b[1;32mreturn\u001b[0m \u001b[0mresults\u001b[0m\u001b[1;33m\u001b[0m\u001b[1;33m\u001b[0m\u001b[0m\n\u001b[0;32m    890\u001b[0m \u001b[1;33m\u001b[0m\u001b[0m\n\u001b[1;32m--> 891\u001b[1;33m             \u001b[0mself\u001b[0m\u001b[1;33m.\u001b[0m\u001b[0m_run_search\u001b[0m\u001b[1;33m(\u001b[0m\u001b[0mevaluate_candidates\u001b[0m\u001b[1;33m)\u001b[0m\u001b[1;33m\u001b[0m\u001b[1;33m\u001b[0m\u001b[0m\n\u001b[0m\u001b[0;32m    892\u001b[0m \u001b[1;33m\u001b[0m\u001b[0m\n\u001b[0;32m    893\u001b[0m             \u001b[1;31m# multimetric is determined here because in the case of a callable\u001b[0m\u001b[1;33m\u001b[0m\u001b[1;33m\u001b[0m\u001b[1;33m\u001b[0m\u001b[0m\n",
      "\u001b[1;32m~\\anaconda3\\envs\\Bosch\\lib\\site-packages\\sklearn\\model_selection\\_search.py\u001b[0m in \u001b[0;36m_run_search\u001b[1;34m(self, evaluate_candidates)\u001b[0m\n\u001b[0;32m   1390\u001b[0m     \u001b[1;32mdef\u001b[0m \u001b[0m_run_search\u001b[0m\u001b[1;33m(\u001b[0m\u001b[0mself\u001b[0m\u001b[1;33m,\u001b[0m \u001b[0mevaluate_candidates\u001b[0m\u001b[1;33m)\u001b[0m\u001b[1;33m:\u001b[0m\u001b[1;33m\u001b[0m\u001b[1;33m\u001b[0m\u001b[0m\n\u001b[0;32m   1391\u001b[0m         \u001b[1;34m\"\"\"Search all candidates in param_grid\"\"\"\u001b[0m\u001b[1;33m\u001b[0m\u001b[1;33m\u001b[0m\u001b[0m\n\u001b[1;32m-> 1392\u001b[1;33m         \u001b[0mevaluate_candidates\u001b[0m\u001b[1;33m(\u001b[0m\u001b[0mParameterGrid\u001b[0m\u001b[1;33m(\u001b[0m\u001b[0mself\u001b[0m\u001b[1;33m.\u001b[0m\u001b[0mparam_grid\u001b[0m\u001b[1;33m)\u001b[0m\u001b[1;33m)\u001b[0m\u001b[1;33m\u001b[0m\u001b[1;33m\u001b[0m\u001b[0m\n\u001b[0m\u001b[0;32m   1393\u001b[0m \u001b[1;33m\u001b[0m\u001b[0m\n\u001b[0;32m   1394\u001b[0m \u001b[1;33m\u001b[0m\u001b[0m\n",
      "\u001b[1;32m~\\anaconda3\\envs\\Bosch\\lib\\site-packages\\sklearn\\model_selection\\_search.py\u001b[0m in \u001b[0;36mevaluate_candidates\u001b[1;34m(candidate_params, cv, more_results)\u001b[0m\n\u001b[0;32m    836\u001b[0m                     )\n\u001b[0;32m    837\u001b[0m \u001b[1;33m\u001b[0m\u001b[0m\n\u001b[1;32m--> 838\u001b[1;33m                 out = parallel(\n\u001b[0m\u001b[0;32m    839\u001b[0m                     delayed(_fit_and_score)(\n\u001b[0;32m    840\u001b[0m                         \u001b[0mclone\u001b[0m\u001b[1;33m(\u001b[0m\u001b[0mbase_estimator\u001b[0m\u001b[1;33m)\u001b[0m\u001b[1;33m,\u001b[0m\u001b[1;33m\u001b[0m\u001b[1;33m\u001b[0m\u001b[0m\n",
      "\u001b[1;32m~\\anaconda3\\envs\\Bosch\\lib\\site-packages\\joblib\\parallel.py\u001b[0m in \u001b[0;36m__call__\u001b[1;34m(self, iterable)\u001b[0m\n\u001b[0;32m   1054\u001b[0m \u001b[1;33m\u001b[0m\u001b[0m\n\u001b[0;32m   1055\u001b[0m             \u001b[1;32mwith\u001b[0m \u001b[0mself\u001b[0m\u001b[1;33m.\u001b[0m\u001b[0m_backend\u001b[0m\u001b[1;33m.\u001b[0m\u001b[0mretrieval_context\u001b[0m\u001b[1;33m(\u001b[0m\u001b[1;33m)\u001b[0m\u001b[1;33m:\u001b[0m\u001b[1;33m\u001b[0m\u001b[1;33m\u001b[0m\u001b[0m\n\u001b[1;32m-> 1056\u001b[1;33m                 \u001b[0mself\u001b[0m\u001b[1;33m.\u001b[0m\u001b[0mretrieve\u001b[0m\u001b[1;33m(\u001b[0m\u001b[1;33m)\u001b[0m\u001b[1;33m\u001b[0m\u001b[1;33m\u001b[0m\u001b[0m\n\u001b[0m\u001b[0;32m   1057\u001b[0m             \u001b[1;31m# Make sure that we get a last message telling us we are done\u001b[0m\u001b[1;33m\u001b[0m\u001b[1;33m\u001b[0m\u001b[1;33m\u001b[0m\u001b[0m\n\u001b[0;32m   1058\u001b[0m             \u001b[0melapsed_time\u001b[0m \u001b[1;33m=\u001b[0m \u001b[0mtime\u001b[0m\u001b[1;33m.\u001b[0m\u001b[0mtime\u001b[0m\u001b[1;33m(\u001b[0m\u001b[1;33m)\u001b[0m \u001b[1;33m-\u001b[0m \u001b[0mself\u001b[0m\u001b[1;33m.\u001b[0m\u001b[0m_start_time\u001b[0m\u001b[1;33m\u001b[0m\u001b[1;33m\u001b[0m\u001b[0m\n",
      "\u001b[1;32m~\\anaconda3\\envs\\Bosch\\lib\\site-packages\\joblib\\parallel.py\u001b[0m in \u001b[0;36mretrieve\u001b[1;34m(self)\u001b[0m\n\u001b[0;32m    933\u001b[0m             \u001b[1;32mtry\u001b[0m\u001b[1;33m:\u001b[0m\u001b[1;33m\u001b[0m\u001b[1;33m\u001b[0m\u001b[0m\n\u001b[0;32m    934\u001b[0m                 \u001b[1;32mif\u001b[0m \u001b[0mgetattr\u001b[0m\u001b[1;33m(\u001b[0m\u001b[0mself\u001b[0m\u001b[1;33m.\u001b[0m\u001b[0m_backend\u001b[0m\u001b[1;33m,\u001b[0m \u001b[1;34m'supports_timeout'\u001b[0m\u001b[1;33m,\u001b[0m \u001b[1;32mFalse\u001b[0m\u001b[1;33m)\u001b[0m\u001b[1;33m:\u001b[0m\u001b[1;33m\u001b[0m\u001b[1;33m\u001b[0m\u001b[0m\n\u001b[1;32m--> 935\u001b[1;33m                     \u001b[0mself\u001b[0m\u001b[1;33m.\u001b[0m\u001b[0m_output\u001b[0m\u001b[1;33m.\u001b[0m\u001b[0mextend\u001b[0m\u001b[1;33m(\u001b[0m\u001b[0mjob\u001b[0m\u001b[1;33m.\u001b[0m\u001b[0mget\u001b[0m\u001b[1;33m(\u001b[0m\u001b[0mtimeout\u001b[0m\u001b[1;33m=\u001b[0m\u001b[0mself\u001b[0m\u001b[1;33m.\u001b[0m\u001b[0mtimeout\u001b[0m\u001b[1;33m)\u001b[0m\u001b[1;33m)\u001b[0m\u001b[1;33m\u001b[0m\u001b[1;33m\u001b[0m\u001b[0m\n\u001b[0m\u001b[0;32m    936\u001b[0m                 \u001b[1;32melse\u001b[0m\u001b[1;33m:\u001b[0m\u001b[1;33m\u001b[0m\u001b[1;33m\u001b[0m\u001b[0m\n\u001b[0;32m    937\u001b[0m                     \u001b[0mself\u001b[0m\u001b[1;33m.\u001b[0m\u001b[0m_output\u001b[0m\u001b[1;33m.\u001b[0m\u001b[0mextend\u001b[0m\u001b[1;33m(\u001b[0m\u001b[0mjob\u001b[0m\u001b[1;33m.\u001b[0m\u001b[0mget\u001b[0m\u001b[1;33m(\u001b[0m\u001b[1;33m)\u001b[0m\u001b[1;33m)\u001b[0m\u001b[1;33m\u001b[0m\u001b[1;33m\u001b[0m\u001b[0m\n",
      "\u001b[1;32m~\\anaconda3\\envs\\Bosch\\lib\\site-packages\\joblib\\_parallel_backends.py\u001b[0m in \u001b[0;36mwrap_future_result\u001b[1;34m(future, timeout)\u001b[0m\n\u001b[0;32m    540\u001b[0m         AsyncResults.get from multiprocessing.\"\"\"\n\u001b[0;32m    541\u001b[0m         \u001b[1;32mtry\u001b[0m\u001b[1;33m:\u001b[0m\u001b[1;33m\u001b[0m\u001b[1;33m\u001b[0m\u001b[0m\n\u001b[1;32m--> 542\u001b[1;33m             \u001b[1;32mreturn\u001b[0m \u001b[0mfuture\u001b[0m\u001b[1;33m.\u001b[0m\u001b[0mresult\u001b[0m\u001b[1;33m(\u001b[0m\u001b[0mtimeout\u001b[0m\u001b[1;33m=\u001b[0m\u001b[0mtimeout\u001b[0m\u001b[1;33m)\u001b[0m\u001b[1;33m\u001b[0m\u001b[1;33m\u001b[0m\u001b[0m\n\u001b[0m\u001b[0;32m    543\u001b[0m         \u001b[1;32mexcept\u001b[0m \u001b[0mCfTimeoutError\u001b[0m \u001b[1;32mas\u001b[0m \u001b[0me\u001b[0m\u001b[1;33m:\u001b[0m\u001b[1;33m\u001b[0m\u001b[1;33m\u001b[0m\u001b[0m\n\u001b[0;32m    544\u001b[0m             \u001b[1;32mraise\u001b[0m \u001b[0mTimeoutError\u001b[0m \u001b[1;32mfrom\u001b[0m \u001b[0me\u001b[0m\u001b[1;33m\u001b[0m\u001b[1;33m\u001b[0m\u001b[0m\n",
      "\u001b[1;32m~\\anaconda3\\envs\\Bosch\\lib\\concurrent\\futures\\_base.py\u001b[0m in \u001b[0;36mresult\u001b[1;34m(self, timeout)\u001b[0m\n\u001b[0;32m    437\u001b[0m                     \u001b[1;32mreturn\u001b[0m \u001b[0mself\u001b[0m\u001b[1;33m.\u001b[0m\u001b[0m__get_result\u001b[0m\u001b[1;33m(\u001b[0m\u001b[1;33m)\u001b[0m\u001b[1;33m\u001b[0m\u001b[1;33m\u001b[0m\u001b[0m\n\u001b[0;32m    438\u001b[0m \u001b[1;33m\u001b[0m\u001b[0m\n\u001b[1;32m--> 439\u001b[1;33m                 \u001b[0mself\u001b[0m\u001b[1;33m.\u001b[0m\u001b[0m_condition\u001b[0m\u001b[1;33m.\u001b[0m\u001b[0mwait\u001b[0m\u001b[1;33m(\u001b[0m\u001b[0mtimeout\u001b[0m\u001b[1;33m)\u001b[0m\u001b[1;33m\u001b[0m\u001b[1;33m\u001b[0m\u001b[0m\n\u001b[0m\u001b[0;32m    440\u001b[0m \u001b[1;33m\u001b[0m\u001b[0m\n\u001b[0;32m    441\u001b[0m                 \u001b[1;32mif\u001b[0m \u001b[0mself\u001b[0m\u001b[1;33m.\u001b[0m\u001b[0m_state\u001b[0m \u001b[1;32min\u001b[0m \u001b[1;33m[\u001b[0m\u001b[0mCANCELLED\u001b[0m\u001b[1;33m,\u001b[0m \u001b[0mCANCELLED_AND_NOTIFIED\u001b[0m\u001b[1;33m]\u001b[0m\u001b[1;33m:\u001b[0m\u001b[1;33m\u001b[0m\u001b[1;33m\u001b[0m\u001b[0m\n",
      "\u001b[1;32m~\\anaconda3\\envs\\Bosch\\lib\\threading.py\u001b[0m in \u001b[0;36mwait\u001b[1;34m(self, timeout)\u001b[0m\n\u001b[0;32m    300\u001b[0m         \u001b[1;32mtry\u001b[0m\u001b[1;33m:\u001b[0m    \u001b[1;31m# restore state no matter what (e.g., KeyboardInterrupt)\u001b[0m\u001b[1;33m\u001b[0m\u001b[1;33m\u001b[0m\u001b[0m\n\u001b[0;32m    301\u001b[0m             \u001b[1;32mif\u001b[0m \u001b[0mtimeout\u001b[0m \u001b[1;32mis\u001b[0m \u001b[1;32mNone\u001b[0m\u001b[1;33m:\u001b[0m\u001b[1;33m\u001b[0m\u001b[1;33m\u001b[0m\u001b[0m\n\u001b[1;32m--> 302\u001b[1;33m                 \u001b[0mwaiter\u001b[0m\u001b[1;33m.\u001b[0m\u001b[0macquire\u001b[0m\u001b[1;33m(\u001b[0m\u001b[1;33m)\u001b[0m\u001b[1;33m\u001b[0m\u001b[1;33m\u001b[0m\u001b[0m\n\u001b[0m\u001b[0;32m    303\u001b[0m                 \u001b[0mgotit\u001b[0m \u001b[1;33m=\u001b[0m \u001b[1;32mTrue\u001b[0m\u001b[1;33m\u001b[0m\u001b[1;33m\u001b[0m\u001b[0m\n\u001b[0;32m    304\u001b[0m             \u001b[1;32melse\u001b[0m\u001b[1;33m:\u001b[0m\u001b[1;33m\u001b[0m\u001b[1;33m\u001b[0m\u001b[0m\n",
      "\u001b[1;31mKeyboardInterrupt\u001b[0m: "
     ]
    }
   ],
   "source": [
    "params = { 'n_estimators': [50,100,150],\n",
    "           'subsample' :[0.5,0.7,1],\n",
    "           'max_depth': [3,5,7,9],\n",
    "           'learning_rate': [0.01, 0.05, 0.1],\n",
    "           'min_child_weight':[0,5,15],\n",
    "           'colsample_bytree': [0.5,0.7,1],\n",
    "          'scale_pos_weight':[1,10,100]\n",
    "         }\n",
    "\n",
    "xgb_model = XGBClassifier(eval_metric=['logloss','auc','error'],use_label_encoder=False)\n",
    "\n",
    "grid_search = GridSearchCV(estimator=xgb_model, \n",
    "                   param_grid=params,\n",
    "                   scoring=make_scorer(matthews_corrcoef), \n",
    "                   n_jobs=-1,\n",
    "                   verbose=3,\n",
    "                    cv=3)\n",
    "grid_search.fit(X_train, y_train)\n",
    "\n",
    "print(\"Best parameters:\", grid_search.best_params_)"
   ]
  },
  {
   "cell_type": "markdown",
   "id": "abe9d954-aa5c-4193-a400-1cb4511a7fe4",
   "metadata": {},
   "source": [
    "Fitting 3 folds for each of 324 candidates, totalling 972 fits  \n",
    "Best parameters: {'learning_rate': 0.05, 'max_depth': 3, 'min_child_weight': 5, 'n_estimators': 150, 'scale_pos_weight': 1}"
   ]
  },
  {
   "cell_type": "code",
   "execution_count": 57,
   "id": "199dc351-f0b6-4388-a9d1-450c0f1f9e64",
   "metadata": {
    "execution": {
     "iopub.execute_input": "2022-01-09T18:03:32.365668Z",
     "iopub.status.busy": "2022-01-09T18:03:32.365668Z",
     "iopub.status.idle": "2022-01-09T18:03:32.934519Z",
     "shell.execute_reply": "2022-01-09T18:03:32.934519Z",
     "shell.execute_reply.started": "2022-01-09T18:03:32.365668Z"
    },
    "tags": []
   },
   "outputs": [],
   "source": [
    "X = df[df.columns[df.columns.isin(data_n_40_name)]]\n",
    "y = df['Response']\n",
    "X_train, X_test, y_train, y_test = train_test_split(X, y, test_size=0.3, random_state=1, stratify=y)"
   ]
  },
  {
   "cell_type": "code",
   "execution_count": 58,
   "id": "cee566a0-5812-425a-a419-1c54a93fe7ed",
   "metadata": {
    "execution": {
     "iopub.execute_input": "2022-01-09T18:03:36.921516Z",
     "iopub.status.busy": "2022-01-09T18:03:36.921516Z",
     "iopub.status.idle": "2022-01-09T18:03:54.327159Z",
     "shell.execute_reply": "2022-01-09T18:03:54.327159Z",
     "shell.execute_reply.started": "2022-01-09T18:03:36.921516Z"
    },
    "tags": []
   },
   "outputs": [
    {
     "name": "stdout",
     "output_type": "stream",
     "text": [
      "Our MCC is:  0.24749605015756956\n"
     ]
    },
    {
     "data": {
      "text/plain": [
       "<AxesSubplot:>"
      ]
     },
     "execution_count": 58,
     "metadata": {},
     "output_type": "execute_result"
    },
    {
     "data": {
      "image/png": "[encoded data removed]",
      "text/plain": [
       "<Figure size 432x288 with 2 Axes>"
      ]
     },
     "metadata": {
      "needs_background": "light"
     },
     "output_type": "display_data"
    }
   ],
   "source": [
    "# fit model\n",
    "model_n40 = XGBClassifier(n_estimators=150,max_depth=3,learning_rate=0.05,min_child_weight=5,\n",
    "                        scale_pos_weight=1,eval_metric=['logloss','auc','error'],use_label_encoder=False)\n",
    "model_n40.fit(X_train, y_train)\n",
    "\n",
    "# predict data\n",
    "y_pred = model_n40.predict(X_test)\n",
    "print('Our MCC is: ', matthews_corrcoef(y_test, y_pred))\n",
    "\n",
    "mat = confusion_matrix(y_test, y_pred)\n",
    "sns.heatmap(mat,annot=True, cmap='Blues',fmt='g')"
   ]
  },
  {
   "cell_type": "markdown",
   "id": "27aec03e-c833-4556-b5c1-feabdf486209",
   "metadata": {},
   "source": [
    "## model  : n = 50"
   ]
  },
  {
   "cell_type": "code",
   "execution_count": 81,
   "id": "7d502c36-29f4-4032-9438-f400b3ea9cff",
   "metadata": {
    "execution": {
     "iopub.execute_input": "2022-01-09T18:44:13.161882Z",
     "iopub.status.busy": "2022-01-09T18:44:13.161882Z",
     "iopub.status.idle": "2022-01-09T18:44:15.188977Z",
     "shell.execute_reply": "2022-01-09T18:44:15.188977Z",
     "shell.execute_reply.started": "2022-01-09T18:44:13.161882Z"
    },
    "tags": []
   },
   "outputs": [],
   "source": [
    "#define total sample size desired\n",
    "N = 100000\n",
    "#perform stratified random sampling\n",
    "df2=df.groupby('Response', group_keys=False).apply(lambda x: x.sample(int(np.rint(N*len(x)/len(df))))).sample(frac=1).reset_index(drop=True)"
   ]
  },
  {
   "cell_type": "code",
   "execution_count": 82,
   "id": "5ef6c4c9-c1f5-4a25-b51d-69500bfba149",
   "metadata": {
    "execution": {
     "iopub.execute_input": "2022-01-09T18:44:15.189975Z",
     "iopub.status.busy": "2022-01-09T18:44:15.189975Z",
     "iopub.status.idle": "2022-01-09T18:44:15.204949Z",
     "shell.execute_reply": "2022-01-09T18:44:15.204949Z",
     "shell.execute_reply.started": "2022-01-09T18:44:15.189975Z"
    },
    "tags": []
   },
   "outputs": [
    {
     "name": "stdout",
     "output_type": "stream",
     "text": [
      "類0樣本數量:99419\n",
      "類1樣本數量:581\n",
      "類0樣本數量比率為:99.419 %\n",
      "類1樣本數量比率為:0.581 %\n"
     ]
    }
   ],
   "source": [
    "# 各類樣本數量\n",
    "print('類0樣本數量:{}'.format(df2['Response'].value_counts()[0]))\n",
    "print('類1樣本數量:{}'.format(df2['Response'].value_counts()[1]))\n",
    "# 各類樣本比例\n",
    "print('類0樣本數量比率為:{} %'.format((df2['Response'].value_counts()[0]/len(df2))*100))\n",
    "print('類1樣本數量比率為:{} %'.format((df2['Response'].value_counts()[1]/len(df2))*100))"
   ]
  },
  {
   "cell_type": "code",
   "execution_count": 83,
   "id": "49f0286a-b732-4aab-942d-888df647a05d",
   "metadata": {
    "execution": {
     "iopub.execute_input": "2022-01-09T18:44:19.796773Z",
     "iopub.status.busy": "2022-01-09T18:44:19.796773Z",
     "iopub.status.idle": "2022-01-09T18:44:19.861607Z",
     "shell.execute_reply": "2022-01-09T18:44:19.861607Z",
     "shell.execute_reply.started": "2022-01-09T18:44:19.796773Z"
    },
    "tags": []
   },
   "outputs": [],
   "source": [
    "X = df2[df2.columns[df2.columns.isin(data_n_50_name)]]\n",
    "y = df2['Response']\n",
    "X_train, X_test, y_train, y_test = train_test_split(X, y, test_size=0.3, random_state=1, stratify=y)"
   ]
  },
  {
   "cell_type": "code",
   "execution_count": 84,
   "id": "ef4ab85e-0fc6-4bb2-b1f8-803885de4bbc",
   "metadata": {
    "execution": {
     "iopub.execute_input": "2022-01-09T18:44:32.104456Z",
     "iopub.status.busy": "2022-01-09T18:44:32.104456Z",
     "iopub.status.idle": "2022-01-09T21:27:15.915914Z",
     "shell.execute_reply": "2022-01-09T21:27:15.915914Z",
     "shell.execute_reply.started": "2022-01-09T18:44:32.104456Z"
    },
    "tags": []
   },
   "outputs": [
    {
     "name": "stdout",
     "output_type": "stream",
     "text": [
      "Fitting 3 folds for each of 2916 candidates, totalling 8748 fits\n",
      "Best parameters: {'colsample_bytree': 0.5, 'learning_rate': 0.05, 'max_depth': 3, 'min_child_weight': 0, 'n_estimators': 50, 'scale_pos_weight': 10, 'subsample': 1}\n"
     ]
    }
   ],
   "source": [
    "params = {'n_estimators': [50,100,150],\n",
    "           'subsample' :[0.5,0.7,1],\n",
    "           'max_depth': [3,5,7,9],\n",
    "           'learning_rate': [0.01, 0.05, 0.1],\n",
    "           'min_child_weight':[0,5,15],\n",
    "           'colsample_bytree': [0.5,0.7,1],\n",
    "          'scale_pos_weight':[1,10,100]\n",
    "         }\n",
    "\n",
    "xgb_model = XGBClassifier(eval_metric=['logloss','auc','error'],use_label_encoder=False)\n",
    "\n",
    "grid_search = GridSearchCV(estimator=xgb_model, \n",
    "                   param_grid=params,\n",
    "                   scoring=make_scorer(matthews_corrcoef), \n",
    "                   n_jobs=-1,\n",
    "                   verbose=3,\n",
    "                    cv=3)\n",
    "grid_search.fit(X_train, y_train)\n",
    "\n",
    "print(\"Best parameters:\", grid_search.best_params_)"
   ]
  },
  {
   "cell_type": "markdown",
   "id": "fa77e3f2-38b0-44db-8738-3da57500042e",
   "metadata": {},
   "source": [
    "Fitting 3 folds for each of 324 candidates, totalling 972 fits\n",
    "Best parameters: {'learning_rate': 0.1, 'max_depth': 7, 'min_child_weight': 5, 'n_estimators': 150, 'scale_pos_weight': 1}\n",
    "\n",
    "Fitting 3 folds for each of 2916 candidates, totalling 8748 fits  \n",
    "Best parameters: {'colsample_bytree': 0.5, 'learning_rate': 0.05, 'max_depth': 3, 'min_child_weight': 0, 'n_estimators': 50, 'scale_pos_weight': 10, 'subsample': 1}"
   ]
  },
  {
   "cell_type": "code",
   "execution_count": 89,
   "id": "89b84a9e-8127-4e48-a194-bdcdec9f4716",
   "metadata": {
    "execution": {
     "iopub.execute_input": "2022-01-09T21:52:23.616246Z",
     "iopub.status.busy": "2022-01-09T21:52:23.616246Z",
     "iopub.status.idle": "2022-01-09T21:52:24.284687Z",
     "shell.execute_reply": "2022-01-09T21:52:24.284687Z",
     "shell.execute_reply.started": "2022-01-09T21:52:23.616246Z"
    },
    "tags": []
   },
   "outputs": [],
   "source": [
    "X = df[df.columns[df.columns.isin(data_n_50_name)]]\n",
    "y = df['Response']\n",
    "X_train, X_test, y_train, y_test = train_test_split(X, y, test_size=0.3, random_state=1, stratify=y)"
   ]
  },
  {
   "cell_type": "code",
   "execution_count": 91,
   "id": "42899310-7f16-44fd-9605-f96f0f037970",
   "metadata": {
    "execution": {
     "iopub.execute_input": "2022-01-09T21:54:49.026724Z",
     "iopub.status.busy": "2022-01-09T21:54:49.025726Z",
     "iopub.status.idle": "2022-01-09T21:54:53.919359Z",
     "shell.execute_reply": "2022-01-09T21:54:53.919359Z",
     "shell.execute_reply.started": "2022-01-09T21:54:49.026724Z"
    },
    "tags": []
   },
   "outputs": [
    {
     "name": "stdout",
     "output_type": "stream",
     "text": [
      "Our MCC is:  0.22944953719759287\n"
     ]
    },
    {
     "data": {
      "text/plain": [
       "<AxesSubplot:>"
      ]
     },
     "execution_count": 91,
     "metadata": {},
     "output_type": "execute_result"
    },
    {
     "data": {
      "image/png": "[encoded data removed]",
      "text/plain": [
       "<Figure size 432x288 with 2 Axes>"
      ]
     },
     "metadata": {
      "needs_background": "light"
     },
     "output_type": "display_data"
    }
   ],
   "source": [
    "# fit model\n",
    "model_n50 = XGBClassifier(n_estimators=50,max_depth=3,learning_rate=0.05,min_child_weight=0,colsample_bytree=0.5,subsample=1,\n",
    "                        scale_pos_weight=10,eval_metric=['logloss','auc','error'],use_label_encoder=False)\n",
    "model_n50.fit(X_train, y_train)\n",
    "\n",
    "# predict data\n",
    "y_pred = model_n50.predict(X_test)\n",
    "print('Our MCC is: ', matthews_corrcoef(y_test, y_pred))\n",
    "\n",
    "mat = confusion_matrix(y_test, y_pred)\n",
    "sns.heatmap(mat,annot=True, cmap='Blues',fmt='g')"
   ]
  },
  {
   "cell_type": "code",
   "execution_count": 64,
   "id": "5a1697c6-a4e8-4ce9-a9ef-e6c798338e1a",
   "metadata": {
    "execution": {
     "iopub.execute_input": "2022-01-09T18:15:49.608030Z",
     "iopub.status.busy": "2022-01-09T18:15:49.608030Z",
     "iopub.status.idle": "2022-01-09T18:16:38.825024Z",
     "shell.execute_reply": "2022-01-09T18:16:38.825024Z",
     "shell.execute_reply.started": "2022-01-09T18:15:49.608030Z"
    },
    "tags": []
   },
   "outputs": [
    {
     "name": "stdout",
     "output_type": "stream",
     "text": [
      "Our MCC is:  0.2838689774690604\n"
     ]
    },
    {
     "data": {
      "text/plain": [
       "<AxesSubplot:>"
      ]
     },
     "execution_count": 64,
     "metadata": {},
     "output_type": "execute_result"
    },
    {
     "data": {
      "image/png": "[encoded data removed]",
      "text/plain": [
       "<Figure size 432x288 with 2 Axes>"
      ]
     },
     "metadata": {
      "needs_background": "light"
     },
     "output_type": "display_data"
    }
   ],
   "source": [
    "# fit model\n",
    "model_n50 = XGBClassifier(n_estimators=150,subsample=0.7,max_depth=7,learning_rate=0.1,min_child_weight=5,colsample_bytree=1, \n",
    "                        scale_pos_weight=1,eval_metric=['logloss','auc','error'],use_label_encoder=False)\n",
    "model_n50.fit(X_train, y_train)\n",
    "\n",
    "# predict data\n",
    "y_pred = model_n50.predict(X_test)\n",
    "print('Our MCC is: ', matthews_corrcoef(y_test, y_pred))\n",
    "\n",
    "mat = confusion_matrix(y_test, y_pred)\n",
    "sns.heatmap(mat,annot=True, cmap='Blues',fmt='g')"
   ]
  }
 ],
 "metadata": {
  "kernelspec": {
   "display_name": "Python 3 (ipykernel)",
   "language": "python",
   "name": "python3"
  },
  "language_info": {
   "codemirror_mode": {
    "name": "ipython",
    "version": 3
   },
   "file_extension": ".py",
   "mimetype": "text/x-python",
   "name": "python",
   "nbconvert_exporter": "python",
   "pygments_lexer": "ipython3",
   "version": "3.8.12"
  }
 },
 "nbformat": 4,
 "nbformat_minor": 5
}
