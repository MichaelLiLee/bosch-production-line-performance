{
 "cells": [
  {
   "cell_type": "markdown",
   "id": "2d130e9c-d8ab-49be-b191-503d750aeaa5",
   "metadata": {},
   "source": [
    "# Reference  \n",
    "[A guide to XGBoost hyperparameters](https://towardsdatascience.com/a-guide-to-xgboost-hyperparameters-87980c7f44a9) \n",
    "[Notes on Parameter Tuning](https://xgboost.readthedocs.io/en/stable/tutorials/param_tuning.html)  \n",
    "[[Day 23] Hyperparameter tuning / 調校超參數 part II](https://ithelp.ithome.com.tw/articles/10219135)  \n",
    "[Stratified Sampling in Pandas (With Examples)](https://www.statology.org/stratified-sampling-pandas/)  \n",
    "[sklearn的feature_importances_含义是什么？](https://blog.csdn.net/weixin_37659245/article/details/100171656)  \n",
    "[Feature Importance Measures for Tree Models — Part I](https://medium.com/the-artificial-impostor/feature-importance-measures-for-tree-models-part-i-47f187c1a2c3)"
   ]
  },
  {
   "cell_type": "markdown",
   "id": "513f9c04-9326-4619-9bd2-f07c6836ff42",
   "metadata": {
    "execution": {
     "iopub.execute_input": "2022-01-03T07:15:30.170821Z",
     "iopub.status.busy": "2022-01-03T07:15:30.170821Z",
     "iopub.status.idle": "2022-01-03T07:15:30.183786Z",
     "shell.execute_reply": "2022-01-03T07:15:30.183786Z",
     "shell.execute_reply.started": "2022-01-03T07:15:30.170821Z"
    },
    "tags": []
   },
   "source": [
    "## XGB調參  \n",
    "n_estimators  \n",
    "subsample  \n",
    "max_depth  \n",
    "learning_rate  \n",
    "gamma  \n",
    "reg_alpha  \n",
    "reg_lambda  \n",
    "scale_pos_weight  \n",
    "eval_metric"
   ]
  },
  {
   "cell_type": "markdown",
   "id": "5fe270a7-20b9-4f9b-8710-437c08d513b3",
   "metadata": {},
   "source": [
    "## BaseLine_model_0 配置  \n",
    "* data  \n",
    "實質特徵刪除單一值與遺失率>50%之欄位  \n",
    "\n",
    "* 超參數  "
   ]
  },
  {
   "cell_type": "code",
   "execution_count": 22,
   "id": "fc44929b-f711-4ea2-a2b3-56d089ee531a",
   "metadata": {
    "execution": {
     "iopub.execute_input": "2022-01-08T10:01:07.359688Z",
     "iopub.status.busy": "2022-01-08T10:01:07.359688Z",
     "iopub.status.idle": "2022-01-08T10:01:07.939819Z",
     "shell.execute_reply": "2022-01-08T10:01:07.939819Z",
     "shell.execute_reply.started": "2022-01-08T10:01:07.359688Z"
    },
    "tags": []
   },
   "outputs": [],
   "source": [
    "import pandas as pd\n",
    "import numpy as np\n",
    "from xgboost import XGBClassifier\n",
    "from sklearn.model_selection import train_test_split,GridSearchCV\n",
    "from sklearn.metrics import matthews_corrcoef, confusion_matrix, make_scorer\n",
    "import seaborn as sns"
   ]
  },
  {
   "cell_type": "code",
   "execution_count": 3,
   "id": "6648a763-0e52-4697-bd52-c78e9701808b",
   "metadata": {
    "execution": {
     "iopub.execute_input": "2022-01-06T09:36:23.764037Z",
     "iopub.status.busy": "2022-01-06T09:36:23.764037Z",
     "iopub.status.idle": "2022-01-06T09:36:33.198239Z",
     "shell.execute_reply": "2022-01-06T09:36:33.198239Z",
     "shell.execute_reply.started": "2022-01-06T09:36:23.764037Z"
    },
    "tags": []
   },
   "outputs": [],
   "source": [
    "df = pd.read_csv('dataset/train_numerical_clean1.csv')"
   ]
  },
  {
   "cell_type": "code",
   "execution_count": 4,
   "id": "ea05d217-49c3-4290-94e3-117ca483a25d",
   "metadata": {
    "execution": {
     "iopub.execute_input": "2022-01-06T09:36:38.871339Z",
     "iopub.status.busy": "2022-01-06T09:36:38.871339Z",
     "iopub.status.idle": "2022-01-06T09:36:39.034631Z",
     "shell.execute_reply": "2022-01-06T09:36:39.034631Z",
     "shell.execute_reply.started": "2022-01-06T09:36:38.871339Z"
    },
    "tags": []
   },
   "outputs": [
    {
     "data": {
      "text/html": [
       "<div>\n",
       "<style scoped>\n",
       "    .dataframe tbody tr th:only-of-type {\n",
       "        vertical-align: middle;\n",
       "    }\n",
       "\n",
       "    .dataframe tbody tr th {\n",
       "        vertical-align: top;\n",
       "    }\n",
       "\n",
       "    .dataframe thead th {\n",
       "        text-align: right;\n",
       "    }\n",
       "</style>\n",
       "<table border=\"1\" class=\"dataframe\">\n",
       "  <thead>\n",
       "    <tr style=\"text-align: right;\">\n",
       "      <th></th>\n",
       "      <th>Id</th>\n",
       "      <th>L0_S0_F0</th>\n",
       "      <th>L0_S0_F2</th>\n",
       "      <th>L0_S0_F4</th>\n",
       "      <th>L0_S0_F6</th>\n",
       "      <th>L0_S0_F8</th>\n",
       "      <th>L0_S0_F10</th>\n",
       "      <th>L0_S0_F12</th>\n",
       "      <th>L0_S0_F14</th>\n",
       "      <th>L0_S0_F16</th>\n",
       "      <th>...</th>\n",
       "      <th>L3_S33_F3873</th>\n",
       "      <th>L3_S34_F3876</th>\n",
       "      <th>L3_S34_F3878</th>\n",
       "      <th>L3_S34_F3880</th>\n",
       "      <th>L3_S34_F3882</th>\n",
       "      <th>L3_S37_F3944</th>\n",
       "      <th>L3_S37_F3946</th>\n",
       "      <th>L3_S37_F3948</th>\n",
       "      <th>L3_S37_F3950</th>\n",
       "      <th>Response</th>\n",
       "    </tr>\n",
       "  </thead>\n",
       "  <tbody>\n",
       "    <tr>\n",
       "      <th>0</th>\n",
       "      <td>4</td>\n",
       "      <td>0.030</td>\n",
       "      <td>-0.034</td>\n",
       "      <td>-0.197</td>\n",
       "      <td>-0.179</td>\n",
       "      <td>0.118</td>\n",
       "      <td>0.116</td>\n",
       "      <td>-0.015</td>\n",
       "      <td>-0.032</td>\n",
       "      <td>0.020</td>\n",
       "      <td>...</td>\n",
       "      <td>0.0</td>\n",
       "      <td>0.0</td>\n",
       "      <td>0.0</td>\n",
       "      <td>0.0</td>\n",
       "      <td>0.0</td>\n",
       "      <td>0.0</td>\n",
       "      <td>0.0</td>\n",
       "      <td>0.0</td>\n",
       "      <td>0.0</td>\n",
       "      <td>0</td>\n",
       "    </tr>\n",
       "    <tr>\n",
       "      <th>1</th>\n",
       "      <td>6</td>\n",
       "      <td>NaN</td>\n",
       "      <td>NaN</td>\n",
       "      <td>NaN</td>\n",
       "      <td>NaN</td>\n",
       "      <td>NaN</td>\n",
       "      <td>NaN</td>\n",
       "      <td>NaN</td>\n",
       "      <td>NaN</td>\n",
       "      <td>NaN</td>\n",
       "      <td>...</td>\n",
       "      <td>0.0</td>\n",
       "      <td>0.0</td>\n",
       "      <td>0.0</td>\n",
       "      <td>0.0</td>\n",
       "      <td>0.0</td>\n",
       "      <td>0.0</td>\n",
       "      <td>0.0</td>\n",
       "      <td>0.0</td>\n",
       "      <td>0.0</td>\n",
       "      <td>0</td>\n",
       "    </tr>\n",
       "    <tr>\n",
       "      <th>2</th>\n",
       "      <td>7</td>\n",
       "      <td>0.088</td>\n",
       "      <td>0.086</td>\n",
       "      <td>0.003</td>\n",
       "      <td>-0.052</td>\n",
       "      <td>0.161</td>\n",
       "      <td>0.025</td>\n",
       "      <td>-0.015</td>\n",
       "      <td>-0.072</td>\n",
       "      <td>-0.225</td>\n",
       "      <td>...</td>\n",
       "      <td>0.0</td>\n",
       "      <td>0.0</td>\n",
       "      <td>0.0</td>\n",
       "      <td>0.0</td>\n",
       "      <td>0.0</td>\n",
       "      <td>0.0</td>\n",
       "      <td>0.0</td>\n",
       "      <td>0.0</td>\n",
       "      <td>0.0</td>\n",
       "      <td>0</td>\n",
       "    </tr>\n",
       "    <tr>\n",
       "      <th>3</th>\n",
       "      <td>9</td>\n",
       "      <td>-0.036</td>\n",
       "      <td>-0.064</td>\n",
       "      <td>0.294</td>\n",
       "      <td>0.330</td>\n",
       "      <td>0.074</td>\n",
       "      <td>0.161</td>\n",
       "      <td>0.022</td>\n",
       "      <td>0.128</td>\n",
       "      <td>-0.026</td>\n",
       "      <td>...</td>\n",
       "      <td>0.0</td>\n",
       "      <td>0.0</td>\n",
       "      <td>0.0</td>\n",
       "      <td>0.0</td>\n",
       "      <td>0.0</td>\n",
       "      <td>0.0</td>\n",
       "      <td>0.0</td>\n",
       "      <td>0.0</td>\n",
       "      <td>0.0</td>\n",
       "      <td>0</td>\n",
       "    </tr>\n",
       "    <tr>\n",
       "      <th>4</th>\n",
       "      <td>11</td>\n",
       "      <td>-0.055</td>\n",
       "      <td>-0.086</td>\n",
       "      <td>0.294</td>\n",
       "      <td>0.330</td>\n",
       "      <td>0.118</td>\n",
       "      <td>0.025</td>\n",
       "      <td>0.030</td>\n",
       "      <td>0.168</td>\n",
       "      <td>-0.169</td>\n",
       "      <td>...</td>\n",
       "      <td>0.0</td>\n",
       "      <td>0.0</td>\n",
       "      <td>0.0</td>\n",
       "      <td>0.0</td>\n",
       "      <td>0.0</td>\n",
       "      <td>0.0</td>\n",
       "      <td>0.0</td>\n",
       "      <td>0.0</td>\n",
       "      <td>0.0</td>\n",
       "      <td>0</td>\n",
       "    </tr>\n",
       "    <tr>\n",
       "      <th>...</th>\n",
       "      <td>...</td>\n",
       "      <td>...</td>\n",
       "      <td>...</td>\n",
       "      <td>...</td>\n",
       "      <td>...</td>\n",
       "      <td>...</td>\n",
       "      <td>...</td>\n",
       "      <td>...</td>\n",
       "      <td>...</td>\n",
       "      <td>...</td>\n",
       "      <td>...</td>\n",
       "      <td>...</td>\n",
       "      <td>...</td>\n",
       "      <td>...</td>\n",
       "      <td>...</td>\n",
       "      <td>...</td>\n",
       "      <td>...</td>\n",
       "      <td>...</td>\n",
       "      <td>...</td>\n",
       "      <td>...</td>\n",
       "      <td>...</td>\n",
       "    </tr>\n",
       "    <tr>\n",
       "      <th>1183742</th>\n",
       "      <td>2367490</td>\n",
       "      <td>-0.023</td>\n",
       "      <td>0.033</td>\n",
       "      <td>-0.015</td>\n",
       "      <td>-0.016</td>\n",
       "      <td>-0.013</td>\n",
       "      <td>0.070</td>\n",
       "      <td>0.008</td>\n",
       "      <td>-0.032</td>\n",
       "      <td>0.178</td>\n",
       "      <td>...</td>\n",
       "      <td>0.0</td>\n",
       "      <td>0.0</td>\n",
       "      <td>0.0</td>\n",
       "      <td>0.0</td>\n",
       "      <td>0.0</td>\n",
       "      <td>0.0</td>\n",
       "      <td>0.0</td>\n",
       "      <td>0.0</td>\n",
       "      <td>0.0</td>\n",
       "      <td>0</td>\n",
       "    </tr>\n",
       "    <tr>\n",
       "      <th>1183743</th>\n",
       "      <td>2367491</td>\n",
       "      <td>NaN</td>\n",
       "      <td>NaN</td>\n",
       "      <td>NaN</td>\n",
       "      <td>NaN</td>\n",
       "      <td>NaN</td>\n",
       "      <td>NaN</td>\n",
       "      <td>NaN</td>\n",
       "      <td>NaN</td>\n",
       "      <td>NaN</td>\n",
       "      <td>...</td>\n",
       "      <td>0.0</td>\n",
       "      <td>0.0</td>\n",
       "      <td>0.0</td>\n",
       "      <td>0.0</td>\n",
       "      <td>0.0</td>\n",
       "      <td>0.0</td>\n",
       "      <td>0.0</td>\n",
       "      <td>0.0</td>\n",
       "      <td>0.0</td>\n",
       "      <td>0</td>\n",
       "    </tr>\n",
       "    <tr>\n",
       "      <th>1183744</th>\n",
       "      <td>2367492</td>\n",
       "      <td>0.075</td>\n",
       "      <td>0.123</td>\n",
       "      <td>-0.343</td>\n",
       "      <td>-0.325</td>\n",
       "      <td>0.031</td>\n",
       "      <td>0.161</td>\n",
       "      <td>-0.030</td>\n",
       "      <td>-0.232</td>\n",
       "      <td>0.214</td>\n",
       "      <td>...</td>\n",
       "      <td>0.0</td>\n",
       "      <td>0.0</td>\n",
       "      <td>0.0</td>\n",
       "      <td>0.0</td>\n",
       "      <td>0.0</td>\n",
       "      <td>0.0</td>\n",
       "      <td>0.0</td>\n",
       "      <td>0.0</td>\n",
       "      <td>0.0</td>\n",
       "      <td>0</td>\n",
       "    </tr>\n",
       "    <tr>\n",
       "      <th>1183745</th>\n",
       "      <td>2367493</td>\n",
       "      <td>-0.062</td>\n",
       "      <td>-0.019</td>\n",
       "      <td>-0.179</td>\n",
       "      <td>-0.179</td>\n",
       "      <td>-0.100</td>\n",
       "      <td>0.116</td>\n",
       "      <td>0.000</td>\n",
       "      <td>-0.072</td>\n",
       "      <td>0.025</td>\n",
       "      <td>...</td>\n",
       "      <td>0.0</td>\n",
       "      <td>0.0</td>\n",
       "      <td>0.0</td>\n",
       "      <td>0.0</td>\n",
       "      <td>0.0</td>\n",
       "      <td>0.0</td>\n",
       "      <td>0.0</td>\n",
       "      <td>0.0</td>\n",
       "      <td>0.0</td>\n",
       "      <td>0</td>\n",
       "    </tr>\n",
       "    <tr>\n",
       "      <th>1183746</th>\n",
       "      <td>2367495</td>\n",
       "      <td>-0.023</td>\n",
       "      <td>0.019</td>\n",
       "      <td>-0.033</td>\n",
       "      <td>-0.052</td>\n",
       "      <td>0.031</td>\n",
       "      <td>0.161</td>\n",
       "      <td>0.000</td>\n",
       "      <td>-0.032</td>\n",
       "      <td>-0.072</td>\n",
       "      <td>...</td>\n",
       "      <td>0.0</td>\n",
       "      <td>0.0</td>\n",
       "      <td>0.0</td>\n",
       "      <td>0.0</td>\n",
       "      <td>0.0</td>\n",
       "      <td>0.0</td>\n",
       "      <td>0.0</td>\n",
       "      <td>0.0</td>\n",
       "      <td>0.0</td>\n",
       "      <td>0</td>\n",
       "    </tr>\n",
       "  </tbody>\n",
       "</table>\n",
       "<p>1183747 rows × 158 columns</p>\n",
       "</div>"
      ],
      "text/plain": [
       "              Id  L0_S0_F0  L0_S0_F2  L0_S0_F4  L0_S0_F6  L0_S0_F8  L0_S0_F10  \\\n",
       "0              4     0.030    -0.034    -0.197    -0.179     0.118      0.116   \n",
       "1              6       NaN       NaN       NaN       NaN       NaN        NaN   \n",
       "2              7     0.088     0.086     0.003    -0.052     0.161      0.025   \n",
       "3              9    -0.036    -0.064     0.294     0.330     0.074      0.161   \n",
       "4             11    -0.055    -0.086     0.294     0.330     0.118      0.025   \n",
       "...          ...       ...       ...       ...       ...       ...        ...   \n",
       "1183742  2367490    -0.023     0.033    -0.015    -0.016    -0.013      0.070   \n",
       "1183743  2367491       NaN       NaN       NaN       NaN       NaN        NaN   \n",
       "1183744  2367492     0.075     0.123    -0.343    -0.325     0.031      0.161   \n",
       "1183745  2367493    -0.062    -0.019    -0.179    -0.179    -0.100      0.116   \n",
       "1183746  2367495    -0.023     0.019    -0.033    -0.052     0.031      0.161   \n",
       "\n",
       "         L0_S0_F12  L0_S0_F14  L0_S0_F16  ...  L3_S33_F3873  L3_S34_F3876  \\\n",
       "0           -0.015     -0.032      0.020  ...           0.0           0.0   \n",
       "1              NaN        NaN        NaN  ...           0.0           0.0   \n",
       "2           -0.015     -0.072     -0.225  ...           0.0           0.0   \n",
       "3            0.022      0.128     -0.026  ...           0.0           0.0   \n",
       "4            0.030      0.168     -0.169  ...           0.0           0.0   \n",
       "...            ...        ...        ...  ...           ...           ...   \n",
       "1183742      0.008     -0.032      0.178  ...           0.0           0.0   \n",
       "1183743        NaN        NaN        NaN  ...           0.0           0.0   \n",
       "1183744     -0.030     -0.232      0.214  ...           0.0           0.0   \n",
       "1183745      0.000     -0.072      0.025  ...           0.0           0.0   \n",
       "1183746      0.000     -0.032     -0.072  ...           0.0           0.0   \n",
       "\n",
       "         L3_S34_F3878  L3_S34_F3880  L3_S34_F3882  L3_S37_F3944  L3_S37_F3946  \\\n",
       "0                 0.0           0.0           0.0           0.0           0.0   \n",
       "1                 0.0           0.0           0.0           0.0           0.0   \n",
       "2                 0.0           0.0           0.0           0.0           0.0   \n",
       "3                 0.0           0.0           0.0           0.0           0.0   \n",
       "4                 0.0           0.0           0.0           0.0           0.0   \n",
       "...               ...           ...           ...           ...           ...   \n",
       "1183742           0.0           0.0           0.0           0.0           0.0   \n",
       "1183743           0.0           0.0           0.0           0.0           0.0   \n",
       "1183744           0.0           0.0           0.0           0.0           0.0   \n",
       "1183745           0.0           0.0           0.0           0.0           0.0   \n",
       "1183746           0.0           0.0           0.0           0.0           0.0   \n",
       "\n",
       "         L3_S37_F3948  L3_S37_F3950  Response  \n",
       "0                 0.0           0.0         0  \n",
       "1                 0.0           0.0         0  \n",
       "2                 0.0           0.0         0  \n",
       "3                 0.0           0.0         0  \n",
       "4                 0.0           0.0         0  \n",
       "...               ...           ...       ...  \n",
       "1183742           0.0           0.0         0  \n",
       "1183743           0.0           0.0         0  \n",
       "1183744           0.0           0.0         0  \n",
       "1183745           0.0           0.0         0  \n",
       "1183746           0.0           0.0         0  \n",
       "\n",
       "[1183747 rows x 158 columns]"
      ]
     },
     "execution_count": 4,
     "metadata": {},
     "output_type": "execute_result"
    }
   ],
   "source": [
    "df"
   ]
  },
  {
   "cell_type": "code",
   "execution_count": 5,
   "id": "37021394-1934-4185-b0e6-c673e4ec3d02",
   "metadata": {
    "execution": {
     "iopub.execute_input": "2022-01-06T09:36:42.212340Z",
     "iopub.status.busy": "2022-01-06T09:36:42.211342Z",
     "iopub.status.idle": "2022-01-06T09:36:42.235063Z",
     "shell.execute_reply": "2022-01-06T09:36:42.235063Z",
     "shell.execute_reply.started": "2022-01-06T09:36:42.212340Z"
    },
    "tags": []
   },
   "outputs": [
    {
     "name": "stdout",
     "output_type": "stream",
     "text": [
      "類0樣本數量:1176868\n",
      "類1樣本數量:6879\n",
      "類0樣本數量比率為:99.41887920307295 %\n",
      "類1樣本數量比率為:0.581120796927046 %\n"
     ]
    }
   ],
   "source": [
    "# 各類樣本數量\n",
    "print('類0樣本數量:{}'.format(df['Response'].value_counts()[0]))\n",
    "print('類1樣本數量:{}'.format(df['Response'].value_counts()[1]))\n",
    "# 各類樣本比例\n",
    "print('類0樣本數量比率為:{} %'.format((df['Response'].value_counts()[0]/len(df))*100))\n",
    "print('類1樣本數量比率為:{} %'.format((df['Response'].value_counts()[1]/len(df))*100))"
   ]
  },
  {
   "cell_type": "code",
   "execution_count": 6,
   "id": "e100ae13-6698-42eb-b939-0c02b4c1ff2f",
   "metadata": {
    "execution": {
     "iopub.execute_input": "2022-01-06T09:37:04.076934Z",
     "iopub.status.busy": "2022-01-06T09:37:04.076934Z",
     "iopub.status.idle": "2022-01-06T09:37:04.698590Z",
     "shell.execute_reply": "2022-01-06T09:37:04.698590Z",
     "shell.execute_reply.started": "2022-01-06T09:37:04.076934Z"
    },
    "tags": []
   },
   "outputs": [],
   "source": [
    "#define total sample size desired\n",
    "N = 100000\n",
    "#perform stratified random sampling\n",
    "df=df.groupby('Response', group_keys=False).apply(lambda x: x.sample(int(np.rint(N*len(x)/len(df))))).sample(frac=1).reset_index(drop=True)"
   ]
  },
  {
   "cell_type": "code",
   "execution_count": 7,
   "id": "4978b173-262d-49df-a115-0e7ecdae7acc",
   "metadata": {
    "execution": {
     "iopub.execute_input": "2022-01-06T09:37:07.645667Z",
     "iopub.status.busy": "2022-01-06T09:37:07.645667Z",
     "iopub.status.idle": "2022-01-06T09:37:07.653646Z",
     "shell.execute_reply": "2022-01-06T09:37:07.653646Z",
     "shell.execute_reply.started": "2022-01-06T09:37:07.645667Z"
    },
    "tags": []
   },
   "outputs": [
    {
     "name": "stdout",
     "output_type": "stream",
     "text": [
      "類0樣本數量:99419\n",
      "類1樣本數量:581\n",
      "類0樣本數量比率為:99.419 %\n",
      "類1樣本數量比率為:0.581 %\n"
     ]
    }
   ],
   "source": [
    "# 各類樣本數量\n",
    "print('類0樣本數量:{}'.format(df['Response'].value_counts()[0]))\n",
    "print('類1樣本數量:{}'.format(df['Response'].value_counts()[1]))\n",
    "# 各類樣本比例\n",
    "print('類0樣本數量比率為:{} %'.format((df['Response'].value_counts()[0]/len(df))*100))\n",
    "print('類1樣本數量比率為:{} %'.format((df['Response'].value_counts()[1]/len(df))*100))"
   ]
  },
  {
   "cell_type": "code",
   "execution_count": 8,
   "id": "bb653352-4948-4c40-92ab-09537ca641c8",
   "metadata": {
    "execution": {
     "iopub.execute_input": "2022-01-06T09:39:06.639780Z",
     "iopub.status.busy": "2022-01-06T09:39:06.639780Z",
     "iopub.status.idle": "2022-01-06T09:39:06.768464Z",
     "shell.execute_reply": "2022-01-06T09:39:06.767914Z",
     "shell.execute_reply.started": "2022-01-06T09:39:06.639780Z"
    },
    "tags": []
   },
   "outputs": [],
   "source": [
    "X = df.drop(['Id','Response'],axis=1)\n",
    "y = df['Response']\n",
    "X_train, X_test, y_train, y_test = train_test_split(X, y, test_size=0.3, random_state=1, stratify=y)"
   ]
  },
  {
   "cell_type": "code",
   "execution_count": 11,
   "id": "5381cfa0-8020-4da1-8772-e2a0ce8f1652",
   "metadata": {
    "execution": {
     "iopub.execute_input": "2022-01-06T09:39:27.890682Z",
     "iopub.status.busy": "2022-01-06T09:39:27.890682Z",
     "iopub.status.idle": "2022-01-06T09:39:32.803410Z",
     "shell.execute_reply": "2022-01-06T09:39:32.803410Z",
     "shell.execute_reply.started": "2022-01-06T09:39:27.890682Z"
    },
    "tags": []
   },
   "outputs": [
    {
     "data": {
      "text/plain": [
       "XGBClassifier(base_score=0.5, booster='gbtree', colsample_bylevel=1,\n",
       "              colsample_bynode=1, colsample_bytree=1, enable_categorical=False,\n",
       "              eval_metric=['logloss', 'auc', 'error'], gamma=0, gpu_id=-1,\n",
       "              importance_type=None, interaction_constraints='',\n",
       "              learning_rate=0.300000012, max_delta_step=0, max_depth=6,\n",
       "              min_child_weight=1, missing=nan, monotone_constraints='()',\n",
       "              n_estimators=100, n_jobs=16, num_parallel_tree=1,\n",
       "              predictor='auto', random_state=0, reg_alpha=0, reg_lambda=1,\n",
       "              scale_pos_weight=1, subsample=1, tree_method='exact',\n",
       "              use_label_encoder=False, validate_parameters=1, verbosity=None)"
      ]
     },
     "execution_count": 11,
     "metadata": {},
     "output_type": "execute_result"
    }
   ],
   "source": [
    "# fit model no training data\n",
    "model = XGBClassifier(eval_metric=['logloss','auc','error'],use_label_encoder=False)\n",
    "model.fit(X_train, y_train)"
   ]
  },
  {
   "cell_type": "code",
   "execution_count": 12,
   "id": "35467402-a34c-4d4c-968e-d211b44c6a25",
   "metadata": {
    "execution": {
     "iopub.execute_input": "2022-01-06T09:39:43.724401Z",
     "iopub.status.busy": "2022-01-06T09:39:43.723406Z",
     "iopub.status.idle": "2022-01-06T09:39:43.758261Z",
     "shell.execute_reply": "2022-01-06T09:39:43.758261Z",
     "shell.execute_reply.started": "2022-01-06T09:39:43.724401Z"
    },
    "tags": []
   },
   "outputs": [
    {
     "name": "stdout",
     "output_type": "stream",
     "text": [
      "Our MCC is:  -0.0013231311642837257\n"
     ]
    }
   ],
   "source": [
    "y_pred = model.predict(X_test)\n",
    "print('Our MCC is: ', matthews_corrcoef(y_test, y_pred))"
   ]
  },
  {
   "cell_type": "code",
   "execution_count": 13,
   "id": "fd66e7d0-f64a-4956-9e93-2b258a45f5fd",
   "metadata": {
    "execution": {
     "iopub.execute_input": "2022-01-06T09:39:58.498115Z",
     "iopub.status.busy": "2022-01-06T09:39:58.498115Z",
     "iopub.status.idle": "2022-01-06T20:37:46.185823Z",
     "shell.execute_reply": "2022-01-06T20:37:46.185823Z",
     "shell.execute_reply.started": "2022-01-06T09:39:58.498115Z"
    },
    "tags": []
   },
   "outputs": [
    {
     "name": "stdout",
     "output_type": "stream",
     "text": [
      "Fitting 2 folds for each of 9216 candidates, totalling 18432 fits\n",
      "Best parameters: {'colsample_bytree': 0.5, 'learning_rate': 0.1, 'max_depth': 3, 'min_child_weight': 0, 'n_estimators': 150, 'scale_pos_weight': 10, 'subsample': 0.7}\n"
     ]
    }
   ],
   "source": [
    "#model = XGBClassifier(eval_metric=['logloss','auc','error'],use_label_encoder=False)\n",
    "\n",
    "\n",
    "params = { 'n_estimators': [50,100,150,200],\n",
    "           'subsample' :[0.5,0.7,1],\n",
    "           'max_depth': [3,5,7,9],\n",
    "           'learning_rate': [0.01, 0.05, 0.1, 0.2],\n",
    "           'min_child_weight':[0,5,15,300],\n",
    "           'colsample_bytree': [0.5,0.7,1],\n",
    "          'scale_pos_weight':[1,10,100,200]\n",
    "         }\n",
    "\n",
    "#xgb_model = XGBClassifier(eval_metric=['logloss','auc','error'],use_label_encoder=False)\n",
    "xgb_model = XGBClassifier(eval_metric=['logloss','auc','error'],use_label_encoder=False)\n",
    "\n",
    "grid_search = GridSearchCV(estimator=xgb_model, \n",
    "                   param_grid=params,\n",
    "                   scoring=make_scorer(matthews_corrcoef), \n",
    "                   n_jobs=-1,\n",
    "                   verbose=3,\n",
    "                    cv=2)\n",
    "grid_search.fit(X_train, y_train)\n",
    "\n",
    "print(\"Best parameters:\", grid_search.best_params_)"
   ]
  },
  {
   "cell_type": "markdown",
   "id": "f3ae6469-fdef-4724-8657-fdee22dafc83",
   "metadata": {},
   "source": [
    "Fitting 2 folds for each of 9216 candidates, totalling 18432 fits  \n",
    "Best parameters: {'colsample_bytree': 0.5, 'learning_rate': 0.1, 'max_depth': 3, 'min_child_weight': 0, 'n_estimators': 150, 'scale_pos_weight': 10, 'subsample': 0.7}"
   ]
  },
  {
   "cell_type": "code",
   "execution_count": 14,
   "id": "fb2e5a34-528d-4db3-86f0-cb36645d28a5",
   "metadata": {
    "execution": {
     "iopub.execute_input": "2022-01-06T20:37:46.187817Z",
     "iopub.status.busy": "2022-01-06T20:37:46.187817Z",
     "iopub.status.idle": "2022-01-07T19:21:09.949241Z",
     "shell.execute_reply": "2022-01-07T19:21:09.949241Z",
     "shell.execute_reply.started": "2022-01-06T20:37:46.187817Z"
    },
    "tags": []
   },
   "outputs": [
    {
     "name": "stdout",
     "output_type": "stream",
     "text": [
      "Fitting 3 folds for each of 9216 candidates, totalling 27648 fits\n",
      "Best parameters: {'colsample_bytree': 1, 'learning_rate': 0.1, 'max_depth': 3, 'min_child_weight': 15, 'n_estimators': 100, 'scale_pos_weight': 10, 'subsample': 0.7}\n"
     ]
    }
   ],
   "source": [
    "#model = XGBClassifier(eval_metric=['logloss','auc','error'],use_label_encoder=False)\n",
    "\n",
    "\n",
    "params = { 'n_estimators': [50,100,150,200],\n",
    "           'subsample' :[0.5,0.7,1],\n",
    "           'max_depth': [3,5,7,9],\n",
    "           'learning_rate': [0.01, 0.05, 0.1, 0.2],\n",
    "           'min_child_weight':[0,5,15,300],\n",
    "           'colsample_bytree': [0.5,0.7,1],\n",
    "          'scale_pos_weight':[1,10,100,200]\n",
    "         }\n",
    "\n",
    "#xgb_model = XGBClassifier(eval_metric=['logloss','auc','error'],use_label_encoder=False)\n",
    "xgb_model = XGBClassifier(eval_metric=['logloss','auc','error'],use_label_encoder=False)\n",
    "\n",
    "grid_search = GridSearchCV(estimator=xgb_model, \n",
    "                   param_grid=params,\n",
    "                   scoring=make_scorer(matthews_corrcoef), \n",
    "                   n_jobs=-1,\n",
    "                   verbose=3,\n",
    "                    cv=3)\n",
    "grid_search.fit(X_train, y_train)\n",
    "\n",
    "print(\"Best parameters:\", grid_search.best_params_)"
   ]
  },
  {
   "cell_type": "markdown",
   "id": "551d2bc4-0c4f-4958-94e9-50139af09f6f",
   "metadata": {},
   "source": [
    "Fitting 3 folds for each of 9216 candidates, totalling 27648 fits  \n",
    "Best parameters: {'colsample_bytree': 1, 'learning_rate': 0.1, 'max_depth': 3, 'min_child_weight': 15, 'n_estimators': 100, 'scale_pos_weight': 10, 'subsample': 0.7}"
   ]
  },
  {
   "cell_type": "markdown",
   "id": "1ce80ef4-1a52-4dd2-8a5f-7968f0b41026",
   "metadata": {},
   "source": [
    "## baseline model 0"
   ]
  },
  {
   "cell_type": "code",
   "execution_count": 16,
   "id": "e2f94013-fcad-454a-ad77-432c6ddfec95",
   "metadata": {
    "execution": {
     "iopub.execute_input": "2022-01-08T09:57:54.807034Z",
     "iopub.status.busy": "2022-01-08T09:57:54.807034Z",
     "iopub.status.idle": "2022-01-08T09:58:05.043273Z",
     "shell.execute_reply": "2022-01-08T09:58:05.043273Z",
     "shell.execute_reply.started": "2022-01-08T09:57:54.807034Z"
    },
    "tags": []
   },
   "outputs": [
    {
     "data": {
      "text/html": [
       "<div>\n",
       "<style scoped>\n",
       "    .dataframe tbody tr th:only-of-type {\n",
       "        vertical-align: middle;\n",
       "    }\n",
       "\n",
       "    .dataframe tbody tr th {\n",
       "        vertical-align: top;\n",
       "    }\n",
       "\n",
       "    .dataframe thead th {\n",
       "        text-align: right;\n",
       "    }\n",
       "</style>\n",
       "<table border=\"1\" class=\"dataframe\">\n",
       "  <thead>\n",
       "    <tr style=\"text-align: right;\">\n",
       "      <th></th>\n",
       "      <th>Id</th>\n",
       "      <th>L0_S0_F0</th>\n",
       "      <th>L0_S0_F2</th>\n",
       "      <th>L0_S0_F4</th>\n",
       "      <th>L0_S0_F6</th>\n",
       "      <th>L0_S0_F8</th>\n",
       "      <th>L0_S0_F10</th>\n",
       "      <th>L0_S0_F12</th>\n",
       "      <th>L0_S0_F14</th>\n",
       "      <th>L0_S0_F16</th>\n",
       "      <th>...</th>\n",
       "      <th>L3_S33_F3873</th>\n",
       "      <th>L3_S34_F3876</th>\n",
       "      <th>L3_S34_F3878</th>\n",
       "      <th>L3_S34_F3880</th>\n",
       "      <th>L3_S34_F3882</th>\n",
       "      <th>L3_S37_F3944</th>\n",
       "      <th>L3_S37_F3946</th>\n",
       "      <th>L3_S37_F3948</th>\n",
       "      <th>L3_S37_F3950</th>\n",
       "      <th>Response</th>\n",
       "    </tr>\n",
       "  </thead>\n",
       "  <tbody>\n",
       "    <tr>\n",
       "      <th>0</th>\n",
       "      <td>4</td>\n",
       "      <td>0.030</td>\n",
       "      <td>-0.034</td>\n",
       "      <td>-0.197</td>\n",
       "      <td>-0.179</td>\n",
       "      <td>0.118</td>\n",
       "      <td>0.116</td>\n",
       "      <td>-0.015</td>\n",
       "      <td>-0.032</td>\n",
       "      <td>0.020</td>\n",
       "      <td>...</td>\n",
       "      <td>0.0</td>\n",
       "      <td>0.0</td>\n",
       "      <td>0.0</td>\n",
       "      <td>0.0</td>\n",
       "      <td>0.0</td>\n",
       "      <td>0.0</td>\n",
       "      <td>0.0</td>\n",
       "      <td>0.0</td>\n",
       "      <td>0.0</td>\n",
       "      <td>0</td>\n",
       "    </tr>\n",
       "    <tr>\n",
       "      <th>1</th>\n",
       "      <td>6</td>\n",
       "      <td>NaN</td>\n",
       "      <td>NaN</td>\n",
       "      <td>NaN</td>\n",
       "      <td>NaN</td>\n",
       "      <td>NaN</td>\n",
       "      <td>NaN</td>\n",
       "      <td>NaN</td>\n",
       "      <td>NaN</td>\n",
       "      <td>NaN</td>\n",
       "      <td>...</td>\n",
       "      <td>0.0</td>\n",
       "      <td>0.0</td>\n",
       "      <td>0.0</td>\n",
       "      <td>0.0</td>\n",
       "      <td>0.0</td>\n",
       "      <td>0.0</td>\n",
       "      <td>0.0</td>\n",
       "      <td>0.0</td>\n",
       "      <td>0.0</td>\n",
       "      <td>0</td>\n",
       "    </tr>\n",
       "    <tr>\n",
       "      <th>2</th>\n",
       "      <td>7</td>\n",
       "      <td>0.088</td>\n",
       "      <td>0.086</td>\n",
       "      <td>0.003</td>\n",
       "      <td>-0.052</td>\n",
       "      <td>0.161</td>\n",
       "      <td>0.025</td>\n",
       "      <td>-0.015</td>\n",
       "      <td>-0.072</td>\n",
       "      <td>-0.225</td>\n",
       "      <td>...</td>\n",
       "      <td>0.0</td>\n",
       "      <td>0.0</td>\n",
       "      <td>0.0</td>\n",
       "      <td>0.0</td>\n",
       "      <td>0.0</td>\n",
       "      <td>0.0</td>\n",
       "      <td>0.0</td>\n",
       "      <td>0.0</td>\n",
       "      <td>0.0</td>\n",
       "      <td>0</td>\n",
       "    </tr>\n",
       "    <tr>\n",
       "      <th>3</th>\n",
       "      <td>9</td>\n",
       "      <td>-0.036</td>\n",
       "      <td>-0.064</td>\n",
       "      <td>0.294</td>\n",
       "      <td>0.330</td>\n",
       "      <td>0.074</td>\n",
       "      <td>0.161</td>\n",
       "      <td>0.022</td>\n",
       "      <td>0.128</td>\n",
       "      <td>-0.026</td>\n",
       "      <td>...</td>\n",
       "      <td>0.0</td>\n",
       "      <td>0.0</td>\n",
       "      <td>0.0</td>\n",
       "      <td>0.0</td>\n",
       "      <td>0.0</td>\n",
       "      <td>0.0</td>\n",
       "      <td>0.0</td>\n",
       "      <td>0.0</td>\n",
       "      <td>0.0</td>\n",
       "      <td>0</td>\n",
       "    </tr>\n",
       "    <tr>\n",
       "      <th>4</th>\n",
       "      <td>11</td>\n",
       "      <td>-0.055</td>\n",
       "      <td>-0.086</td>\n",
       "      <td>0.294</td>\n",
       "      <td>0.330</td>\n",
       "      <td>0.118</td>\n",
       "      <td>0.025</td>\n",
       "      <td>0.030</td>\n",
       "      <td>0.168</td>\n",
       "      <td>-0.169</td>\n",
       "      <td>...</td>\n",
       "      <td>0.0</td>\n",
       "      <td>0.0</td>\n",
       "      <td>0.0</td>\n",
       "      <td>0.0</td>\n",
       "      <td>0.0</td>\n",
       "      <td>0.0</td>\n",
       "      <td>0.0</td>\n",
       "      <td>0.0</td>\n",
       "      <td>0.0</td>\n",
       "      <td>0</td>\n",
       "    </tr>\n",
       "    <tr>\n",
       "      <th>...</th>\n",
       "      <td>...</td>\n",
       "      <td>...</td>\n",
       "      <td>...</td>\n",
       "      <td>...</td>\n",
       "      <td>...</td>\n",
       "      <td>...</td>\n",
       "      <td>...</td>\n",
       "      <td>...</td>\n",
       "      <td>...</td>\n",
       "      <td>...</td>\n",
       "      <td>...</td>\n",
       "      <td>...</td>\n",
       "      <td>...</td>\n",
       "      <td>...</td>\n",
       "      <td>...</td>\n",
       "      <td>...</td>\n",
       "      <td>...</td>\n",
       "      <td>...</td>\n",
       "      <td>...</td>\n",
       "      <td>...</td>\n",
       "      <td>...</td>\n",
       "    </tr>\n",
       "    <tr>\n",
       "      <th>1183742</th>\n",
       "      <td>2367490</td>\n",
       "      <td>-0.023</td>\n",
       "      <td>0.033</td>\n",
       "      <td>-0.015</td>\n",
       "      <td>-0.016</td>\n",
       "      <td>-0.013</td>\n",
       "      <td>0.070</td>\n",
       "      <td>0.008</td>\n",
       "      <td>-0.032</td>\n",
       "      <td>0.178</td>\n",
       "      <td>...</td>\n",
       "      <td>0.0</td>\n",
       "      <td>0.0</td>\n",
       "      <td>0.0</td>\n",
       "      <td>0.0</td>\n",
       "      <td>0.0</td>\n",
       "      <td>0.0</td>\n",
       "      <td>0.0</td>\n",
       "      <td>0.0</td>\n",
       "      <td>0.0</td>\n",
       "      <td>0</td>\n",
       "    </tr>\n",
       "    <tr>\n",
       "      <th>1183743</th>\n",
       "      <td>2367491</td>\n",
       "      <td>NaN</td>\n",
       "      <td>NaN</td>\n",
       "      <td>NaN</td>\n",
       "      <td>NaN</td>\n",
       "      <td>NaN</td>\n",
       "      <td>NaN</td>\n",
       "      <td>NaN</td>\n",
       "      <td>NaN</td>\n",
       "      <td>NaN</td>\n",
       "      <td>...</td>\n",
       "      <td>0.0</td>\n",
       "      <td>0.0</td>\n",
       "      <td>0.0</td>\n",
       "      <td>0.0</td>\n",
       "      <td>0.0</td>\n",
       "      <td>0.0</td>\n",
       "      <td>0.0</td>\n",
       "      <td>0.0</td>\n",
       "      <td>0.0</td>\n",
       "      <td>0</td>\n",
       "    </tr>\n",
       "    <tr>\n",
       "      <th>1183744</th>\n",
       "      <td>2367492</td>\n",
       "      <td>0.075</td>\n",
       "      <td>0.123</td>\n",
       "      <td>-0.343</td>\n",
       "      <td>-0.325</td>\n",
       "      <td>0.031</td>\n",
       "      <td>0.161</td>\n",
       "      <td>-0.030</td>\n",
       "      <td>-0.232</td>\n",
       "      <td>0.214</td>\n",
       "      <td>...</td>\n",
       "      <td>0.0</td>\n",
       "      <td>0.0</td>\n",
       "      <td>0.0</td>\n",
       "      <td>0.0</td>\n",
       "      <td>0.0</td>\n",
       "      <td>0.0</td>\n",
       "      <td>0.0</td>\n",
       "      <td>0.0</td>\n",
       "      <td>0.0</td>\n",
       "      <td>0</td>\n",
       "    </tr>\n",
       "    <tr>\n",
       "      <th>1183745</th>\n",
       "      <td>2367493</td>\n",
       "      <td>-0.062</td>\n",
       "      <td>-0.019</td>\n",
       "      <td>-0.179</td>\n",
       "      <td>-0.179</td>\n",
       "      <td>-0.100</td>\n",
       "      <td>0.116</td>\n",
       "      <td>0.000</td>\n",
       "      <td>-0.072</td>\n",
       "      <td>0.025</td>\n",
       "      <td>...</td>\n",
       "      <td>0.0</td>\n",
       "      <td>0.0</td>\n",
       "      <td>0.0</td>\n",
       "      <td>0.0</td>\n",
       "      <td>0.0</td>\n",
       "      <td>0.0</td>\n",
       "      <td>0.0</td>\n",
       "      <td>0.0</td>\n",
       "      <td>0.0</td>\n",
       "      <td>0</td>\n",
       "    </tr>\n",
       "    <tr>\n",
       "      <th>1183746</th>\n",
       "      <td>2367495</td>\n",
       "      <td>-0.023</td>\n",
       "      <td>0.019</td>\n",
       "      <td>-0.033</td>\n",
       "      <td>-0.052</td>\n",
       "      <td>0.031</td>\n",
       "      <td>0.161</td>\n",
       "      <td>0.000</td>\n",
       "      <td>-0.032</td>\n",
       "      <td>-0.072</td>\n",
       "      <td>...</td>\n",
       "      <td>0.0</td>\n",
       "      <td>0.0</td>\n",
       "      <td>0.0</td>\n",
       "      <td>0.0</td>\n",
       "      <td>0.0</td>\n",
       "      <td>0.0</td>\n",
       "      <td>0.0</td>\n",
       "      <td>0.0</td>\n",
       "      <td>0.0</td>\n",
       "      <td>0</td>\n",
       "    </tr>\n",
       "  </tbody>\n",
       "</table>\n",
       "<p>1183747 rows × 158 columns</p>\n",
       "</div>"
      ],
      "text/plain": [
       "              Id  L0_S0_F0  L0_S0_F2  L0_S0_F4  L0_S0_F6  L0_S0_F8  L0_S0_F10  \\\n",
       "0              4     0.030    -0.034    -0.197    -0.179     0.118      0.116   \n",
       "1              6       NaN       NaN       NaN       NaN       NaN        NaN   \n",
       "2              7     0.088     0.086     0.003    -0.052     0.161      0.025   \n",
       "3              9    -0.036    -0.064     0.294     0.330     0.074      0.161   \n",
       "4             11    -0.055    -0.086     0.294     0.330     0.118      0.025   \n",
       "...          ...       ...       ...       ...       ...       ...        ...   \n",
       "1183742  2367490    -0.023     0.033    -0.015    -0.016    -0.013      0.070   \n",
       "1183743  2367491       NaN       NaN       NaN       NaN       NaN        NaN   \n",
       "1183744  2367492     0.075     0.123    -0.343    -0.325     0.031      0.161   \n",
       "1183745  2367493    -0.062    -0.019    -0.179    -0.179    -0.100      0.116   \n",
       "1183746  2367495    -0.023     0.019    -0.033    -0.052     0.031      0.161   \n",
       "\n",
       "         L0_S0_F12  L0_S0_F14  L0_S0_F16  ...  L3_S33_F3873  L3_S34_F3876  \\\n",
       "0           -0.015     -0.032      0.020  ...           0.0           0.0   \n",
       "1              NaN        NaN        NaN  ...           0.0           0.0   \n",
       "2           -0.015     -0.072     -0.225  ...           0.0           0.0   \n",
       "3            0.022      0.128     -0.026  ...           0.0           0.0   \n",
       "4            0.030      0.168     -0.169  ...           0.0           0.0   \n",
       "...            ...        ...        ...  ...           ...           ...   \n",
       "1183742      0.008     -0.032      0.178  ...           0.0           0.0   \n",
       "1183743        NaN        NaN        NaN  ...           0.0           0.0   \n",
       "1183744     -0.030     -0.232      0.214  ...           0.0           0.0   \n",
       "1183745      0.000     -0.072      0.025  ...           0.0           0.0   \n",
       "1183746      0.000     -0.032     -0.072  ...           0.0           0.0   \n",
       "\n",
       "         L3_S34_F3878  L3_S34_F3880  L3_S34_F3882  L3_S37_F3944  L3_S37_F3946  \\\n",
       "0                 0.0           0.0           0.0           0.0           0.0   \n",
       "1                 0.0           0.0           0.0           0.0           0.0   \n",
       "2                 0.0           0.0           0.0           0.0           0.0   \n",
       "3                 0.0           0.0           0.0           0.0           0.0   \n",
       "4                 0.0           0.0           0.0           0.0           0.0   \n",
       "...               ...           ...           ...           ...           ...   \n",
       "1183742           0.0           0.0           0.0           0.0           0.0   \n",
       "1183743           0.0           0.0           0.0           0.0           0.0   \n",
       "1183744           0.0           0.0           0.0           0.0           0.0   \n",
       "1183745           0.0           0.0           0.0           0.0           0.0   \n",
       "1183746           0.0           0.0           0.0           0.0           0.0   \n",
       "\n",
       "         L3_S37_F3948  L3_S37_F3950  Response  \n",
       "0                 0.0           0.0         0  \n",
       "1                 0.0           0.0         0  \n",
       "2                 0.0           0.0         0  \n",
       "3                 0.0           0.0         0  \n",
       "4                 0.0           0.0         0  \n",
       "...               ...           ...       ...  \n",
       "1183742           0.0           0.0         0  \n",
       "1183743           0.0           0.0         0  \n",
       "1183744           0.0           0.0         0  \n",
       "1183745           0.0           0.0         0  \n",
       "1183746           0.0           0.0         0  \n",
       "\n",
       "[1183747 rows x 158 columns]"
      ]
     },
     "execution_count": 16,
     "metadata": {},
     "output_type": "execute_result"
    }
   ],
   "source": [
    "df = pd.read_csv('dataset/train_numerical_clean1.csv')\n",
    "df"
   ]
  },
  {
   "cell_type": "code",
   "execution_count": 17,
   "id": "01405c3e-35b5-4475-bd44-9c157e20348e",
   "metadata": {
    "execution": {
     "iopub.execute_input": "2022-01-08T09:58:05.044240Z",
     "iopub.status.busy": "2022-01-08T09:58:05.044240Z",
     "iopub.status.idle": "2022-01-08T09:58:05.075269Z",
     "shell.execute_reply": "2022-01-08T09:58:05.075269Z",
     "shell.execute_reply.started": "2022-01-08T09:58:05.044240Z"
    }
   },
   "outputs": [
    {
     "name": "stdout",
     "output_type": "stream",
     "text": [
      "類0樣本數量:1176868\n",
      "類1樣本數量:6879\n",
      "類0樣本數量比率為:99.41887920307295 %\n",
      "類1樣本數量比率為:0.581120796927046 %\n"
     ]
    }
   ],
   "source": [
    "# 各類樣本數量\n",
    "print('類0樣本數量:{}'.format(df['Response'].value_counts()[0]))\n",
    "print('類1樣本數量:{}'.format(df['Response'].value_counts()[1]))\n",
    "# 各類樣本比例\n",
    "print('類0樣本數量比率為:{} %'.format((df['Response'].value_counts()[0]/len(df))*100))\n",
    "print('類1樣本數量比率為:{} %'.format((df['Response'].value_counts()[1]/len(df))*100))"
   ]
  },
  {
   "cell_type": "code",
   "execution_count": 18,
   "id": "02083f30-bf4a-41a5-8c0a-9a857ff23250",
   "metadata": {
    "execution": {
     "iopub.execute_input": "2022-01-08T09:58:05.076235Z",
     "iopub.status.busy": "2022-01-08T09:58:05.076235Z",
     "iopub.status.idle": "2022-01-08T09:58:06.726166Z",
     "shell.execute_reply": "2022-01-08T09:58:06.726166Z",
     "shell.execute_reply.started": "2022-01-08T09:58:05.076235Z"
    }
   },
   "outputs": [],
   "source": [
    "X = df.drop(['Id','Response'],axis=1)\n",
    "y = df['Response']\n",
    "X_train, X_test, y_train, y_test = train_test_split(X, y, test_size=0.3, random_state=1, stratify=y)"
   ]
  },
  {
   "cell_type": "code",
   "execution_count": 19,
   "id": "f8998142-817d-44fd-9d88-c4d78d6cc402",
   "metadata": {
    "execution": {
     "iopub.execute_input": "2022-01-08T09:58:44.227885Z",
     "iopub.status.busy": "2022-01-08T09:58:44.226888Z",
     "iopub.status.idle": "2022-01-08T09:58:44.235863Z",
     "shell.execute_reply": "2022-01-08T09:58:44.235863Z",
     "shell.execute_reply.started": "2022-01-08T09:58:44.227885Z"
    },
    "tags": []
   },
   "outputs": [],
   "source": [
    "xgb_model_grid_cv2 =XGBClassifier(n_estimators=150,subsample=0.7,max_depth=3,learning_rate=0.1,min_child_weight=0,\n",
    "                            colsample_bytree=0.5,scale_pos_weight=10,eval_metric=['logloss','auc','error'],use_label_encoder=False)\n",
    "\n",
    "xgb_model_grid_cv3 =XGBClassifier(n_estimators=100,subsample=0.7,max_depth=3,learning_rate=0.1,min_child_weight=15,\n",
    "                            colsample_bytree=1,scale_pos_weight=10,eval_metric=['logloss','auc','error'],use_label_encoder=False)"
   ]
  },
  {
   "cell_type": "code",
   "execution_count": 20,
   "id": "84108a1b-e179-4b6d-bf33-73a61f376cf2",
   "metadata": {
    "execution": {
     "iopub.execute_input": "2022-01-08T09:58:45.817133Z",
     "iopub.status.busy": "2022-01-08T09:58:45.817133Z",
     "iopub.status.idle": "2022-01-08T10:00:08.611129Z",
     "shell.execute_reply": "2022-01-08T10:00:08.611129Z",
     "shell.execute_reply.started": "2022-01-08T09:58:45.817133Z"
    },
    "tags": []
   },
   "outputs": [
    {
     "data": {
      "text/plain": [
       "XGBClassifier(base_score=0.5, booster='gbtree', colsample_bylevel=1,\n",
       "              colsample_bynode=1, colsample_bytree=1, enable_categorical=False,\n",
       "              eval_metric=['logloss', 'auc', 'error'], gamma=0, gpu_id=-1,\n",
       "              importance_type=None, interaction_constraints='',\n",
       "              learning_rate=0.1, max_delta_step=0, max_depth=3,\n",
       "              min_child_weight=15, missing=nan, monotone_constraints='()',\n",
       "              n_estimators=100, n_jobs=16, num_parallel_tree=1,\n",
       "              predictor='auto', random_state=0, reg_alpha=0, reg_lambda=1,\n",
       "              scale_pos_weight=10, subsample=0.7, tree_method='exact',\n",
       "              use_label_encoder=False, validate_parameters=1, verbosity=None)"
      ]
     },
     "execution_count": 20,
     "metadata": {},
     "output_type": "execute_result"
    }
   ],
   "source": [
    "xgb_model_grid_cv2.fit(X_train, y_train)\n",
    "xgb_model_grid_cv3.fit(X_train, y_train)"
   ]
  },
  {
   "cell_type": "code",
   "execution_count": 23,
   "id": "6d83e48f-5a89-4502-9798-6eae2c64b422",
   "metadata": {
    "execution": {
     "iopub.execute_input": "2022-01-08T10:01:12.532652Z",
     "iopub.status.busy": "2022-01-08T10:01:12.532652Z",
     "iopub.status.idle": "2022-01-08T10:01:12.914661Z",
     "shell.execute_reply": "2022-01-08T10:01:12.914661Z",
     "shell.execute_reply.started": "2022-01-08T10:01:12.532652Z"
    },
    "tags": []
   },
   "outputs": [
    {
     "name": "stdout",
     "output_type": "stream",
     "text": [
      "Our MCC is:  0.15683264175684677\n"
     ]
    },
    {
     "data": {
      "text/plain": [
       "<AxesSubplot:>"
      ]
     },
     "execution_count": 23,
     "metadata": {},
     "output_type": "execute_result"
    },
    {
     "data": {
      "image/png": "[encoded data removed]",
      "text/plain": [
       "<Figure size 432x288 with 2 Axes>"
      ]
     },
     "metadata": {
      "needs_background": "light"
     },
     "output_type": "display_data"
    }
   ],
   "source": [
    "y_pred_1 = xgb_model_grid_cv2.predict(X_test)\n",
    "print('Our MCC is: ', matthews_corrcoef(y_test, y_pred_1))\n",
    "\n",
    "mat_1 = confusion_matrix(y_test, y_pred_1)\n",
    "sns.heatmap(mat_1,annot=True, cmap='Blues',fmt='g')"
   ]
  },
  {
   "cell_type": "code",
   "execution_count": 24,
   "id": "1633900c-ca26-4e1c-bd30-cc376eff6c8d",
   "metadata": {
    "execution": {
     "iopub.execute_input": "2022-01-08T10:01:16.693781Z",
     "iopub.status.busy": "2022-01-08T10:01:16.693781Z",
     "iopub.status.idle": "2022-01-08T10:01:17.040098Z",
     "shell.execute_reply": "2022-01-08T10:01:17.040098Z",
     "shell.execute_reply.started": "2022-01-08T10:01:16.693781Z"
    },
    "tags": []
   },
   "outputs": [
    {
     "name": "stdout",
     "output_type": "stream",
     "text": [
      "Our MCC is:  0.16050180530317654\n"
     ]
    },
    {
     "data": {
      "text/plain": [
       "<AxesSubplot:>"
      ]
     },
     "execution_count": 24,
     "metadata": {},
     "output_type": "execute_result"
    },
    {
     "data": {
      "image/png": "[encoded data removed]",
      "text/plain": [
       "<Figure size 432x288 with 2 Axes>"
      ]
     },
     "metadata": {
      "needs_background": "light"
     },
     "output_type": "display_data"
    }
   ],
   "source": [
    "y_pred_2 = xgb_model_grid_cv3.predict(X_test)\n",
    "print('Our MCC is: ', matthews_corrcoef(y_test, y_pred_2))\n",
    "\n",
    "mat_2 = confusion_matrix(y_test, y_pred_2)\n",
    "sns.heatmap(mat_2,annot=True, cmap='Blues',fmt='g')"
   ]
  },
  {
   "cell_type": "code",
   "execution_count": null,
   "id": "f5514ccb-0464-4420-b6a7-47fe262932ae",
   "metadata": {},
   "outputs": [],
   "source": []
  },
  {
   "cell_type": "code",
   "execution_count": null,
   "id": "f749da05-c92d-4a81-ab1c-25ab2a8141ce",
   "metadata": {},
   "outputs": [],
   "source": []
  },
  {
   "cell_type": "code",
   "execution_count": null,
   "id": "f9c5310f-e7b6-47d9-b9c5-82b9b9d5f0f4",
   "metadata": {},
   "outputs": [],
   "source": []
  },
  {
   "cell_type": "code",
   "execution_count": null,
   "id": "131b8555-43a6-46ea-99e0-aad1cc5eabed",
   "metadata": {},
   "outputs": [],
   "source": []
  },
  {
   "cell_type": "code",
   "execution_count": null,
   "id": "ce895c9d-6bd1-4d23-83ab-370bd0352867",
   "metadata": {},
   "outputs": [],
   "source": []
  },
  {
   "cell_type": "code",
   "execution_count": null,
   "id": "9701ca7b-fb18-4ded-9da9-2b27250f3c39",
   "metadata": {},
   "outputs": [],
   "source": []
  },
  {
   "cell_type": "code",
   "execution_count": null,
   "id": "4494323c-ce7b-4fba-bc28-7b8cf808f568",
   "metadata": {
    "tags": []
   },
   "outputs": [],
   "source": [
    "#xgb_model_grid.fit(X_train, y_train)"
   ]
  },
  {
   "cell_type": "code",
   "execution_count": null,
   "id": "dba424f8-1301-47b2-87f7-06de8ed3c5ef",
   "metadata": {
    "tags": []
   },
   "outputs": [],
   "source": [
    "# xgb_model_grid.fit(X_train, y_train)\n",
    "# y_pred = xgb_model_grid.predict(X_test)\n",
    "# print('Our MCC is: ', matthews_corrcoef(y_test, y_pred))"
   ]
  }
 ],
 "metadata": {
  "kernelspec": {
   "display_name": "Python 3 (ipykernel)",
   "language": "python",
   "name": "python3"
  },
  "language_info": {
   "codemirror_mode": {
    "name": "ipython",
    "version": 3
   },
   "file_extension": ".py",
   "mimetype": "text/x-python",
   "name": "python",
   "nbconvert_exporter": "python",
   "pygments_lexer": "ipython3",
   "version": "3.8.12"
  }
 },
 "nbformat": 4,
 "nbformat_minor": 5
}
